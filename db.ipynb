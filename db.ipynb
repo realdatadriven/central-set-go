{
 "cells": [
  {
   "attachments": {},
   "cell_type": "markdown",
   "metadata": {},
   "source": [
    "# ADMMIN MODEL"
   ]
  },
  {
   "cell_type": "code",
   "execution_count": 96,
   "metadata": {},
   "outputs": [],
   "source": [
    "from sqlalchemy.dialects.mysql import base \n",
    "base.ischema_names['tinyint'] = base.BOOLEAN\n",
    "base.ischema_names['mediumtext'] = base.TEXT \n",
    "# from sqlalchemy.ext.declarative import declarative_base\n",
    "from sqlalchemy import (\n",
    "    create_engine,\n",
    "    Column,\n",
    "    Integer,\n",
    "    String,\n",
    "    Text,\n",
    "    Time,\n",
    "    DateTime,\n",
    "    Date,\n",
    "    Float,\n",
    "    Boolean,\n",
    "    ForeignKey,\n",
    "    UniqueConstraint\n",
    ")\n",
    "from sqlalchemy.orm import sessionmaker, declarative_base\n",
    "from sqlalchemy import inspect\n",
    "from sqlalchemy import MetaData\n",
    "from sqlalchemy import Table as _Table\n",
    "from sqlalchemy.sql import select, and_\n",
    "from sqlalchemy.sql import insert\n",
    "from sqlalchemy.sql import update\n",
    "from sqlalchemy.sql import delete\n",
    "from sqlalchemy.sql import text\n",
    "#from sqlalchemy.sql.expression import func\n",
    "\n",
    "from sqlalchemy import func\n",
    "import datetime\n",
    "import json\n",
    "import hashlib\n",
    "import os\n",
    "from sqlalchemy.types import TypeDecorator, Unicode\n",
    "import sys\n",
    "from sqlalchemy.engine.url import URL\n",
    "import copy\n",
    "#from sqlalchemy_utils import database_exists, create_database\n",
    "import re\n",
    "import pandas as pd\n",
    "import numpy as np\n",
    "import sqlalchemy as sa\n",
    "#import openpyxl as xl\n",
    "from passlib.hash import pbkdf2_sha256\n",
    "from passlib.context import CryptContext\n",
    "pwd_context = CryptContext(schemes=[\"bcrypt\"], deprecated=\"auto\")\n",
    "from sqlalchemy_utils import database_exists, create_database"
   ]
  },
  {
   "cell_type": "code",
   "execution_count": 97,
   "metadata": {},
   "outputs": [
    {
     "name": "stdout",
     "output_type": "stream",
     "text": [
      "\u001b[2mAudited \u001b[1m1 package\u001b[0m \u001b[2min 1ms\u001b[0m\u001b[0m\n"
     ]
    },
    {
     "name": "stdout",
     "output_type": "stream",
     "text": [
      "Note: you may need to restart the kernel to use updated packages.\n"
     ]
    }
   ],
   "source": [
    "%uv pip install openpyxl"
   ]
  },
  {
   "cell_type": "markdown",
   "metadata": {},
   "source": []
  },
  {
   "attachments": {},
   "cell_type": "markdown",
   "metadata": {},
   "source": [
    "# DB"
   ]
  },
  {
   "cell_type": "code",
   "execution_count": 98,
   "metadata": {},
   "outputs": [],
   "source": [
    "database = 'ADMIN'\n",
    "database_org = 'ADMIN_PROD'"
   ]
  },
  {
   "cell_type": "code",
   "execution_count": 99,
   "metadata": {},
   "outputs": [
    {
     "name": "stdout",
     "output_type": "stream",
     "text": [
      "{'drivername': 'sqlite', 'database': 'database/ADMIN.db'}\n",
      "sqlite:///database/ADMIN.db\n"
     ]
    }
   ],
   "source": [
    "db_conf = {\n",
    "    \"drivername\": \"mysql+pymysql\",\n",
    "    \"username\": \"root\",\n",
    "    \"password\": \"1234\",\n",
    "    \"host\": \"localhost\",\n",
    "    \"port\": 3306,\n",
    "    \"database\": database\n",
    "}\n",
    "db_conf = {\n",
    "    \"drivername\": \"postgresql+psycopg2\",\n",
    "    \"username\": \"postgres\",\n",
    "    \"password\": \"1234\",\n",
    "    \"host\": \"localhost\",\n",
    "    \"port\": 5432,\n",
    "    \"database\": database\n",
    "}\n",
    "db_conf = {\n",
    "    \"drivername\": \"postgresql+psycopg2\",\n",
    "    \"username\": \"postgres.gxcwwqvxbilnyeuleaox\",\n",
    "    \"password\": \"d.f_v449zn-LE8U\",\n",
    "    \"host\": \"aws-0-eu-central-1.pooler.supabase.com\",\n",
    "    \"port\": 5432,\n",
    "    \"database\": database\n",
    "}\n",
    "db_conf = {\n",
    "    \"drivername\": \"sqlite\",\n",
    "    \"database\": \"database/{db}.db\".format(db = database)\n",
    "}\n",
    "print(db_conf)\n",
    "url = URL.create(**db_conf)\n",
    "engine = create_engine(url, echo = False)\n",
    "print(engine.url)\n",
    "try:\n",
    "    if not database_exists(engine.url):\n",
    "        create_database(engine.url)\n",
    "except Exception as e:\n",
    "    print(str(e))"
   ]
  },
  {
   "cell_type": "code",
   "execution_count": 100,
   "metadata": {},
   "outputs": [
    {
     "data": {
      "text/plain": [
       "'/home/clovis/Documents/apps/central-set-go'"
      ]
     },
     "execution_count": 100,
     "metadata": {},
     "output_type": "execute_result"
    }
   ],
   "source": [
    "os.getcwd()"
   ]
  },
  {
   "cell_type": "code",
   "execution_count": 101,
   "metadata": {},
   "outputs": [
    {
     "data": {
      "text/plain": [
       "sqlite:///database/ADMIN.db"
      ]
     },
     "execution_count": 101,
     "metadata": {},
     "output_type": "execute_result"
    }
   ],
   "source": [
    "url"
   ]
  },
  {
   "attachments": {},
   "cell_type": "markdown",
   "metadata": {},
   "source": [
    "# SESSION1"
   ]
  },
  {
   "cell_type": "code",
   "execution_count": 102,
   "metadata": {},
   "outputs": [],
   "source": [
    "Session = sessionmaker(bind = engine, autoflush = False)\n",
    "session = Session()\n",
    "Base = declarative_base()\n",
    "metadata = MetaData()\n",
    "metadata.reflect(engine)\n",
    "inspector = inspect(engine)"
   ]
  },
  {
   "cell_type": "markdown",
   "metadata": {},
   "source": [
    "cols = [str(f).replace('app' + '.','') for f in metadata.tables['app'].c]\n",
    "cols"
   ]
  },
  {
   "cell_type": "code",
   "execution_count": 103,
   "metadata": {},
   "outputs": [],
   "source": [
    "_data = {}"
   ]
  },
  {
   "attachments": {},
   "cell_type": "markdown",
   "metadata": {},
   "source": [
    "# ADMIN DB MODELS"
   ]
  },
  {
   "attachments": {},
   "cell_type": "markdown",
   "metadata": {},
   "source": [
    "## Langs"
   ]
  },
  {
   "cell_type": "code",
   "execution_count": 104,
   "metadata": {},
   "outputs": [],
   "source": [
    "class Lang(Base):\n",
    "    __tablename__ = 'lang'\n",
    "    __table_args__ = {\n",
    "        'extend_existing': True,\n",
    "        'mysql_engine' : 'InnoDB',\n",
    "        'comment'      : 'Languages',\n",
    "        'mysql_charset': 'utf8',\n",
    "        'sqlite_autoincrement': True\n",
    "    }\n",
    "    lang_id     = Column(Integer, primary_key = True, autoincrement = True, comment = \"Lang ID\") # PG , Sequence(\"some_id_seq\", start = 1)\n",
    "    lang        = Column(String(4), unique = True, nullable = False, comment = \"Language\")\n",
    "    lang_desc   = Column(String(200), nullable = True, comment = \"Description\")\n",
    "    created_at  = Column(DateTime, nullable = True, comment = \"Created at\")\n",
    "    updated_at  = Column(DateTime, nullable = True, comment = \"Updated at\")\n",
    "    excluded    = Column(Boolean, default = False, comment = \"Excluded\")"
   ]
  },
  {
   "cell_type": "code",
   "execution_count": 105,
   "metadata": {},
   "outputs": [],
   "source": [
    "now = datetime.datetime.now()\n",
    "_data['lang'] = [\n",
    "    {'lang_id': 1, 'lang': 'en', 'lang_desc': 'English', 'created_at': now, 'updated_at':  now, 'excluded':  False}\n",
    "]"
   ]
  },
  {
   "attachments": {},
   "cell_type": "markdown",
   "metadata": {},
   "source": [
    "## Roles"
   ]
  },
  {
   "cell_type": "code",
   "execution_count": 106,
   "metadata": {},
   "outputs": [],
   "source": [
    "class Role(Base):\n",
    "    __tablename__ = 'role'\n",
    "    __table_args__ = {\n",
    "        'extend_existing': True,\n",
    "        'mysql_engine' : 'InnoDB',\n",
    "        'comment'      : 'Roles',\n",
    "        'mysql_charset': 'utf8',\n",
    "        'sqlite_autoincrement': True\n",
    "    }\n",
    "    role_id     = Column(Integer, primary_key = True, autoincrement = True, comment = \"Role ID\")\n",
    "    role        = Column(String(20), nullable = False, unique = True, comment = \"Role\")\n",
    "    role_desc   = Column(Text, nullable = True, comment = \"Description\")\n",
    "    config      = Column(Text, nullable = True, comment = \"Config\")\n",
    "    created_at  = Column(DateTime, nullable = True, comment = \"Created at\")\n",
    "    updated_at  = Column(DateTime, nullable = True, comment = \"Updated at\")\n",
    "    excluded    = Column(Boolean, default = False, comment = \"Excluded\")"
   ]
  },
  {
   "cell_type": "code",
   "execution_count": 107,
   "metadata": {},
   "outputs": [],
   "source": [
    "def sess_2_dict(sess):\n",
    "    return \"{'\" + re.sub(r'\\s+=', \"': \", re.sub(r',\\s+', \", '\", sess)) + \"}\""
   ]
  },
  {
   "cell_type": "code",
   "execution_count": 108,
   "metadata": {},
   "outputs": [],
   "source": [
    "_data['role'] = [\n",
    "    {'role_id':  1, 'role':  'root', 'role_desc':  'Root role', 'created_at':  now, 'updated_at':  now, 'excluded':  False}\n",
    "]"
   ]
  },
  {
   "attachments": {},
   "cell_type": "markdown",
   "metadata": {},
   "source": [
    "## Users"
   ]
  },
  {
   "cell_type": "code",
   "execution_count": 109,
   "metadata": {},
   "outputs": [],
   "source": [
    "class User(Base):\n",
    "    __tablename__ = 'user'\n",
    "    __table_args__ = {\n",
    "        'extend_existing': True,\n",
    "        'mysql_engine' : 'InnoDB',\n",
    "        'comment'      : 'Users',\n",
    "        'mysql_charset': 'utf8',\n",
    "        'sqlite_autoincrement': True\n",
    "    }\n",
    "    user_id     = Column(Integer, primary_key = True, autoincrement = True, comment = \"User ID\")\n",
    "    username    = Column(String(50), unique = True, nullable = False, comment = \"Username\")\n",
    "    first_name  = Column(String(50), nullable = False, comment = \"Fisrt Name\")\n",
    "    last_name   = Column(String(50), nullable = False, comment = \"Last Name\")\n",
    "    email       = Column(String(50), unique = True, nullable = True, comment = \"Email\")\n",
    "    phone       = Column(String(50), unique = True, nullable = True, comment = \"Phone\")\n",
    "    password    = Column(String(200), nullable = False, comment = \"Password\")\n",
    "    role_id     = Column(Integer, ForeignKey('role.role_id'), comment = \"Default Role ID\")\n",
    "    lang_id     = Column(Integer, ForeignKey('lang.lang_id'), comment = \"Lang ID\")\n",
    "    timezone    = Column(String(50), nullable = True, comment = \"Timezone\")\n",
    "    attach_profile_pic = Column(String(200), nullable = True, comment = \"Profile Picture\")\n",
    "    active      = Column(Boolean, default = True, comment = \"Active\")\n",
    "    created_at  = Column(DateTime, nullable = True, comment = \"Created at\")\n",
    "    updated_at  = Column(DateTime, nullable = True, comment = \"Updated at\")\n",
    "    excluded    = Column(Boolean, default = False, comment = \"Excluded\")"
   ]
  },
  {
   "cell_type": "code",
   "execution_count": 110,
   "metadata": {},
   "outputs": [],
   "source": [
    "def verify_password(plain_password: str, hashed_password: str) -> bool:\n",
    "        return pwd_context.verify(plain_password, hashed_password)\n",
    "def get_password_hash(password: str) -> str:\n",
    "    return pwd_context.hash(password)"
   ]
  },
  {
   "cell_type": "code",
   "execution_count": 111,
   "metadata": {},
   "outputs": [
    {
     "name": "stdout",
     "output_type": "stream",
     "text": [
      "$2b$12$0EsOxkG59ZEljFpFIUhSq.mHYfnrmLssoAePckGeGaG4.Qv2PjmWG\n"
     ]
    }
   ],
   "source": [
    "try:\n",
    "    passw = get_password_hash('1234')\n",
    "    print(passw)\n",
    "except Exception as _err:# pylint: disable=broad-exception-caught\n",
    "    print(str(_err))\n",
    "    passw = ''"
   ]
  },
  {
   "cell_type": "code",
   "execution_count": 112,
   "metadata": {},
   "outputs": [
    {
     "data": {
      "text/plain": [
       "True"
      ]
     },
     "execution_count": 112,
     "metadata": {},
     "output_type": "execute_result"
    }
   ],
   "source": [
    "verify_password('1234', passw)"
   ]
  },
  {
   "cell_type": "markdown",
   "metadata": {},
   "source": [
    "```py\n",
    "passw = hashlib.md5('1234'.encode('utf-8')).hexdigest()\n",
    "passw"
   ]
  },
  {
   "cell_type": "code",
   "execution_count": 113,
   "metadata": {},
   "outputs": [],
   "source": [
    "_data['user'] = [\n",
    "    {'user_id':  1, 'username':  'root', 'first_name':  'Super', 'last_name':  'Admin', 'email':  'root@domain.com', 'password':  passw, 'role_id':  1, 'lang_id':  1, 'active':  True, 'created_at':  now, 'updated_at':  now, 'excluded':  False}\n",
    "]"
   ]
  },
  {
   "attachments": {},
   "cell_type": "markdown",
   "metadata": {},
   "source": [
    "## User Roles"
   ]
  },
  {
   "cell_type": "code",
   "execution_count": 114,
   "metadata": {},
   "outputs": [],
   "source": [
    "class UserRole(Base):\n",
    "    __tablename__ = 'user_role'\n",
    "    __table_args__ = {\n",
    "        'extend_existing': True,\n",
    "        'mysql_engine' : 'InnoDB',\n",
    "        'comment'      : 'User Roles',\n",
    "        'mysql_charset': 'utf8',\n",
    "        'sqlite_autoincrement': True\n",
    "    }\n",
    "    user_role_id = Column(Integer, primary_key = True, autoincrement = True, comment = \"User Role ID\")\n",
    "    user_id      = Column(Integer, ForeignKey('user.user_id'), comment = \"User ID\")\n",
    "    role_id      = Column(Integer, ForeignKey('role.role_id'), comment = \"Role ID\")\n",
    "    active       = Column(Boolean, default = True, comment = \"Active\")\n",
    "    created_at   = Column(DateTime, nullable = True, comment = \"Created at\")\n",
    "    updated_at   = Column(DateTime, nullable = True, comment = \"Updated at\")\n",
    "    excluded     = Column(Boolean, default = False, comment = \"Excluded\")"
   ]
  },
  {
   "attachments": {},
   "cell_type": "markdown",
   "metadata": {},
   "source": [
    "## Apps"
   ]
  },
  {
   "cell_type": "code",
   "execution_count": 115,
   "metadata": {},
   "outputs": [],
   "source": [
    "class App(Base):\n",
    "    __tablename__ = 'app'\n",
    "    __table_args__ = {\n",
    "        'extend_existing': True,\n",
    "        'mysql_engine' : 'InnoDB',\n",
    "        'comment'      : 'Applications',\n",
    "        'mysql_charset': 'utf8',\n",
    "        'sqlite_autoincrement': True\n",
    "    }\n",
    "    app_id      = Column(Integer, primary_key = True, autoincrement = True, comment = \"App ID\")\n",
    "    app         = Column(String(20),  unique = True, nullable = False, comment = \"App Name\")\n",
    "    app_desc    = Column(Text,        nullable = True,  comment = \"Description\")\n",
    "    version     = Column(String(10),  nullable = False, comment = \"Version\")\n",
    "    email       = Column(String(200), nullable = True,  comment = \"Email\")\n",
    "    db          = Column(String(200),  nullable = False, comment = \"Database\")\n",
    "    attach_logo = Column(String(200), nullable = True,  comment = \"Logo\") \n",
    "    config      = Column(Text,        nullable = True,  comment = \"Config\")\n",
    "    user_id     = Column(Integer, ForeignKey('user.user_id'), comment = \"User ID\")\n",
    "    created_at  = Column(DateTime,    nullable = True,  comment = \"Created at\")\n",
    "    updated_at  = Column(DateTime,    nullable = True,  comment = \"Updated at\")\n",
    "    excluded    = Column(Boolean,     default = False,  comment = \"Excluded\")\n",
    "    # UniqueConstraint('app', 'version', name='uix_1')\n"
   ]
  },
  {
   "cell_type": "code",
   "execution_count": 116,
   "metadata": {},
   "outputs": [],
   "source": [
    "appConfig = {}\n",
    "_data['app'] = [\n",
    "    {'app_id':  1, 'app':  'ADMIN', 'app_desc':  'Admin', 'version':  '1.0.0', 'email':  None, 'db':  database, 'attach_logo':  None, 'config':  json.dumps(appConfig, ensure_ascii=False), 'user_id':  1, 'created_at':  now, 'updated_at':  now, 'excluded':  False}\n",
    "]"
   ]
  },
  {
   "attachments": {},
   "cell_type": "markdown",
   "metadata": {},
   "source": [
    "## Menus"
   ]
  },
  {
   "cell_type": "code",
   "execution_count": 117,
   "metadata": {},
   "outputs": [],
   "source": [
    "class Menu(Base):\n",
    "    __tablename__ = 'menu'\n",
    "    __table_args__ = {\n",
    "        'extend_existing': True,\n",
    "        'mysql_engine' : 'InnoDB',\n",
    "        'comment'      : 'Menus',\n",
    "        'mysql_charset': 'utf8',\n",
    "        'sqlite_autoincrement': True\n",
    "    }\n",
    "    menu_id     = Column(Integer, primary_key = True, autoincrement = True, comment = \"Menu ID\")\n",
    "    menu        = Column(String(200), nullable = False, comment = \"Menu\")\n",
    "    menu_desc   = Column(Text, nullable = True, comment = \"Description\")\n",
    "    menu_icon   = Column(String(20), nullable = True, comment = \"Icon\")\n",
    "    menu_order  = Column(Integer, nullable = True, comment = \"Order\")\n",
    "    menu_config = Column(Text, nullable = True, comment = \"Config\")\n",
    "    app_id      = Column(Integer, ForeignKey('app.app_id'), nullable = False, comment = \"App ID\")\n",
    "    user_id     = Column(Integer, ForeignKey('user.user_id'), nullable = False, comment = \"User ID\")\n",
    "    active      = Column(Boolean,  default = True, comment = \"Active\")\n",
    "    created_at  = Column(DateTime, nullable = True, comment = \"Created at\")\n",
    "    updated_at  = Column(DateTime, nullable = True, comment = \"Updated at\")\n",
    "    excluded    = Column(Boolean, default = False, comment = \"Excluded\")"
   ]
  },
  {
   "cell_type": "code",
   "execution_count": 118,
   "metadata": {},
   "outputs": [],
   "source": [
    "_data['menu'] = [\n",
    "    {'menu_id':  1, 'menu':  'Admin', 'menu_desc':  'Admin', 'menu_icon':  'user-group', 'menu_order':  1, 'app_id':  1, 'user_id':  1, 'active':  True, 'created_at':  now, 'updated_at':  now, 'excluded':  False},\n",
    "    {'menu_id':  2, 'menu':  'Params', 'menu_desc':  None, 'menu_icon':  'adjustments', 'menu_order':  2, 'app_id':  1, 'user_id':  1, 'active':  True, 'created_at':  now, 'updated_at':  now, 'excluded':  False},\n",
    "    {'menu_id':  3, 'menu':  'DB | ETL | Report | Quality', 'menu_desc':  None, 'menu_icon':  'circle-stack', 'menu_order':  3, 'app_id':  1, 'user_id':  1, 'active':  True, 'created_at':  now, 'updated_at':  now, 'excluded':  False}\n",
    "]"
   ]
  },
  {
   "attachments": {},
   "cell_type": "markdown",
   "metadata": {},
   "source": [
    "## Tables"
   ]
  },
  {
   "cell_type": "code",
   "execution_count": 119,
   "metadata": {},
   "outputs": [],
   "source": [
    "class Table(Base):\n",
    "    __tablename__ = 'table'\n",
    "    __table_args__ = {\n",
    "        'extend_existing': True,\n",
    "        'mysql_engine'   : 'InnoDB',\n",
    "        'comment'        : 'Tables',\n",
    "        'mysql_charset'  : 'utf8',\n",
    "        'sqlite_autoincrement': True\n",
    "    }\n",
    "    table_id     = Column(Integer, primary_key = True, autoincrement = True, comment = \"Table ID\")\n",
    "    table        = Column(String(50), nullable = False, comment = \"Table\")\n",
    "    table_desc   = Column(String(200), nullable = True, comment = \"Description\")\n",
    "    db           = Column(String(50), nullable = True, comment = \"Database\")\n",
    "    requires_rla = Column(Boolean,  default  = False, comment = \"Requires Row Level Access\")\n",
    "    user_id      = Column(Integer, ForeignKey('user.user_id'), comment = \"User ID\")\n",
    "    created_at   = Column(DateTime, nullable = True, comment = \"Created at\")\n",
    "    updated_at   = Column(DateTime, nullable = True, comment = \"Updated at\")\n",
    "    excluded     = Column(Boolean, default = False, comment = \"Excluded\")"
   ]
  },
  {
   "attachments": {},
   "cell_type": "markdown",
   "metadata": {},
   "source": [
    "## MenuTable"
   ]
  },
  {
   "cell_type": "code",
   "execution_count": 120,
   "metadata": {},
   "outputs": [],
   "source": [
    "class MenuTable(Base):\n",
    "    __tablename__ = 'menu_table'\n",
    "    __table_args__ = {\n",
    "        'extend_existing': True,\n",
    "        'mysql_engine'   : 'InnoDB',\n",
    "        'comment'        : 'Menu Tables',\n",
    "        'mysql_charset'  : 'utf8',\n",
    "        'sqlite_autoincrement': True\n",
    "    }\n",
    "    menu_table_id = Column(Integer, primary_key = True, autoincrement = True, comment = \"Menu Table ID\")\n",
    "    menu_id       = Column(Integer, ForeignKey('menu.menu_id'),   comment = \"Menu ID\")\n",
    "    table_id      = Column(Integer, ForeignKey('table.table_id'), comment = \"Table ID\")\n",
    "    app_id        = Column(Integer, ForeignKey('app.app_id'),     comment = \"App ID\")\n",
    "    user_id       = Column(Integer, ForeignKey('user.user_id'),   comment = \"User ID\")\n",
    "    active        = Column(Boolean,  default  = True,             comment = \"Active\")\n",
    "    requires_rla  = Column(Boolean,  default  = False,            comment = \"Requires Row Level Access\")\n",
    "    menu_table_cnf= Column(Text,     nullable = True,             comment = \"Config\")\n",
    "    created_at    = Column(DateTime, nullable = True,             comment = \"Created at\")\n",
    "    updated_at    = Column(DateTime, nullable = True,             comment = \"Updated at\")\n",
    "    excluded      = Column(Boolean,  default  = False,            comment = \"Excluded\")"
   ]
  },
  {
   "attachments": {},
   "cell_type": "markdown",
   "metadata": {},
   "source": [
    "## RoleApp"
   ]
  },
  {
   "cell_type": "code",
   "execution_count": 121,
   "metadata": {},
   "outputs": [],
   "source": [
    "class RoleApp(Base):\n",
    "    __tablename__ = 'role_app'\n",
    "    __table_args__ = {\n",
    "        'extend_existing': True,\n",
    "        'mysql_engine'   : 'InnoDB',\n",
    "        'comment'        : 'Role Apps',\n",
    "        'mysql_charset'  : 'utf8',\n",
    "        'sqlite_autoincrement': True\n",
    "    }\n",
    "    role_app_id  = Column(Integer, primary_key = True, autoincrement = True, comment = \"Role App ID\")\n",
    "    role_id      = Column(Integer, ForeignKey('role.role_id'), comment = \"Role ID\")\n",
    "    app_id       = Column(Integer, ForeignKey('app.app_id'), comment = \"App ID\")\n",
    "    access       = Column(Boolean, default = True, comment = \"Access\")\n",
    "    user_id      = Column(Integer, ForeignKey('user.user_id'), comment = \"User ID\")\n",
    "    created_at   = Column(DateTime, nullable = True, comment = \"Created at\")\n",
    "    updated_at   = Column(DateTime, nullable = True, comment = \"Updated at\")\n",
    "    excluded     = Column(Boolean, default = False, comment = \"Excluded\")"
   ]
  },
  {
   "attachments": {},
   "cell_type": "markdown",
   "metadata": {},
   "source": [
    "## Role App Menus"
   ]
  },
  {
   "cell_type": "code",
   "execution_count": 122,
   "metadata": {},
   "outputs": [],
   "source": [
    "class RoleAppMenu(Base):\n",
    "    __tablename__ = 'role_app_menu'\n",
    "    __table_args__ = {\n",
    "        'extend_existing': True,\n",
    "        'mysql_engine' : 'InnoDB',\n",
    "        'comment'      : 'Role App Menus',\n",
    "        'mysql_charset': 'utf8',\n",
    "        'sqlite_autoincrement': True\n",
    "    }\n",
    "    role_app_menu_id  = Column(Integer, primary_key = True, autoincrement = True, comment = \"Role App Menu ID\")\n",
    "    role_id      = Column(Integer, ForeignKey('role.role_id'), comment = \"Role ID\")\n",
    "    app_id       = Column(Integer, ForeignKey('app.app_id'), comment = \"App ID\")\n",
    "    menu_id      = Column(Integer, ForeignKey('menu.menu_id'), comment = \"Menu ID\")\n",
    "    access       = Column(Boolean, default = True, comment = \"Access\")\n",
    "    user_id      = Column(Integer, ForeignKey('user.user_id'), comment = \"User ID\")\n",
    "    created_at   = Column(DateTime, nullable = True, comment = \"Created at\")\n",
    "    updated_at   = Column(DateTime, nullable = True, comment = \"Updated at\")\n",
    "    excluded     = Column(Boolean, default = False, comment = \"Excluded\")"
   ]
  },
  {
   "attachments": {},
   "cell_type": "markdown",
   "metadata": {},
   "source": [
    "## Role App Menu Tables"
   ]
  },
  {
   "cell_type": "code",
   "execution_count": 123,
   "metadata": {},
   "outputs": [],
   "source": [
    "class RoleAppMenuTable(Base):\n",
    "    __tablename__ = 'role_app_menu_table'\n",
    "    __table_args__ = {\n",
    "        'extend_existing': True,\n",
    "        'mysql_engine' : 'InnoDB',\n",
    "        'comment'      : 'Role App Menu Tables',\n",
    "        'mysql_charset': 'utf8',\n",
    "        'sqlite_autoincrement': True\n",
    "    }\n",
    "    role_app_menu_table_id = Column(Integer, primary_key = True, autoincrement = True, comment = \"Role App Menu Table ID\")\n",
    "    role_id      = Column(Integer, ForeignKey('role.role_id'), comment = \"Role ID\")\n",
    "    app_id       = Column(Integer, ForeignKey('app.app_id'), comment = \"App ID\")\n",
    "    menu_id      = Column(Integer, ForeignKey('menu.menu_id'), comment = \"Menu ID\")\n",
    "    table_id     = Column(Integer, ForeignKey('table.table_id'), comment = \"Table ID\")\n",
    "    create       = Column(Boolean, default = False, comment = \"Create\")\n",
    "    read         = Column(Boolean, default = False, comment = \"Read\")\n",
    "    update       = Column(Boolean, default = False, comment = \"Update\")\n",
    "    delete       = Column(Boolean, default = False, comment = \"Delete\")\n",
    "    user_id      = Column(Integer, ForeignKey('user.user_id'), comment = \"User ID\")\n",
    "    created_at   = Column(DateTime, nullable = True, comment = \"Created at\")\n",
    "    updated_at   = Column(DateTime, nullable = True, comment = \"Updated at\")\n",
    "    excluded     = Column(Boolean, default = False, comment = \"Excluded\")"
   ]
  },
  {
   "attachments": {},
   "cell_type": "markdown",
   "metadata": {},
   "source": [
    "## Users Logs"
   ]
  },
  {
   "cell_type": "code",
   "execution_count": 124,
   "metadata": {},
   "outputs": [],
   "source": [
    "class UserLog(Base):\n",
    "    __tablename__ = 'user_log'\n",
    "    __table_args__ = {\n",
    "        'extend_existing': True,\n",
    "        'mysql_engine' : 'InnoDB',\n",
    "        'comment'      : 'User Logs',\n",
    "        'mysql_charset': 'utf8',\n",
    "        'sqlite_autoincrement': True\n",
    "    }\n",
    "    user_log_id = Column(Integer, primary_key = True, autoincrement = True, comment = \"User Log ID\")\n",
    "    user_id     = Column(Integer, ForeignKey('user.user_id'), comment = \"User ID\")\n",
    "    action      = Column(String(200), nullable = False, comment = \"Action\")\n",
    "    req_ip      = Column(String(200), nullable = True, comment = \"Request IP\")\n",
    "    req_at      = Column(DateTime, nullable = True, comment = \"Request at\")\n",
    "    req_data    = Column(Text, nullable = True, comment = \"Request Data\")\n",
    "    res_at      = Column(DateTime, nullable = True, comment = \"Response at\")\n",
    "    res_type    = Column(String(200), nullable = True, comment = \"Response Type\")\n",
    "    res_msg     = Column(String(500), nullable = True, comment = \"Response Message\")\n",
    "    res_data    = Column(Text, nullable = True, comment = \"Request Data\")\n",
    "    table       = Column(String(200), nullable = True, comment = \"Table\")\n",
    "    db          = Column(String(200), nullable = True, comment = \"Database\")\n",
    "    row_id      = Column(Integer, nullable = True, comment = \"Database\")\n",
    "    app_id      = Column(Integer, ForeignKey('app.app_id'), comment = \"App ID\")\n",
    "    # old_data    = Column(Text, nullable = True, comment = \"Old Data\")\n",
    "    new_data    = Column(Text, nullable = True, comment = \"New Data\")\n",
    "    created_at  = Column(DateTime, nullable = True, comment = \"Created at\")\n",
    "    updated_at  = Column(DateTime, nullable = True, comment = \"Updated at\")\n",
    "    excluded    = Column(Boolean, default = False, comment = \"Excluded\")"
   ]
  },
  {
   "attachments": {},
   "cell_type": "markdown",
   "metadata": {},
   "source": [
    "## Custom Table"
   ]
  },
  {
   "cell_type": "code",
   "execution_count": 125,
   "metadata": {},
   "outputs": [],
   "source": [
    "class CustomTable(Base):\n",
    "    __tablename__ = 'custom_table'\n",
    "    __table_args__ = {\n",
    "        'extend_existing': True,\n",
    "        'mysql_engine' : 'InnoDB',\n",
    "        'comment'      : 'Custom Table',\n",
    "        'mysql_charset': 'utf8',\n",
    "        'sqlite_autoincrement': True\n",
    "    }\n",
    "    custom_table_id = Column(Integer, primary_key = True, autoincrement = True, comment = \"User Log ID\")\n",
    "    table       = Column(String(200), nullable = True, comment = \"Table\")\n",
    "    db          = Column(String(200), nullable = True, comment = \"Database\")\n",
    "    config      = Column(Text, nullable = True, comment = \"Config\")\n",
    "    app_id      = Column(Integer, ForeignKey('app.app_id'), comment = \"App ID\")\n",
    "    user_id     = Column(Integer, ForeignKey('user.user_id'), comment = \"User ID\")\n",
    "    created_at  = Column(DateTime, nullable = True, comment = \"Created at\")\n",
    "    updated_at  = Column(DateTime, nullable = True, comment = \"Updated at\")\n",
    "    excluded    = Column(Boolean, default = False, comment = \"Excluded\")"
   ]
  },
  {
   "attachments": {},
   "cell_type": "markdown",
   "metadata": {},
   "source": [
    "## Custom Form"
   ]
  },
  {
   "cell_type": "code",
   "execution_count": 126,
   "metadata": {},
   "outputs": [],
   "source": [
    "class CustomForm(Base):\n",
    "    __tablename__ = 'custom_form'\n",
    "    __table_args__ = {\n",
    "        'extend_existing': True,\n",
    "        'mysql_engine' : 'InnoDB',\n",
    "        'comment'      : 'Custom Form',\n",
    "        'mysql_charset': 'utf8',\n",
    "        'sqlite_autoincrement': True\n",
    "    }\n",
    "    custom_form_id = Column(Integer, primary_key = True, autoincrement = True, comment = \"Custom Form ID\")\n",
    "    table       = Column(String(200), nullable = True, comment = \"Table\")\n",
    "    db          = Column(String(200), nullable = True, comment = \"Database\")\n",
    "    config      = Column(Text, nullable = True, comment = \"Config\")\n",
    "    app_id      = Column(Integer, ForeignKey('app.app_id'), comment = \"App ID\")\n",
    "    user_id     = Column(Integer, ForeignKey('user.user_id'), comment = \"User ID\")\n",
    "    created_at  = Column(DateTime, nullable = True, comment = \"Created at\")\n",
    "    updated_at  = Column(DateTime, nullable = True, comment = \"Updated at\")\n",
    "    excluded    = Column(Boolean, default = False, comment = \"Excluded\")"
   ]
  },
  {
   "attachments": {},
   "cell_type": "markdown",
   "metadata": {},
   "source": [
    "## Role Row Level Access"
   ]
  },
  {
   "cell_type": "code",
   "execution_count": 127,
   "metadata": {},
   "outputs": [],
   "source": [
    "class RoleRowLevelAccess(Base):\n",
    "    __tablename__ = 'role_row_level_access'\n",
    "    __table_args__ = {\n",
    "        'extend_existing': True,\n",
    "        'mysql_engine' : 'InnoDB',\n",
    "        'comment'      : 'Role Row Level Access',\n",
    "        'mysql_charset': 'utf8',\n",
    "        'sqlite_autoincrement': True\n",
    "    }\n",
    "    role_row_level_access_id = Column(Integer, primary_key = True, autoincrement = True, comment = \"Role Row Level Access ID\")\n",
    "    role_id     = Column(Integer,  ForeignKey('role.role_id'), comment = \"Role ID\")\n",
    "    row_id      = Column(Integer, nullable = False, comment = \"Row ID\")\n",
    "    table_id    = Column(Integer, ForeignKey('table.table_id'), comment = \"Table ID\")\n",
    "    table       = Column(String(200), nullable = False, comment = \"Table\")\n",
    "    db          = Column(String(200), nullable = False, comment = \"Database\")\n",
    "    user_id     = Column(Integer,  ForeignKey('user.user_id'), comment = \"User ID\")\n",
    "    app_id      = Column(Integer,  ForeignKey('app.app_id'), comment = \"App ID\")\n",
    "    read        = Column(Boolean,  default  = False, comment = \"Read\")\n",
    "    update      = Column(Boolean,  default  = False, comment = \"Update\")\n",
    "    delete      = Column(Boolean,  default  = False, comment = \"Delete\")\n",
    "    share       = Column(Boolean,  default  = False, comment = \"Share\")\n",
    "    created_at  = Column(DateTime, nullable = True,  comment = \"Created at\")\n",
    "    updated_at  = Column(DateTime, nullable = True,  comment = \"Updated at\")\n",
    "    excluded    = Column(Boolean,  default  = False, comment = \"Excluded\")"
   ]
  },
  {
   "attachments": {},
   "cell_type": "markdown",
   "metadata": {},
   "source": [
    "## Column Level Access"
   ]
  },
  {
   "cell_type": "code",
   "execution_count": 128,
   "metadata": {},
   "outputs": [],
   "source": [
    "class ColumnLevelAccess(Base):\n",
    "    __tablename__ = 'column_level_access'\n",
    "    __table_args__ = {\n",
    "        'extend_existing': True,\n",
    "        'mysql_engine' : 'InnoDB',\n",
    "        'comment'      : 'Column Level Access',\n",
    "        'mysql_charset': 'utf8',\n",
    "        'sqlite_autoincrement': True\n",
    "    }\n",
    "    column_level_access_id = Column(Integer, primary_key = True, autoincrement = True, comment = \"Column Level Access ID\")\n",
    "    column      = Column(Integer, nullable = False, comment = \"Column\")\n",
    "    table_id    = Column(Integer, ForeignKey('table.table_id'), comment = \"Table ID\")\n",
    "    table       = Column(String(200), nullable = False, comment = \"Table\")\n",
    "    db          = Column(String(200), nullable = False, comment = \"Database\")\n",
    "    user_id     = Column(Integer, ForeignKey('user.user_id'), comment = \"User ID\")\n",
    "    app_id      = Column(Integer, ForeignKey('app.app_id'), comment = \"App ID\")\n",
    "    create       = Column(Boolean, default = False, comment = \"Create\")\n",
    "    read        = Column(Boolean, default = False, comment = \"Read\")\n",
    "    update      = Column(Boolean, default = False, comment = \"Update\")\n",
    "    created_at  = Column(DateTime, nullable = True, comment = \"Created at\")\n",
    "    updated_at  = Column(DateTime, nullable = True, comment = \"Updated at\")\n",
    "    excluded    = Column(Boolean, default = False, comment = \"Excluded\")"
   ]
  },
  {
   "attachments": {},
   "cell_type": "markdown",
   "metadata": {},
   "source": [
    "## Row Level Access"
   ]
  },
  {
   "cell_type": "code",
   "execution_count": 129,
   "metadata": {},
   "outputs": [],
   "source": [
    "class RowLevelAccess(Base):\n",
    "    __tablename__ = 'row_level_access'\n",
    "    __table_args__ = {\n",
    "        'extend_existing': True,\n",
    "        'mysql_engine' : 'InnoDB',\n",
    "        'comment'      : 'Row Level Access',\n",
    "        'mysql_charset': 'utf8',\n",
    "        'sqlite_autoincrement': True\n",
    "    }\n",
    "    row_level_access_id = Column(Integer, primary_key = True, autoincrement = True, comment = \"Row Level Access ID\")\n",
    "    row_id      = Column(Integer, nullable = False, comment = \"Row ID\")\n",
    "    table_id    = Column(Integer, ForeignKey('table.table_id'), comment = \"Table ID\")\n",
    "    table       = Column(String(200), nullable = False, comment = \"Table\")\n",
    "    db          = Column(String(200), nullable = False, comment = \"Database\")\n",
    "    user_id     = Column(Integer,  ForeignKey('user.user_id'), comment = \"User ID\")\n",
    "    app_id      = Column(Integer,  ForeignKey('app.app_id'), comment = \"App ID\")\n",
    "    read        = Column(Boolean,  default  = False, comment = \"Read\")\n",
    "    update      = Column(Boolean,  default  = False, comment = \"Update\")\n",
    "    delete      = Column(Boolean,  default  = False, comment = \"Delete\")\n",
    "    share       = Column(Boolean,  default  = False, comment = \"Share\")\n",
    "    created_at  = Column(DateTime, nullable = True,  comment = \"Created at\")\n",
    "    updated_at  = Column(DateTime, nullable = True,  comment = \"Updated at\")\n",
    "    excluded    = Column(Boolean,  default  = False, comment = \"Excluded\")"
   ]
  },
  {
   "attachments": {},
   "cell_type": "markdown",
   "metadata": {},
   "source": [
    "## Translate Table"
   ]
  },
  {
   "cell_type": "code",
   "execution_count": 130,
   "metadata": {},
   "outputs": [],
   "source": [
    "class TranslateTable(Base):\n",
    "    __tablename__ = 'translate_table'\n",
    "    __table_args__ = {\n",
    "        'extend_existing': True,\n",
    "        'mysql_engine' : 'InnoDB',\n",
    "        'comment'      : 'Translate Table',\n",
    "        'mysql_charset': 'utf8',\n",
    "        'sqlite_autoincrement': True\n",
    "    }\n",
    "    transl_tbl_id = Column(Integer, primary_key = True, autoincrement = True, comment = \"Translate Table ID\")\n",
    "    table_org_desc  = Column(String(200), nullable = False, comment = \"Table Org. Desc\")\n",
    "    table_transl_desc  = Column(String(200), nullable = False, comment = \"Table Transl. Desc\")\n",
    "    table       = Column(String(200), nullable = False, comment = \"Table\")\n",
    "    db          = Column(String(200), nullable = False, comment = \"Database\")\n",
    "    lang        = Column(String(5), nullable = False, comment = \"Lang\")\n",
    "    user_id     = Column(Integer, ForeignKey('user.user_id'), comment = \"User ID\")\n",
    "    app_id      = Column(Integer, ForeignKey('app.app_id'), comment = \"App ID\")\n",
    "    created_at  = Column(DateTime, nullable = True, comment = \"Created at\")\n",
    "    updated_at  = Column(DateTime, nullable = True, comment = \"Updated at\")\n",
    "    excluded    = Column(Boolean, default = False, comment = \"Excluded\")"
   ]
  },
  {
   "attachments": {},
   "cell_type": "markdown",
   "metadata": {},
   "source": [
    "## Translate Table Fields"
   ]
  },
  {
   "cell_type": "code",
   "execution_count": 131,
   "metadata": {},
   "outputs": [],
   "source": [
    "class TranslateTableField(Base):\n",
    "    __tablename__ = 'translate_table_field'\n",
    "    __table_args__ = {\n",
    "        'extend_existing': True,\n",
    "        'mysql_engine' : 'InnoDB',\n",
    "        'comment'      : 'Translate Table Fields',\n",
    "        'mysql_charset': 'utf8',\n",
    "        'sqlite_autoincrement': True\n",
    "    }\n",
    "    transl_tbl_field_id = Column(Integer, primary_key = True, autoincrement = True, comment = \"Translate Table Field ID\")\n",
    "    field_org_desc      = Column(String(200), nullable = False, comment = \"Field Org. Desc\")\n",
    "    field_transl_desc   = Column(String(200), nullable = False, comment = \"Field Transl. Desc\")\n",
    "    field               = Column(String(200), nullable = False, comment = \"Field\")\n",
    "    table               = Column(String(200), nullable = False, comment = \"Table\")\n",
    "    db                  = Column(String(200), nullable = False, comment = \"Database\")\n",
    "    lang                = Column(String(5),   nullable = False, comment = \"Lang\")\n",
    "    user_id             = Column(Integer, ForeignKey('user.user_id'), comment = \"User ID\")\n",
    "    app_id              = Column(Integer, ForeignKey('app.app_id'), comment = \"App ID\")\n",
    "    created_at          = Column(DateTime,    nullable = True, comment = \"Created at\")\n",
    "    updated_at          = Column(DateTime,    nullable = True, comment = \"Updated at\")\n",
    "    excluded            = Column(Boolean,     default = False, comment = \"Excluded\")"
   ]
  },
  {
   "cell_type": "markdown",
   "metadata": {},
   "source": [
    "## Table Schema"
   ]
  },
  {
   "cell_type": "code",
   "execution_count": 132,
   "metadata": {},
   "outputs": [],
   "source": [
    "class TableSchema(Base):\n",
    "    __tablename__ = 'table_schema'\n",
    "    __table_args__ = {\n",
    "        'extend_existing': True,\n",
    "        'mysql_engine' : 'InnoDB',\n",
    "        'comment'      : 'Table Schema',\n",
    "        'mysql_charset': 'utf8',\n",
    "        'sqlite_autoincrement': True\n",
    "    }\n",
    "    table_schema_id = Column(Integer, primary_key = True, autoincrement = True, comment = \"Table field ID\")\n",
    "    db              = Column(String(200), nullable = False, comment = \"Database\")\n",
    "    table           = Column(String(200), nullable = False, comment = \"Table\")\n",
    "    field           = Column(String(200), nullable = False, comment = \"Field\")\n",
    "    type            = Column(String(200), nullable = False, comment = \"Type\")\n",
    "    comment         = Column(String(200), comment = \"Comment\")\n",
    "    pk              = Column(Boolean, default = False, comment = \"Primary Key\")\n",
    "    autoincrement   = Column(Boolean, default = False, comment = \"Auto Increment\")\n",
    "    nullable        = Column(Boolean, default = False, comment = \"Nullable\")\n",
    "    computed        = Column(Boolean, default = False, comment = \"Nullable\")\n",
    "    default         = Column(Boolean, comment = \"Default\")\n",
    "    fk              = Column(Boolean, default = False, comment = \"Foreign  Key\")\n",
    "    referred_table  = Column(String(200), comment = \"Ref. Table.\")\n",
    "    referred_column = Column(String(200), comment = \"Ref. Column\")\n",
    "    user_id         = Column(Integer, ForeignKey('user.user_id'), comment = \"User ID\")\n",
    "    created_at      = Column(DateTime, nullable = True, comment = \"Created at\")\n",
    "    updated_at      = Column(DateTime, nullable = True, comment = \"Updated at\")\n",
    "    excluded        = Column(Boolean, default = False, comment = \"Excluded\")"
   ]
  },
  {
   "cell_type": "markdown",
   "metadata": {},
   "source": [
    "'field': str(c.name),\n",
    "                'pk': '',\n",
    "                'type': '',\n",
    "                'nullable': '',\n",
    "                'default': '',\n",
    "                'autoincrement': '',\n",
    "                'comment': '',\n",
    "                'computed': '',\n",
    "                'fk': '',\n",
    "                'ref': '',"
   ]
  },
  {
   "cell_type": "markdown",
   "metadata": {},
   "source": [
    "## Jobs scheduling"
   ]
  },
  {
   "cell_type": "code",
   "execution_count": 133,
   "metadata": {},
   "outputs": [],
   "source": [
    "class Cron(Base):\n",
    "    __tablename__ = 'cron'\n",
    "    __table_args__ = {\n",
    "        'extend_existing': True,\n",
    "        'mysql_engine' : 'InnoDB',\n",
    "        'comment'      : 'Jobs scheduling',\n",
    "        'mysql_charset': 'utf8',\n",
    "        'sqlite_autoincrement': True\n",
    "    }\n",
    "    cron_id     = Column(Integer, primary_key = True, autoincrement = True, comment = \"Cron ID\")\n",
    "    cron        = Column(String(50), unique = False, nullable = False, comment = \"Cron\")\n",
    "    cron_desc   = Column(String(200), nullable = False, comment = \"Decription\")\n",
    "    api         = Column(String(200), nullable = False, comment = \"API\")\n",
    "    app_id      = Column(Integer, ForeignKey('app.app_id'), comment = \"App ID\")\n",
    "    db          = Column(String(200),  nullable = True, comment = \"Database\")\n",
    "    table       = Column(String(50),  nullable = True, comment = \"Table\")\n",
    "    active      = Column(Boolean, default = True, comment = \"Active\")\n",
    "    created_at  = Column(DateTime, nullable = True, comment = \"Created at\")\n",
    "    updated_at  = Column(DateTime, nullable = True, comment = \"Updated at\")\n",
    "    excluded    = Column(Boolean, default = False, comment = \"Excluded\")"
   ]
  },
  {
   "cell_type": "code",
   "execution_count": 134,
   "metadata": {},
   "outputs": [],
   "source": [
    "_data['cron'] = [\n",
    "    {'cron_id':  1, 'cron':  '* * * * *', 'cron_desc':  'Backup', 'api':  'buckup', 'app_id': 1, 'db': 'ADMIN', 'active':  True, 'created_at':  now, 'updated_at':  now, 'excluded':  False}\n",
    "]"
   ]
  },
  {
   "cell_type": "markdown",
   "metadata": {},
   "source": [
    "## Jobs scheduling logs"
   ]
  },
  {
   "cell_type": "code",
   "execution_count": 135,
   "metadata": {},
   "outputs": [],
   "source": [
    "class CronLogs(Base):\n",
    "    __tablename__ = 'cron_log'\n",
    "    __table_args__ = {\n",
    "        'extend_existing': True,\n",
    "        'mysql_engine' : 'InnoDB',\n",
    "        'comment'      : 'Jobs scheduling logs',\n",
    "        'mysql_charset': 'utf8',\n",
    "        'sqlite_autoincrement': True\n",
    "    }\n",
    "    cron_log_id  = Column(Integer, primary_key = True, autoincrement = True, comment = \"Cron Log ID\")\n",
    "    cron_id      = Column(Integer, ForeignKey('cron.cron_id'), comment = \"Cron ID\")\n",
    "    cron         = Column(String(50), nullable = False, comment = \"Cron\")\n",
    "    cron_desc    = Column(String(200), nullable = False, comment = \"Decription\")\n",
    "    api          = Column(String(200), nullable = False, comment = \"API\")    \n",
    "    start_at     = Column(DateTime, nullable = True, comment = \"Job Start\")\n",
    "    end_at       = Column(DateTime, nullable = True, comment = \"Job End\") \n",
    "    success      = Column(Boolean, default = True, comment = \"Success\")\n",
    "    cron_msg     = Column(Text, nullable = False, comment = \"Message\")\n",
    "    app_id       = Column(Integer, ForeignKey('app.app_id'), comment = \"App ID\")\n",
    "    db           = Column(String(200), nullable = True, comment = \"Database\")\n",
    "    table        = Column(String(50),  nullable = True, comment = \"Table\")\n",
    "    created_at   = Column(DateTime, nullable = True, comment = \"Created at\")\n",
    "    updated_at   = Column(DateTime, nullable = True, comment = \"Updated at\")\n",
    "    excluded     = Column(Boolean, default = False, comment = \"Excluded\")"
   ]
  },
  {
   "attachments": {},
   "cell_type": "markdown",
   "metadata": {},
   "source": [
    "# REPORTS / BASES"
   ]
  },
  {
   "attachments": {},
   "cell_type": "markdown",
   "metadata": {},
   "source": [
    "## Periodicity"
   ]
  },
  {
   "cell_type": "code",
   "execution_count": 136,
   "metadata": {},
   "outputs": [],
   "source": [
    "class Periodicity(Base):\n",
    "    __tablename__ = 'periodicity'\n",
    "    __table_args__ = {\n",
    "        'extend_existing': True,\n",
    "        'mysql_engine' : 'InnoDB',\n",
    "        'comment'      : 'Periodicity',\n",
    "        'mysql_charset': 'utf8',\n",
    "        'sqlite_autoincrement': True\n",
    "    }\n",
    "    periodicity_id  = Column(Integer, primary_key = True, autoincrement = True, comment = \"Periodicity ID\")\n",
    "    periodicity     = Column(String(100), unique = True, nullable = False, comment = \"Periodicity\")\n",
    "    created_at      = Column(DateTime, nullable = True, comment = \"Created at\")\n",
    "    updated_at      = Column(DateTime, nullable = True, comment = \"Updated at\")\n",
    "    excluded        = Column(Boolean, default = False, comment = \"Excluded\")"
   ]
  },
  {
   "cell_type": "code",
   "execution_count": 137,
   "metadata": {},
   "outputs": [],
   "source": [
    "_data['periodicity'] = [\n",
    "    {'periodicity_id':  1, 'periodicity':  'Daily', 'created_at':  now, 'updated_at':  now, 'excluded':  False},\n",
    "    {'periodicity_id':  2, 'periodicity':  'Monthly', 'created_at':  now, 'updated_at':  now, 'excluded':  False}\n",
    "]"
   ]
  },
  {
   "attachments": {},
   "cell_type": "markdown",
   "metadata": {},
   "source": [
    "## DB | ETL | Report | Quality"
   ]
  },
  {
   "cell_type": "code",
   "execution_count": 138,
   "metadata": {},
   "outputs": [],
   "source": [
    "class ETLReportBase(Base):\n",
    "    __tablename__ = 'etl_report_base'\n",
    "    __table_args__ = {\n",
    "        'extend_existing': True,\n",
    "        'mysql_engine' : 'InnoDB',\n",
    "        'comment'      : 'DB | ETL | Report | Quality',\n",
    "        'mysql_charset': 'utf8',\n",
    "        'sqlite_autoincrement': True\n",
    "    }\n",
    "    etl_report_base_id    = Column(Integer, primary_key = True, autoincrement = True, comment = \"ID\")\n",
    "    etl_report_base       = Column(String(200), unique = True, nullable = False, comment = \"DB | ETL | Report | Quality\")\n",
    "    etl_report_base_desc  = Column(Text, nullable = True, comment = \"Description\")   \n",
    "    attach_etl_rbase_doc  = Column(String(200), nullable = True, comment = \"Documentation\")\n",
    "    periodicity_id        = Column(Integer, ForeignKey('periodicity.periodicity_id'), comment = \"Periodicity\")\n",
    "    database              = Column(String(200), nullable = False, comment = \"Database\")\n",
    "    includes_output       = Column(Boolean, default = True,  comment = \"Includes Output\")\n",
    "    includes_data_quality = Column(Boolean, default = False, comment = \"Includes Data Quality\")\n",
    "    includes_data_reconci = Column(Boolean, default = False, comment = \"Includes Data Reconc.\")\n",
    "    includes_exports      = Column(Boolean, default = True, comment = \"Includes Exports\")\n",
    "    includes_backup       = Column(Boolean, default = True, comment = \"Includes Backup\")\n",
    "    includes_script       = Column(Boolean, default = True, comment = \"Includes Scripts\")\n",
    "    includes_notify       = Column(Boolean, default = True, comment = \"Includes Notefy\")\n",
    "    etl_report_base_conf  = Column(Text,   nullable = True, comment = \"Config\")\n",
    "    active                = Column(Boolean, default = True, comment = \"Active\")\n",
    "    user_id               = Column(Integer, ForeignKey('user.user_id'), comment = \"User ID\")\n",
    "    app_id                = Column(Integer, ForeignKey('app.app_id'), comment = \"App ID\")\n",
    "    created_at            = Column(DateTime, nullable = True, comment = \"Created at\")\n",
    "    updated_at            = Column(DateTime, nullable = True, comment = \"Updated at\")\n",
    "    excluded              = Column(Boolean, default = False, comment = \"Excluded\")"
   ]
  },
  {
   "attachments": {},
   "cell_type": "markdown",
   "metadata": {},
   "source": [
    "## InputType"
   ]
  },
  {
   "cell_type": "code",
   "execution_count": 139,
   "metadata": {},
   "outputs": [],
   "source": [
    "class InputType(Base):\n",
    "    __tablename__ = 'input_type'\n",
    "    __table_args__ = {\n",
    "        'extend_existing': True,\n",
    "        'mysql_engine' : 'InnoDB',\n",
    "        'comment'      : 'Input Type',\n",
    "        'mysql_charset': 'utf8',\n",
    "        'sqlite_autoincrement': True\n",
    "    }\n",
    "    input_type_id  = Column(Integer, primary_key = True, autoincrement = True, comment = \"Input Type ID\")\n",
    "    input_type     = Column(String(100), unique = True, nullable = False, comment = \"Input Type\")\n",
    "    created_at     = Column(DateTime, nullable = True, comment = \"Created at\")\n",
    "    updated_at     = Column(DateTime, nullable = True, comment = \"Updated at\")\n",
    "    excluded       = Column(Boolean, default = False, comment = \"Excluded\")"
   ]
  },
  {
   "cell_type": "code",
   "execution_count": 140,
   "metadata": {},
   "outputs": [],
   "source": [
    "_data['input_type'] = [\n",
    "    {'input_type_id':  1, 'input_type':  'Aux', 'created_at':  now, 'updated_at':  now, 'excluded':  False},\n",
    "    {'input_type_id':  2, 'input_type':  'Main', 'created_at':  now, 'updated_at':  now, 'excluded':  False}\n",
    "]"
   ]
  },
  {
   "attachments": {},
   "cell_type": "markdown",
   "metadata": {},
   "source": [
    "## SourceType"
   ]
  },
  {
   "cell_type": "code",
   "execution_count": 141,
   "metadata": {},
   "outputs": [],
   "source": [
    "class SourceType(Base):\n",
    "    __tablename__ = 'source_type'\n",
    "    __table_args__ = {\n",
    "        'extend_existing': True,\n",
    "        'mysql_engine' : 'InnoDB',\n",
    "        'comment'      : 'Source Type',\n",
    "        'mysql_charset': 'utf8',\n",
    "        'sqlite_autoincrement': True\n",
    "    }\n",
    "    source_type_id = Column(Integer, primary_key = True, autoincrement = True, comment = \"Source Type ID\")\n",
    "    source_type    = Column(String(100), unique = True, nullable = False, comment = \"Souce Type\")\n",
    "    created_at     = Column(DateTime, nullable = True, comment = \"Created at\")\n",
    "    updated_at     = Column(DateTime, nullable = True, comment = \"Updated at\")\n",
    "    excluded       = Column(Boolean, default = False, comment = \"Excluded\")"
   ]
  },
  {
   "cell_type": "code",
   "execution_count": 142,
   "metadata": {},
   "outputs": [],
   "source": [
    "_data['source_type'] = [\n",
    "    {'source_type_id':  1, 'source_type':  'File', 'created_at':  now, 'updated_at':  now, 'excluded':  False},\n",
    "    {'source_type_id':  2, 'source_type':  'Database', 'created_at':  now, 'updated_at':  now, 'excluded':  False},\n",
    "    {'source_type_id':  3, 'source_type':  'FTP', 'created_at':  now, 'updated_at':  now, 'excluded':  False},\n",
    "    {'source_type_id':  4, 'source_type':  'eMail', 'created_at':  now, 'updated_at':  now, 'excluded':  False},\n",
    "    {'source_type_id':  5, 'source_type':  'FileSystem', 'created_at':  now, 'updated_at':  now, 'excluded':  False}\n",
    "]"
   ]
  },
  {
   "attachments": {},
   "cell_type": "markdown",
   "metadata": {},
   "source": [
    "## INPUT"
   ]
  },
  {
   "cell_type": "code",
   "execution_count": 143,
   "metadata": {},
   "outputs": [],
   "source": [
    "class ETLReportBaseInput(Base):\n",
    "    __tablename__ = 'etl_rbase_input'\n",
    "    __table_args__ = {\n",
    "        'extend_existing': True,\n",
    "        'mysql_engine' : 'InnoDB',\n",
    "        'comment'      : 'Inputs',\n",
    "        'mysql_charset': 'utf8',\n",
    "        'sqlite_autoincrement': True\n",
    "    }\n",
    "    etl_rbase_input_id    = Column(Integer, primary_key = True, autoincrement = True, comment = \"ID\")\n",
    "    etl_rbase_input       = Column(String(200), nullable = False, comment = \"Input\")\n",
    "    etl_rbase_input_desc  = Column(Text, nullable = True, comment = \"Input Description\")\n",
    "    etl_report_base_id    = Column(Integer, ForeignKey('etl_report_base.etl_report_base_id'), nullable = False, comment = \"DB | ETL | Report | Quality ID\")\n",
    "    input_type_id         = Column(Integer, ForeignKey('input_type.input_type_id'), comment = \"Input Type ID\")\n",
    "    save_only_temp        = Column(Boolean, default = True, comment = \"Save only temp\")\n",
    "    replace_existing_data = Column(Boolean, default = False, comment = \"Replace existing data\")\n",
    "    check_ref_date        = Column(Boolean, default = False, comment = \"Check ref. date\")\n",
    "    ref_date_field        = Column(String(200), nullable = True, comment = \"Ref. date field\")\n",
    "    date_format_org       = Column(String(200), nullable = True, comment = \"Date Format in origin\")\n",
    "    other_date_fields     = Column(String(200), nullable = True, comment = \"Other Date Fields\")\n",
    "    ref_id_keys           = Column(String(200), nullable = True, comment = \"Reference / Id Keys\")\n",
    "    last_update_date_field= Column(String(200), nullable = True, comment = \"Last update date field\")\n",
    "    incremental_extract   = Column(Boolean, default = False, comment = \"Incremental Extraction\")\n",
    "    destination_table     = Column(String(200), nullable = False, comment = \"Destination Table\")\n",
    "    database              = Column(String(200), nullable = False, comment = \"Database\")\n",
    "    allow_import          = Column(Boolean, default = True, comment = \"Allow Import\")\n",
    "    multiple_sheets       = Column(Boolean, default = False, comment = \"Multiple Sheets\")\n",
    "    specific_sheets       = Column(String(200), nullable = True, comment = \"Specific Sheets\")\n",
    "    specific_range        = Column(String(200), nullable = True, comment = \"Specific Range\")\n",
    "    columns_to_import     = Column(String(200), nullable = True, comment = \"Columns to Import\")\n",
    "    txt_fix_format_layout = Column(String(200), nullable = True, comment = \"Text with fixed format Layout\")\n",
    "    headers               = Column(String(200), nullable = True, comment = \"Headers\")\n",
    "    spreadsheet_forms     = Column(Boolean, default = False, comment = \"Spreadsheet Forms\")\n",
    "    spreadsheet_forms_map = Column(String(200), nullable = True, comment = \"Spreadsheet Forms Map\")\n",
    "    etl_rbase_input_conf  = Column(Text, nullable = True, comment = \"Config\")\n",
    "    active                = Column(Boolean, default = True, comment = \"Active\")\n",
    "    user_id               = Column(Integer, ForeignKey('user.user_id'), comment = \"User ID\")\n",
    "    app_id                = Column(Integer, ForeignKey('app.app_id'), comment = \"App ID\")\n",
    "    created_at            = Column(DateTime, nullable = True, comment = \"Created at\")\n",
    "    updated_at            = Column(DateTime, nullable = True, comment = \"Updated at\")\n",
    "    excluded              = Column(Boolean, default = False, comment = \"Excluded\")"
   ]
  },
  {
   "attachments": {},
   "cell_type": "markdown",
   "metadata": {},
   "source": [
    "## Output Type"
   ]
  },
  {
   "cell_type": "code",
   "execution_count": 144,
   "metadata": {},
   "outputs": [],
   "source": [
    "class OutputType(Base):\n",
    "    __tablename__ = 'output_type'\n",
    "    __table_args__ = {\n",
    "        'extend_existing': True,\n",
    "        'mysql_engine' : 'InnoDB',\n",
    "        'comment'      : 'Output Type',\n",
    "        'mysql_charset': 'utf8',\n",
    "        'sqlite_autoincrement': True\n",
    "    }\n",
    "    output_type_id  = Column(Integer, primary_key = True, autoincrement = True, comment = \"Output Type ID\")\n",
    "    output_type     = Column(String(100), unique = True, nullable = False, comment = \"Souce Type\")\n",
    "    created_at      = Column(DateTime, nullable = True, comment = \"Created at\")\n",
    "    updated_at      = Column(DateTime, nullable = True, comment = \"Updated at\")\n",
    "    excluded        = Column(Boolean, default = False, comment = \"Excluded\")"
   ]
  },
  {
   "cell_type": "code",
   "execution_count": 145,
   "metadata": {},
   "outputs": [],
   "source": [
    "_data['output_type'] = [\n",
    "    {'output_type_id':  1, 'output_type':  'Table', 'created_at':  now, 'updated_at':  now, 'excluded':  False},\n",
    "    {'output_type_id':  2, 'output_type':  'View', 'created_at':  now, 'updated_at':  now, 'excluded':  False}\n",
    "]"
   ]
  },
  {
   "attachments": {},
   "cell_type": "markdown",
   "metadata": {},
   "source": [
    "## OUTPUT"
   ]
  },
  {
   "cell_type": "code",
   "execution_count": 146,
   "metadata": {},
   "outputs": [],
   "source": [
    "class ETLReportBaseOutput(Base):\n",
    "    __tablename__ = 'etl_rbase_output'\n",
    "    __table_args__ = {\n",
    "        'extend_existing': True,\n",
    "        'mysql_engine' : 'InnoDB',\n",
    "        'comment'      : 'Outputs',\n",
    "        'mysql_charset': 'utf8',\n",
    "        'sqlite_autoincrement': True\n",
    "    }\n",
    "    etl_rbase_output_id    = Column(Integer, primary_key = True, autoincrement = True, comment = \"ID\")\n",
    "    etl_rbase_output       = Column(String(200), unique = False, nullable = False, comment = \"Output\")\n",
    "    etl_rbase_output_desc  = Column(Text, nullable = True, comment = \"Output Description\")\n",
    "    etl_report_base_id     = Column(Integer, ForeignKey('etl_report_base.etl_report_base_id'), nullable = False, comment = \"DB | ETL | Report | Quality ID\")\n",
    "    output_type_id         = Column(Integer, ForeignKey('output_type.output_type_id'), comment = \"Input Type ID\")\n",
    "    date_field             = Column(String(200), nullable = True, comment = \"Date field\")\n",
    "    date_field_format      = Column(String(200), nullable = True, comment = \"Date Format\")\n",
    "    destination_table      = Column(String(200), nullable = False, comment = \"Destination Table\")\n",
    "    database               = Column(String(200), nullable = False, comment = \"Database\")\n",
    "    append_it              = Column(Boolean, default = False, comment = \"Append\")\n",
    "    output_order           = Column(Integer, nullable = True, comment = \"Field Order\")\n",
    "    etl_rbase_output_conf  = Column(Text, nullable = True, comment = \"Config\")\n",
    "    active                 = Column(Boolean, default = True, comment = \"Active\")\n",
    "    user_id                = Column(Integer, ForeignKey('user.user_id'), comment = \"User ID\")\n",
    "    app_id                 = Column(Integer, ForeignKey('app.app_id'), comment = \"App ID\")\n",
    "    created_at             = Column(DateTime, nullable = True, comment = \"Created at\")\n",
    "    updated_at             = Column(DateTime, nullable = True, comment = \"Updated at\")\n",
    "    excluded               = Column(Boolean, default = False, comment = \"Excluded\")"
   ]
  },
  {
   "attachments": {},
   "cell_type": "markdown",
   "metadata": {},
   "source": [
    "## OUTPUT FIELDS"
   ]
  },
  {
   "cell_type": "code",
   "execution_count": 147,
   "metadata": {},
   "outputs": [],
   "source": [
    "class ETLReportBaseOutputFields(Base):\n",
    "    __tablename__ = 'etl_rb_output_field'\n",
    "    __table_args__ = {\n",
    "        'extend_existing': True,\n",
    "        'mysql_engine' : 'InnoDB',\n",
    "        'comment'      : 'Output Fields',\n",
    "        'mysql_charset': 'utf8',\n",
    "        'sqlite_autoincrement': True\n",
    "    }\n",
    "    etl_rb_output_field_id    = Column(Integer, primary_key = True, autoincrement = True, comment = \"ID\")\n",
    "    etl_rb_output_field       = Column(String(200), nullable = False, comment = \"Field\")\n",
    "    etl_rb_output_field_desc  = Column(Text, nullable = True, comment = \"Field Description\")\n",
    "    etl_rbase_output_id       = Column(Integer, ForeignKey('etl_rbase_output.etl_rbase_output_id'), nullable = False, comment = \"Output ID\")\n",
    "    sql_select                = Column(Text, nullable = False, comment = \"SELECT\")\n",
    "    sql_from                  = Column(Text, nullable = True,  comment = \"FROM\")\n",
    "    sql_join                  = Column(Text, nullable = True,  comment = \"JOIN\")\n",
    "    sql_where                 = Column(Text, nullable = True,  comment = \"WHERE\")\n",
    "    sql_group_by              = Column(Text, nullable = True,  comment = \"GROUP BY\")\n",
    "    sql_order_by              = Column(Text, nullable = True,  comment = \"ORDER BY\")\n",
    "    sql_window                = Column(Text, nullable = True,  comment = \"WINDOW\")\n",
    "    sql_having                = Column(Text, nullable = True,  comment = \"HAVING\")\n",
    "    field_order               = Column(Integer, nullable = True, comment = \"Field Order\")\n",
    "    fields_used               = Column(Text, nullable = True, comment = \"Fields Used\")\n",
    "    etl_report_base_id        = Column(Integer, ForeignKey('etl_report_base.etl_report_base_id'), comment = \"DB | ETL | Report | Quality ID\")\n",
    "    active                    = Column(Boolean, default = True, comment = \"Active\")\n",
    "    user_id                   = Column(Integer, ForeignKey('user.user_id'), comment = \"User ID\")\n",
    "    app_id                    = Column(Integer, ForeignKey('app.app_id'), comment = \"App ID\")\n",
    "    created_at                = Column(DateTime, nullable = True, comment = \"Created at\")\n",
    "    updated_at                = Column(DateTime, nullable = True, comment = \"Updated at\")\n",
    "    excluded                  = Column(Boolean, default = False, comment = \"Excluded\")"
   ]
  },
  {
   "attachments": {},
   "cell_type": "markdown",
   "metadata": {},
   "source": [
    "## DATA QUALITY"
   ]
  },
  {
   "cell_type": "code",
   "execution_count": 148,
   "metadata": {},
   "outputs": [],
   "source": [
    "class ETLReportBaseDataQuality(Base):\n",
    "    __tablename__ = 'etl_rbase_quality'\n",
    "    __table_args__ = {\n",
    "        'extend_existing': True,\n",
    "        'mysql_engine' : 'InnoDB',\n",
    "        'comment'      : 'Data Quality',\n",
    "        'mysql_charset': 'utf8',\n",
    "        'sqlite_autoincrement': True\n",
    "    }\n",
    "    etl_rbase_quality_id   = Column(Integer, primary_key = True, autoincrement = True, comment = \"ID\")\n",
    "    etl_rbase_quality      = Column(String(200), unique = False, nullable = False, comment = \"Data Quality Rule\")\n",
    "    etl_rbase_quality_desc = Column(Text, nullable = True, comment = \"Rule Description\")\n",
    "    etl_report_base_id     = Column(Integer, ForeignKey('etl_report_base.etl_report_base_id'), nullable = False, comment = \"DB | ETL | Report | Quality ID\")\n",
    "    sql_quality_check      = Column(Text, nullable = False, comment = \"SQL Quality Check\")\n",
    "    sql_quality_fix        = Column(Text, nullable = True, comment = \"SQL Quality Fix\")\n",
    "    comments               = Column(Text, nullable = True, comment = \"Comments / Justifications\")\n",
    "    fields                 = Column(Text, nullable = True, comment = \"Fields\")\n",
    "    tables                 = Column(Text, nullable = True, comment = \"Tables\")\n",
    "    database               = Column(String(200), nullable = False, comment = \"Database\")\n",
    "    etl_rbase_quality_conf = Column(Text, nullable = True, comment = \"Rule Description\")\n",
    "    active                 = Column(Boolean, default = True, comment = \"Active\")\n",
    "    user_id                = Column(Integer, ForeignKey('user.user_id'), comment = \"User ID\")\n",
    "    app_id                 = Column(Integer, ForeignKey('app.app_id'), comment = \"App ID\")\n",
    "    created_at             = Column(DateTime, nullable = True, comment = \"Created at\")\n",
    "    updated_at             = Column(DateTime, nullable = True, comment = \"Updated at\")\n",
    "    excluded               = Column(Boolean, default = False, comment = \"Excluded\")"
   ]
  },
  {
   "attachments": {},
   "cell_type": "markdown",
   "metadata": {},
   "source": [
    "## RECONCILIATION"
   ]
  },
  {
   "cell_type": "code",
   "execution_count": 149,
   "metadata": {},
   "outputs": [],
   "source": [
    "class ETLReportBaseDataReconciliation(Base):\n",
    "    __tablename__ = 'etl_rb_reconcilia'\n",
    "    __table_args__ = {\n",
    "        'extend_existing': True,\n",
    "        'mysql_engine' : 'InnoDB',\n",
    "        'comment'      : 'Data Reconciliation',\n",
    "        'mysql_charset': 'utf8',\n",
    "        'sqlite_autoincrement': True\n",
    "    }\n",
    "    etl_rb_reconcilia_id   = Column(Integer, primary_key = True, autoincrement = True, comment = \"ID\")\n",
    "    etl_rb_reconcilia      = Column(String(200), unique = False, nullable = False, comment = \"Data Reconciliation Rule\")\n",
    "    etl_rb_reconcilia_desc = Column(Text, nullable = True, comment = \"Rule Description\")\n",
    "    etl_rb_reconc_template = Column(Text, nullable = True, comment = \"Template\")\n",
    "    database               = Column(String(200), nullable = False, comment = \"Database\")\n",
    "    active                 = Column(Boolean, default = True, comment = \"Active\")\n",
    "    etl_report_base_id     = Column(Integer, ForeignKey('etl_report_base.etl_report_base_id'), nullable = False, comment = \"DB | ETL | Report | Quality ID\")\n",
    "    user_id                = Column(Integer, ForeignKey('user.user_id'), comment = \"User ID\")\n",
    "    app_id                 = Column(Integer, ForeignKey('app.app_id'), comment = \"App ID\")\n",
    "    created_at             = Column(DateTime, nullable = True, comment = \"Created at\")\n",
    "    updated_at             = Column(DateTime, nullable = True, comment = \"Updated at\")\n",
    "    excluded               = Column(Boolean, default = False, comment = \"Excluded\")"
   ]
  },
  {
   "attachments": {},
   "cell_type": "markdown",
   "metadata": {},
   "source": [
    "## RECONCILIATION DEATILS"
   ]
  },
  {
   "cell_type": "code",
   "execution_count": 150,
   "metadata": {},
   "outputs": [],
   "source": [
    "class ETLReportBaseDataReconciDetail(Base):\n",
    "    __tablename__ = 'etl_rb_reconc_dtail'\n",
    "    __table_args__ = {\n",
    "        'extend_existing': True,\n",
    "        'mysql_engine' : 'InnoDB',\n",
    "        'comment'      : 'Data Reconciliation',\n",
    "        'mysql_charset': 'utf8',\n",
    "        'sqlite_autoincrement': True\n",
    "    }\n",
    "    etl_rb_reconc_dtail_id   = Column(Integer, primary_key = True, autoincrement = True, comment = \"ID\")\n",
    "    etl_rb_reconc_dtail      = Column(String(50), nullable = False, comment = \"Variable Name\")\n",
    "    etl_rb_reconc_dtail_desc = Column(String(200), nullable = False, comment = \"Var. Description\")\n",
    "    sql_query_val_1          = Column(Text, nullable = True, comment = \"SQL Query Valor 1\")\n",
    "    sql_query_val_2          = Column(Text, nullable = True, comment = \"SQL Query Valor 2\")\n",
    "    is_eval_formula          = Column(Boolean, default = True, comment = \"Is Eval Formula\")\n",
    "    sql_reconcilia_query     = Column(Text, nullable = True, comment = \"SQL / Formula Reconc\")\n",
    "    comments                 = Column(Text, nullable = True, comment = \"Comments / Justifications\")\n",
    "    etl_rb_reconcilia_id     = Column(Integer, ForeignKey('etl_rb_reconcilia.etl_rb_reconcilia_id'), nullable = False, comment = \"Data Reconciliation ID\")\n",
    "    etl_report_base_id       = Column(Integer, ForeignKey('etl_report_base.etl_report_base_id'), comment = \"DB | ETL | Report | Quality ID\")\n",
    "    active                   = Column(Boolean, default = True, comment = \"Active\")\n",
    "    user_id                  = Column(Integer, ForeignKey('user.user_id'), comment = \"User ID\")\n",
    "    app_id                   = Column(Integer, ForeignKey('app.app_id'), comment = \"App ID\")\n",
    "    created_at               = Column(DateTime, nullable = True, comment = \"Created at\")\n",
    "    updated_at               = Column(DateTime, nullable = True, comment = \"Updated at\")\n",
    "    excluded                 = Column(Boolean, default = False, comment = \"Excluded\")"
   ]
  },
  {
   "attachments": {},
   "cell_type": "markdown",
   "metadata": {},
   "source": [
    "## Export Type"
   ]
  },
  {
   "cell_type": "code",
   "execution_count": 151,
   "metadata": {},
   "outputs": [],
   "source": [
    "class ExportType(Base):\n",
    "    __tablename__ = 'export_type'\n",
    "    __table_args__ = {\n",
    "        'extend_existing': True,\n",
    "        'mysql_engine' : 'InnoDB',\n",
    "        'comment'      : 'Export Type',\n",
    "        'mysql_charset': 'utf8',\n",
    "        'sqlite_autoincrement': True\n",
    "    }\n",
    "    export_type_id  = Column(Integer, primary_key = True, autoincrement = True, comment = \"Export Type ID\")\n",
    "    export_type     = Column(String(100), unique = True, nullable = False, comment = \"Export Type\")\n",
    "    created_at      = Column(DateTime, nullable = True, comment = \"Created at\")\n",
    "    updated_at      = Column(DateTime, nullable = True, comment = \"Updated at\")\n",
    "    excluded        = Column(Boolean, default = False, comment = \"Excluded\")"
   ]
  },
  {
   "cell_type": "code",
   "execution_count": 152,
   "metadata": {},
   "outputs": [],
   "source": [
    "_data['export_type'] = [\n",
    "    {'export_type_id':  1, 'export_type':  'File', 'created_at':  now, 'updated_at':  now, 'excluded':  False},\n",
    "    {'export_type_id':  2, 'export_type':  'Template', 'created_at':  now, 'updated_at':  now, 'excluded':  False}\n",
    "]"
   ]
  },
  {
   "attachments": {},
   "cell_type": "markdown",
   "metadata": {},
   "source": [
    "## EXPORTS"
   ]
  },
  {
   "cell_type": "code",
   "execution_count": 153,
   "metadata": {},
   "outputs": [],
   "source": [
    "class ETLReportBaseExport(Base):\n",
    "    __tablename__ = 'etl_rbase_export'\n",
    "    __table_args__ = {\n",
    "        'extend_existing': True,\n",
    "        'mysql_engine' : 'InnoDB',\n",
    "        'comment'      : 'Exports',\n",
    "        'mysql_charset': 'utf8',\n",
    "        'sqlite_autoincrement': True\n",
    "    }\n",
    "    etl_rbase_export_id    = Column(Integer, primary_key = True, autoincrement = True, comment = \"ID\")\n",
    "    etl_rbase_export       = Column(String(200), unique = False, nullable = False, comment = \"Export\")\n",
    "    etl_rbase_export_desc  = Column(Text, nullable = True, comment = \"Export Description\")\n",
    "    etl_report_base_id     = Column(Integer, ForeignKey('etl_report_base.etl_report_base_id'), nullable = False, comment = \"DB | ETL | Report | Quality ID\")\n",
    "    export_type_id         = Column(Integer, ForeignKey('export_type.export_type_id'), nullable = False, comment = \"Export ID\")\n",
    "    attach_file_template   = Column(String(200), nullable = False, comment = \"File name / Template\")\n",
    "    txt_fix_format_layout  = Column(Text, nullable = True, comment = \"Text with fixed format Layout\")\n",
    "    txt_fix_format_header  = Column(Text, nullable = True, comment = \"Text with fixed format Headers\")\n",
    "    etl_rbase_export_conf  = Column(Text, nullable = True, comment = \"Config\")\n",
    "    etl_rbase_output_id    = Column(Integer, ForeignKey('etl_rbase_output.etl_rbase_output_id'), nullable = True, comment = \"Output ID\")\n",
    "    database               = Column(String(200), nullable = False, comment = \"Database\")\n",
    "    active                 = Column(Boolean, default = True, comment = \"Active\")\n",
    "    ignore                 = Column(Boolean, default = False, comment = \"Ignore\")\n",
    "    user_id                = Column(Integer, ForeignKey('user.user_id'), comment = \"User ID\")\n",
    "    app_id                 = Column(Integer, ForeignKey('app.app_id'), comment = \"App ID\")\n",
    "    created_at             = Column(DateTime, nullable = True, comment = \"Created at\")\n",
    "    updated_at             = Column(DateTime, nullable = True, comment = \"Updated at\")\n",
    "    excluded               = Column(Boolean, default = False, comment = \"Excluded\")"
   ]
  },
  {
   "attachments": {},
   "cell_type": "markdown",
   "metadata": {},
   "source": [
    "## EXPORTS DETAILS"
   ]
  },
  {
   "cell_type": "code",
   "execution_count": 154,
   "metadata": {},
   "outputs": [],
   "source": [
    "class ETLReportBaseExportDetail(Base):\n",
    "    __tablename__ = 'etl_rb_exp_dtail'\n",
    "    __table_args__ = {\n",
    "        'extend_existing': True,\n",
    "        'mysql_engine' : 'InnoDB',\n",
    "        'comment'      : 'Export Details',\n",
    "        'mysql_charset': 'utf8',\n",
    "        'sqlite_autoincrement': True\n",
    "    }\n",
    "    etl_rb_exp_dtail_id    = Column(Integer, primary_key = True, autoincrement = True, comment = \"ID\")\n",
    "    etl_rb_exp_dtail       = Column(String(200), unique = False, nullable = False, comment = \"Export Detail\")\n",
    "    etl_rb_exp_dtail_desc  = Column(Text, nullable = True, comment = \"Export Detail Description\")\n",
    "    etl_rbase_export_id    = Column(Integer, ForeignKey('etl_rbase_export.etl_rbase_export_id'), nullable = False, comment = \"Export ID\")\n",
    "    etl_report_base_id     = Column(Integer, ForeignKey('etl_report_base.etl_report_base_id'), nullable = False, comment = \"DB | ETL | Report | Quality ID\")\n",
    "    sql_export_query       = Column(Text, nullable = True, comment = \"Export SQL Query\")\n",
    "    database               = Column(String(200), nullable = False, comment = \"Database\")\n",
    "    # txt_fix_format_layout  = Column(Text, nullable = True, comment = \"Text with fixed format Layout\")\n",
    "    dest_sheet_name        = Column(String(200), nullable = True, comment = \"Dest. Sheet Name\")\n",
    "    dest_table_name        = Column(String(200), nullable = True, comment = \"Dest. Table Name\")\n",
    "    etl_rb_exp_dtail_conf  = Column(Text, nullable = True, comment = \"Config\")\n",
    "    active                 = Column(Boolean, default = True, comment = \"Active\")\n",
    "    user_id                = Column(Integer, ForeignKey('user.user_id'), comment = \"User ID\")\n",
    "    app_id                 = Column(Integer, ForeignKey('app.app_id'), comment = \"App ID\")\n",
    "    created_at             = Column(DateTime, nullable = True, comment = \"Created at\")\n",
    "    updated_at             = Column(DateTime, nullable = True, comment = \"Updated at\")\n",
    "    excluded               = Column(Boolean, default = False, comment = \"Excluded\")"
   ]
  },
  {
   "attachments": {},
   "cell_type": "markdown",
   "metadata": {},
   "source": [
    "## LOGS"
   ]
  },
  {
   "cell_type": "code",
   "execution_count": 155,
   "metadata": {},
   "outputs": [],
   "source": [
    "class ETLReportBaseLogs(Base):\n",
    "    __tablename__ = 'etl_report_base_log'\n",
    "    __table_args__ = {\n",
    "        'extend_existing': True,\n",
    "        'mysql_engine' : 'InnoDB',\n",
    "        'comment'      : 'Logs DB | ETL | Report | Quality',\n",
    "        'mysql_charset': 'utf8',\n",
    "        'sqlite_autoincrement': True\n",
    "    }\n",
    "    log_id   = Column(Integer, primary_key=True, autoincrement=True, comment=\"ID Log\")\n",
    "    type     = Column(String(50), nullable=False, comment=\"Type\")\n",
    "    name     = Column(String(100), nullable=False, comment=\"Name\")\n",
    "    ref      = Column(Date, nullable=True, comment=\"Ref. Date\")\n",
    "    start    = Column(DateTime, nullable=True, comment=\"Started At\")\n",
    "    end      = Column(DateTime, nullable=True, comment=\"End At\")\n",
    "    timer    = Column(String(10), nullable=True, comment=\"Duration\")\n",
    "    success  = Column(Boolean, nullable=True, comment=\"Success\")\n",
    "    msg      = Column(Text, nullable=True, comment=\"Response\")\n",
    "    num_rows = Column(Integer, nullable=True, comment=\"Affected Rows\")\n",
    "    errors   = Column(Integer, nullable=True, comment=\"Errors\")\n",
    "    fixes    = Column(Integer, nullable=True, comment=\"Automated Fixes\")\n",
    "    fname    = Column(String(200), nullable=True, comment=\"Generated Files\")\n",
    "    html     = Column(Text, nullable=True, comment=\"Html\")\n",
    "    etl_report_base_id = Column(Integer, ForeignKey('etl_report_base.etl_report_base_id'), comment = \"DB | ETL | Report | Quality ID\")\n",
    "    app_id     = Column(Integer, ForeignKey('app.app_id'), comment = \"App ID\")\n",
    "    user_id    = Column(Integer, ForeignKey('user.user_id'), comment = \"User ID\")\n",
    "    created_at = Column(DateTime, nullable = True, comment = \"Created at\")\n",
    "    updated_at = Column(DateTime, nullable = True, comment = \"Updated at\")\n",
    "    excluded   = Column(Boolean, default = False, comment = \"Excluded\")"
   ]
  },
  {
   "attachments": {},
   "cell_type": "markdown",
   "metadata": {},
   "source": [
    "## NOTIFICATIONS"
   ]
  },
  {
   "cell_type": "code",
   "execution_count": 156,
   "metadata": {},
   "outputs": [],
   "source": [
    "class ETLReportBaseNotify(Base):\n",
    "    __tablename__ = 'etl_rbase_notify'\n",
    "    __table_args__ = {\n",
    "        'extend_existing': True,\n",
    "        'mysql_engine' : 'InnoDB',\n",
    "        'comment'      : 'Notify',\n",
    "        'mysql_charset': 'utf8',\n",
    "        'sqlite_autoincrement': True\n",
    "    }\n",
    "    notify_id      = Column(Integer, primary_key=True, autoincrement=True, comment=\"ID\")\n",
    "    notify_subject = Column(String(200), nullable=False, comment=\"Subject\")\n",
    "    notify_body    = Column(Text, nullable=False, comment=\"Body\")\n",
    "    notify_to      = Column(String(200), nullable=False, comment=\"Mail TO\")\n",
    "    notify_cc      = Column(String(200), nullable=True, comment=\"Mail CC\")\n",
    "    notify_attach_exports = Column(Boolean, nullable=True, default = False, comment=\"Attach Exports\")\n",
    "    notify_copy_exports_to = Column(Boolean, nullable=True, comment=\"Copy Exports\")\n",
    "    notify_copy_exports_path = Column(String(200), nullable=True, comment=\"Copy Exports Path\")\n",
    "    notify_conf    = Column(Text, nullable=True, comment=\"Conf\")\n",
    "    send_email     = Column(Boolean, default = True, comment = \"Send Email\")\n",
    "    active         = Column(Boolean, default = True, comment = \"Active\")\n",
    "    etl_report_base_id = Column(Integer, ForeignKey('etl_report_base.etl_report_base_id'), comment = \"DB | ETL | Report | Quality ID\")\n",
    "    user_id        = Column(Integer, ForeignKey('user.user_id'), comment = \"User ID\")\n",
    "    app_id         = Column(Integer, ForeignKey('app.app_id'), comment = \"App ID\")\n",
    "    created_at     = Column(DateTime, nullable = True, comment = \"Created at\")\n",
    "    updated_at     = Column(DateTime, nullable = True, comment = \"Updated at\")\n",
    "    excluded       = Column(Boolean, default = False, comment = \"Excluded\")"
   ]
  },
  {
   "cell_type": "markdown",
   "metadata": {},
   "source": [
    "## BACKUPS"
   ]
  },
  {
   "cell_type": "code",
   "execution_count": 157,
   "metadata": {},
   "outputs": [],
   "source": [
    "class ETLReportBaseBackup(Base):\n",
    "    __tablename__ = 'etl_rbase_backup'\n",
    "    __table_args__ = {\n",
    "        'extend_existing': True,\n",
    "        'mysql_engine' : 'InnoDB',\n",
    "        'comment'      : 'Backups',\n",
    "        'mysql_charset': 'utf8',\n",
    "        'sqlite_autoincrement': True\n",
    "    }\n",
    "    backup_id      = Column(Integer, primary_key=True, autoincrement=True, comment=\"ID\")\n",
    "    backup         = Column(String(200), nullable=False, comment=\"Backup\")\n",
    "    backup_sql     = Column(Text, nullable=True, comment=\"SQL\")\n",
    "    backup_copy_to = Column(Boolean, nullable=True, comment=\"Copy\")\n",
    "    backup_copy_path = Column(String(200), nullable=True, comment=\"Path\")\n",
    "    backup_conf    = Column(Text, nullable=True, comment=\"Conf\")\n",
    "    active         = Column(Boolean, default = True, comment = \"Active\")\n",
    "    etl_report_base_id = Column(Integer, ForeignKey('etl_report_base.etl_report_base_id'), comment = \"DB | ETL | Report | Quality ID\")\n",
    "    user_id        = Column(Integer, ForeignKey('user.user_id'), comment = \"User ID\")\n",
    "    app_id         = Column(Integer, ForeignKey('app.app_id'), comment = \"App ID\")\n",
    "    created_at     = Column(DateTime, nullable = True, comment = \"Created at\")\n",
    "    updated_at     = Column(DateTime, nullable = True, comment = \"Updated at\")\n",
    "    excluded       = Column(Boolean, default = False, comment = \"Excluded\")"
   ]
  },
  {
   "cell_type": "markdown",
   "metadata": {},
   "source": [
    "```sql\n",
    "EXPORT DATABASE '<path_name>' (\n",
    "    FORMAT PARQUET,\n",
    "    COMPRESSION ZSTD,\n",
    "    ROW_GROUP_SIZE 100_000,\n",
    "    DICTIONARY_PAGE_SIZE 1_048_576\n",
    ");\n",
    "```\n"
   ]
  },
  {
   "cell_type": "markdown",
   "metadata": {},
   "source": [
    "## SCRIPTS"
   ]
  },
  {
   "cell_type": "code",
   "execution_count": 158,
   "metadata": {},
   "outputs": [],
   "source": [
    "class ETLReportBaseScript(Base):\n",
    "    __tablename__ = 'etl_rbase_script'\n",
    "    __table_args__ = {\n",
    "        'extend_existing': True,\n",
    "        'mysql_engine' : 'InnoDB',\n",
    "        'comment'      : 'Scripts',\n",
    "        'mysql_charset': 'utf8',\n",
    "        'sqlite_autoincrement': True\n",
    "    }\n",
    "    script_id      = Column(Integer, primary_key=True, autoincrement=True, comment=\"ID\")\n",
    "    script         = Column(String(200), nullable=False, comment=\"Script\")\n",
    "    script_sql     = Column(Text, nullable=True, comment=\"SQL\")\n",
    "    script_conf    = Column(Text, nullable=True, comment=\"Conf\")\n",
    "    active         = Column(Boolean, default = True, comment = \"Active\")\n",
    "    etl_report_base_id = Column(Integer, ForeignKey('etl_report_base.etl_report_base_id'), comment = \"DB | ETL | Report | Quality ID\")\n",
    "    user_id        = Column(Integer, ForeignKey('user.user_id'), comment = \"User ID\")\n",
    "    app_id         = Column(Integer, ForeignKey('app.app_id'), comment = \"App ID\")\n",
    "    created_at     = Column(DateTime, nullable = True, comment = \"Created at\")\n",
    "    updated_at     = Column(DateTime, nullable = True, comment = \"Updated at\")\n",
    "    excluded       = Column(Boolean, default = False, comment = \"Excluded\")"
   ]
  },
  {
   "attachments": {},
   "cell_type": "markdown",
   "metadata": {},
   "source": [
    "## QUERY MANEGMENT"
   ]
  },
  {
   "cell_type": "code",
   "execution_count": 159,
   "metadata": {},
   "outputs": [],
   "source": [
    "class ManageQuery(Base):\n",
    "    __tablename__ = 'manage_query'\n",
    "    __table_args__ = {\n",
    "        'extend_existing': True,\n",
    "        'mysql_engine' : 'InnoDB',\n",
    "        'comment'      : 'Queries',\n",
    "        'mysql_charset': 'utf8',\n",
    "        'sqlite_autoincrement': True\n",
    "    }\n",
    "    manage_query_id    = Column(Integer, primary_key = True, autoincrement = True, comment = \"ID\")\n",
    "    manage_query       = Column(String(200), unique = False, nullable = False, comment = \"Query Desc\")\n",
    "    database           = Column(String(200), nullable = False, comment = \"Database\") \n",
    "    manage_query_conf  = Column(Text, nullable = True, comment = \"Query Config\")\n",
    "    active             = Column(Boolean, default = True, comment = \"Active\")\n",
    "    user_id            = Column(Integer, ForeignKey('user.user_id'), comment = \"User ID\")\n",
    "    app_id             = Column(Integer, ForeignKey('app.app_id'), comment = \"App ID\")\n",
    "    created_at         = Column(DateTime, nullable = True, comment = \"Created at\")\n",
    "    updated_at         = Column(DateTime, nullable = True, comment = \"Updated at\")\n",
    "    excluded           = Column(Boolean, default = False, comment = \"Excluded\")"
   ]
  },
  {
   "attachments": {},
   "cell_type": "markdown",
   "metadata": {},
   "source": [
    "# DASHBOARD"
   ]
  },
  {
   "cell_type": "code",
   "execution_count": 160,
   "metadata": {},
   "outputs": [],
   "source": [
    "class Dashboard(Base):\n",
    "    __tablename__ = 'dashboard'\n",
    "    __table_args__ = {\n",
    "        'extend_existing': True,\n",
    "        'mysql_engine'   : 'InnoDB',\n",
    "        'comment'        : 'Dashboards',\n",
    "        'mysql_charset'  : 'utf8',\n",
    "        'sqlite_autoincrement': True\n",
    "    }\n",
    "    dashboard_id   = Column(Integer, primary_key = True, autoincrement = True, comment = \"Dashboard ID\")\n",
    "    dashboard      = Column(String(200), comment = \"Dashboard\")\n",
    "    dashboard_desc = Column(Text, nullable = True, comment = \"Description\")\n",
    "    dashboard_conf = Column(Text, nullable = False, comment = \"Conf / Params\")\n",
    "    order          = Column(Integer, nullable = True, comment = \"Order\")\n",
    "    active         = Column(Boolean, default = True, comment = \"Active\")\n",
    "    user_id        = Column(Integer, ForeignKey('user.user_id'), comment = \"User ID\")\n",
    "    app_id         = Column(Integer, ForeignKey('app.app_id'), comment = \"App ID\")\n",
    "    created_at     = Column(DateTime, nullable = True, comment = \"Created at\")\n",
    "    updated_at     = Column(DateTime, nullable = True, comment = \"Updated at\")\n",
    "    excluded       = Column(Boolean, default = False, comment = \"Excluded\")"
   ]
  },
  {
   "cell_type": "markdown",
   "metadata": {},
   "source": [
    "# DASHBOARD COMMENTS"
   ]
  },
  {
   "cell_type": "markdown",
   "metadata": {},
   "source": [
    "Make a section an the dashboard whre the user can add comments"
   ]
  },
  {
   "cell_type": "code",
   "execution_count": 161,
   "metadata": {},
   "outputs": [],
   "source": [
    "class DashboardComment(Base):\n",
    "    __tablename__ = 'dashboard_comment'\n",
    "    __table_args__ = {\n",
    "        'extend_existing': True,\n",
    "        'mysql_engine'   : 'InnoDB',\n",
    "        'comment'        : 'Dashboards Comments',\n",
    "        'mysql_charset'  : 'utf8',\n",
    "        'sqlite_autoincrement': True\n",
    "    }\n",
    "    dashboard_comment_id = Column(Integer, primary_key = True, autoincrement = True, comment = \"Comment ID\")\n",
    "    dashboard_comment    = Column(Text, comment = \"Comments\")\n",
    "    dashboard            = Column(String(200), nullable = True, comment = \"Dashboard\")\n",
    "    active               = Column(Boolean, default = True, comment = \"Active\")\n",
    "    user_id              = Column(Integer, ForeignKey('user.user_id'), comment = \"User ID\")\n",
    "    app_id               = Column(Integer, ForeignKey('app.app_id'), comment = \"App ID\")\n",
    "    created_at           = Column(DateTime, nullable = True, comment = \"Created at\")\n",
    "    updated_at           = Column(DateTime, nullable = True, comment = \"Updated at\")\n",
    "    excluded             = Column(Boolean, default = False, comment = \"Excluded\")"
   ]
  },
  {
   "attachments": {},
   "cell_type": "markdown",
   "metadata": {},
   "source": [
    "# TASKS"
   ]
  },
  {
   "attachments": {},
   "cell_type": "markdown",
   "metadata": {},
   "source": [
    "#### Calendar"
   ]
  },
  {
   "cell_type": "code",
   "execution_count": 162,
   "metadata": {},
   "outputs": [],
   "source": [
    "class Calendar(Base):\n",
    "    __tablename__ = 'calendar'\n",
    "    __table_args__ = {\n",
    "        'extend_existing'     : True,\n",
    "        'mysql_engine'        : 'InnoDB',\n",
    "        'comment'             : 'Calendar',\n",
    "        'mysql_charset'       : 'utf8',\n",
    "        'sqlite_autoincrement': True\n",
    "    }\n",
    "    calendar_id    = Column(Integer, primary_key=True, autoincrement=True, comment=\"Calendar ID\")\n",
    "    calendar       = Column(String(100), nullable=False, comment=\"Calendar\")\n",
    "    calendar_desc  = Column(Text, nullable=True, comment=\"Description\")\n",
    "    calendar_email = Column(String(200), nullable=True, comment=\"Email\")\n",
    "    calendar_color = Column(String(50), nullable=True, comment=\"Calendar Color\")\n",
    "    user_id        = Column(Integer, ForeignKey('user.user_id'), comment = \"User ID\")\n",
    "    app_id         = Column(Integer, ForeignKey('app.app_id'), comment = \"App ID\")\n",
    "    created_at     = Column(DateTime, nullable = True, comment = \"Created at\")\n",
    "    updated_at     = Column(DateTime, nullable = True, comment = \"Updated at\")\n",
    "    excluded       = Column(Boolean, default = False, comment = \"Excluded\")"
   ]
  },
  {
   "attachments": {},
   "cell_type": "markdown",
   "metadata": {},
   "source": [
    "#### TaskStatus"
   ]
  },
  {
   "cell_type": "code",
   "execution_count": 163,
   "metadata": {},
   "outputs": [],
   "source": [
    "class TaskStatus(Base):\n",
    "    __tablename__ = 'task_status'\n",
    "    __table_args__ = {\n",
    "        'extend_existing'     : True,\n",
    "        'mysql_engine'        : 'InnoDB',\n",
    "        'comment'             : 'Status',\n",
    "        'mysql_charset'       : 'utf8',\n",
    "        'sqlite_autoincrement': True\n",
    "    }\n",
    "    task_status_id = Column(Integer, primary_key=True, autoincrement=True, comment=\"Status ID\")\n",
    "    task_status    = Column(String(10), nullable=False, comment=\"Status\")\n",
    "    excluded       = Column(Boolean, default = False, comment = \"Excluded\")"
   ]
  },
  {
   "cell_type": "code",
   "execution_count": 164,
   "metadata": {},
   "outputs": [],
   "source": [
    "_data['task_status'] = [\n",
    "    {'task_status_id': 1, 'task_status':  'Assigned', 'excluded': False},\n",
    "    {'task_status_id': 2, 'task_status':  'Staterd', 'excluded': False},\n",
    "    {'task_status_id': 3, 'task_status':  'On Standby', 'excluded': False},\n",
    "    {'task_status_id': 4, 'task_status':  'Concluded', 'excluded': False}\n",
    "]"
   ]
  },
  {
   "attachments": {},
   "cell_type": "markdown",
   "metadata": {},
   "source": [
    "#### RepeatType"
   ]
  },
  {
   "cell_type": "code",
   "execution_count": 165,
   "metadata": {},
   "outputs": [],
   "source": [
    "class RepeatType(Base):\n",
    "    __tablename__ = 'repeat_type'\n",
    "    __table_args__ = {\n",
    "        'extend_existing'     : True,\n",
    "        'mysql_engine'        : 'InnoDB',\n",
    "        'comment'             : 'Type of repetition',\n",
    "        'mysql_charset'       : 'utf8',\n",
    "        'sqlite_autoincrement': True\n",
    "    }\n",
    "    repeat_type_id = Column(Integer, primary_key = True, autoincrement = True, comment=\"Type of repetition ID\")\n",
    "    repeat_type    = Column(String(10), nullable = False, comment=\"Type of Repetition\")\n",
    "    excluded       = Column(Boolean, default = False, comment = \"Excluded\")"
   ]
  },
  {
   "cell_type": "code",
   "execution_count": 166,
   "metadata": {},
   "outputs": [],
   "source": [
    "_data['repeat_type'] = [\n",
    "    {'repeat_type_id': 1, 'repeat_type':  'Daily', 'excluded': False},\n",
    "    {'repeat_type_id': 2, 'repeat_type':  'Weekly', 'excluded': False},\n",
    "    {'repeat_type_id': 3, 'repeat_type':  'Monthly', 'excluded': False},\n",
    "    {'repeat_type_id': 4, 'repeat_type':  'Anualy', 'excluded': False}\n",
    "]"
   ]
  },
  {
   "attachments": {},
   "cell_type": "markdown",
   "metadata": {},
   "source": [
    "#### Task"
   ]
  },
  {
   "cell_type": "code",
   "execution_count": 167,
   "metadata": {},
   "outputs": [],
   "source": [
    "class Task(Base):\n",
    "    __tablename__ = 'task'\n",
    "    __table_args__ = {\n",
    "        'extend_existing'     : True,\n",
    "        'mysql_engine'        : 'InnoDB',\n",
    "        'comment'             : 'Tasks',\n",
    "        'mysql_charset'       : 'utf8',\n",
    "        'sqlite_autoincrement': True\n",
    "    }\n",
    "    task_id           = Column(Integer, primary_key=True, autoincrement=True, comment=\"Task Id\")\n",
    "    task              = Column(String(100), nullable=False, comment=\"task\")\n",
    "    task_desc         = Column(Text, nullable=True, comment=\"Description\")\n",
    "    starts_at         = Column(DateTime, nullable=False, comment=\"Starts at\")\n",
    "    ends_at           = Column(DateTime, nullable=True, comment=\"Ends at\")\n",
    "    calendar_id       = Column(Integer, ForeignKey('calendar.calendar_id'), comment=\"Calendar ID\")\n",
    "    calendar_color    = Column(String(50), nullable=True, comment=\"Calendar Color\")\n",
    "    calendar_email    = Column(String(200), nullable=True, comment=\"Email\")\n",
    "    task_status_id    = Column(Integer, ForeignKey('task_status.task_status_id'), nullable=True, default=None, comment=\"Status ID\")\n",
    "    task_status       = Column(String(50), nullable=True, default=None, comment=\"Status\")\n",
    "    attach_task       = Column(String(200), nullable=True, comment=\"Attachment\")\n",
    "    # REPEATE\n",
    "    repeat            = Column(Boolean, nullable=True, default=True, comment=\"Repeat\")\n",
    "    repeat_type_id    = Column(Integer, ForeignKey('repeat_type.repeat_type_id'), nullable=True, default=None, comment=\"Repeat Type ID\")\n",
    "    days_of_week      = Column(String(200), nullable=True, comment=\"Days of week\") #daysOfWeek\n",
    "    repeat_start_date = Column(Date, nullable=True, comment=\"Repeat start date\") #startRecur\n",
    "    repeat_start_time = Column(Time, nullable=True, comment=\"Repeat start time\") #startTime\n",
    "    repeat_end_date   = Column(Date, nullable=True, comment=\"Repeat end date\")  #endRecur\n",
    "    repeat_end_time   = Column(Time, nullable=True, comment=\"Repeat end time\")  #endTime\n",
    "    attendees         = Column(Text, nullable=True, comment=\"Attendees\")\n",
    "    active            = Column(Boolean, default = True, comment = \"Active\")\n",
    "    user_id           = Column(Integer, ForeignKey('user.user_id'), comment = \"User ID\")\n",
    "    app_id            = Column(Integer, ForeignKey('app.app_id'), comment = \"App ID\")\n",
    "    created_at        = Column(DateTime, nullable = True, comment = \"Created at\")\n",
    "    updated_at        = Column(DateTime, nullable = True, comment = \"Updated at\")\n",
    "    excluded          = Column(Boolean, default = False, comment = \"Excluded\")"
   ]
  },
  {
   "attachments": {},
   "cell_type": "markdown",
   "metadata": {},
   "source": [
    "#### TaskTrack"
   ]
  },
  {
   "cell_type": "code",
   "execution_count": 168,
   "metadata": {},
   "outputs": [],
   "source": [
    "class TaskTrack(Base):\n",
    "    __tablename__ = 'task_track'\n",
    "    __table_args__ = {\n",
    "        'extend_existing'     : True,\n",
    "        'mysql_engine'        : 'InnoDB',\n",
    "        'comment'             : 'Status Updates',\n",
    "        'mysql_charset'       : 'utf8',\n",
    "        'sqlite_autoincrement': True\n",
    "    }\n",
    "    task_track_id     = Column(Integer, primary_key=True, autoincrement=True, comment=\"Status Update ID\")\n",
    "    task_track        = Column(String(100), nullable=False, comment=\"Status Update\")\n",
    "    task_track_desc   = Column(Text, nullable=True, comment=\"Description\")\n",
    "    task_track_date   = Column(DateTime, nullable=False, comment=\"Date\")\n",
    "    task_status_id    = Column(Integer, ForeignKey('task_status.task_status_id'), nullable=True, default=None, comment=\"Status ID\")\n",
    "    attach_task_track = Column(String(200), nullable=True, comment=\"Attachment\")\n",
    "    task_id           = Column(Integer, ForeignKey('task.task_id'), comment=\"Task ID\")\n",
    "    user_id           = Column(Integer, ForeignKey('user.user_id'), comment = \"User ID\")\n",
    "    app_id            = Column(Integer, ForeignKey('app.app_id'), comment = \"App ID\")\n",
    "    created_at        = Column(DateTime, nullable = True, comment = \"Created at\")\n",
    "    updated_at        = Column(DateTime, nullable = True, comment = \"Updated at\")\n",
    "    excluded          = Column(Boolean, default = False, comment = \"Excluded\")"
   ]
  },
  {
   "attachments": {},
   "cell_type": "markdown",
   "metadata": {},
   "source": [
    "# DROP FIRST"
   ]
  },
  {
   "cell_type": "code",
   "execution_count": 169,
   "metadata": {},
   "outputs": [],
   "source": [
    "#engine.dispose()"
   ]
  },
  {
   "cell_type": "code",
   "execution_count": 170,
   "metadata": {
    "ExecuteTime": {
     "end_time": "2020-09-10T15:37:33.344680Z",
     "start_time": "2020-09-10T15:37:33.341320Z"
    },
    "execution": {
     "iopub.execute_input": "2021-04-10T20:57:56.267455Z",
     "iopub.status.busy": "2021-04-10T20:57:56.267455Z",
     "iopub.status.idle": "2021-04-10T20:57:56.282450Z",
     "shell.execute_reply": "2021-04-10T20:57:56.281449Z",
     "shell.execute_reply.started": "2021-04-10T20:57:56.267455Z"
    }
   },
   "outputs": [],
   "source": [
    "#session.close()\n",
    "#ETLReportBase.__table__.drop(bind = engine, checkfirst = True)\n",
    "#ETLReportBaseInput.__table__.drop(bind = engine, checkfirst = True)\n",
    "#ETLReportBaseOutput.__table__.drop(bind = engine, checkfirst = True)\n",
    "#ETLReportBaseOutputFields.__table__.drop(bind = engine, checkfirst = True)\n",
    "#ETLReportBaseDataQuality.__table__.drop(bind = engine, checkfirst = True)\n",
    "#ETLReportBaseDataReconciDetail.__table__.drop(bind = engine, checkfirst = True)\n",
    "#ETLReportBaseDataReconciliation.__table__.drop(bind = engine, checkfirst = True)\n",
    "#ETLReportBaseNotify.__table__.drop(bind = engine, checkfirst = True)\n",
    "#ETLReportBaseExport.__table__.drop(bind = engine, checkfirst = True)\n",
    "#ETLReportBaseExportDetail.__table__.drop(bind = engine, checkfirst = True)\n",
    "#ETLReportBaseLogs.__table__.drop(bind = engine, checkfirst = True)\n",
    "#Task.__table__.drop(bind = engine, checkfirst = True)\n",
    "#ETLReportBaseOutputFields.__table__.drop(bind = engine, checkfirst = True)\n",
    "CronLogs.__table__.drop(bind = engine, checkfirst = True)\n",
    "Cron.__table__.drop(bind = engine, checkfirst = True)"
   ]
  },
  {
   "attachments": {},
   "cell_type": "markdown",
   "metadata": {},
   "source": [
    "# DROP ALL FIRST"
   ]
  },
  {
   "cell_type": "code",
   "execution_count": 171,
   "metadata": {},
   "outputs": [
    {
     "data": {
      "text/plain": [
       "sqlite:///database/ADMIN.db"
      ]
     },
     "execution_count": 171,
     "metadata": {},
     "output_type": "execute_result"
    }
   ],
   "source": [
    "engine.url"
   ]
  },
  {
   "cell_type": "code",
   "execution_count": 172,
   "metadata": {
    "ExecuteTime": {
     "end_time": "2020-09-10T15:37:35.633120Z",
     "start_time": "2020-09-10T15:37:34.926803Z"
    },
    "execution": {
     "iopub.execute_input": "2021-04-10T21:11:22.296302Z",
     "iopub.status.busy": "2021-04-10T21:11:22.296302Z",
     "iopub.status.idle": "2021-04-10T21:11:22.339809Z",
     "shell.execute_reply": "2021-04-10T21:11:22.338808Z",
     "shell.execute_reply.started": "2021-04-10T21:11:22.296302Z"
    }
   },
   "outputs": [],
   "source": [
    "#session.close()\n",
    "try:\n",
    "    pass\n",
    "    #Base.metadata.drop_all(bind = engine, checkfirst = True)\n",
    "except Exception as e:\n",
    "    print(str(e))"
   ]
  },
  {
   "attachments": {},
   "cell_type": "markdown",
   "metadata": {},
   "source": [
    "# CREATE ALL"
   ]
  },
  {
   "cell_type": "code",
   "execution_count": 173,
   "metadata": {
    "ExecuteTime": {
     "end_time": "2020-09-10T15:37:39.969942Z",
     "start_time": "2020-09-10T15:37:37.742791Z"
    },
    "execution": {
     "iopub.execute_input": "2021-04-10T21:11:30.121805Z",
     "iopub.status.busy": "2021-04-10T21:11:30.121805Z",
     "iopub.status.idle": "2021-04-10T21:11:30.816548Z",
     "shell.execute_reply": "2021-04-10T21:11:30.815548Z",
     "shell.execute_reply.started": "2021-04-10T21:11:30.121805Z"
    }
   },
   "outputs": [],
   "source": [
    "Base.metadata.create_all(bind = engine, checkfirst = True)"
   ]
  },
  {
   "cell_type": "markdown",
   "metadata": {},
   "source": [
    "```sql\n",
    "SELECT \"table_name\", \"table_schema\" FROM \"information_schema\".\"tables\" WHERE \"table_schema\" = 'ADMIN_DB';\n",
    "```"
   ]
  },
  {
   "attachments": {},
   "cell_type": "markdown",
   "metadata": {},
   "source": [
    "# ADD DATA"
   ]
  },
  {
   "cell_type": "code",
   "execution_count": 174,
   "metadata": {},
   "outputs": [
    {
     "name": "stdout",
     "output_type": "stream",
     "text": [
      "['lang', 'role', 'user', 'user_role', 'app', 'menu', 'table', 'menu_table', 'role_app', 'role_app_menu', 'role_app_menu_table', 'user_log', 'custom_table', 'custom_form', 'role_row_level_access', 'column_level_access', 'row_level_access', 'translate_table', 'translate_table_field', 'table_schema', 'cron', 'cron_log', 'periodicity', 'etl_report_base', 'input_type', 'source_type', 'etl_rbase_input', 'output_type', 'etl_rbase_output', 'etl_rb_output_field', 'etl_rbase_quality', 'etl_rb_reconcilia', 'etl_rb_reconc_dtail', 'export_type', 'etl_rbase_export', 'etl_rb_exp_dtail', 'etl_report_base_log', 'etl_rbase_notify', 'etl_rbase_backup', 'etl_rbase_script', 'manage_query', 'dashboard', 'dashboard_comment', 'calendar', 'task_status', 'repeat_type', 'task', 'task_track']\n"
     ]
    }
   ],
   "source": [
    "#session.close()\n",
    "tables = []\n",
    "for cls in Base.__subclasses__():\n",
    "    tables.append(cls.__tablename__)\n",
    "print(tables)"
   ]
  },
  {
   "cell_type": "code",
   "execution_count": 175,
   "metadata": {},
   "outputs": [],
   "source": [
    "_updated_tables = None # ['table_schema'] # ['periodicity', 'etl_report_base', 'input_type', 'source_type', 'etl_rbase_input', 'output_type', 'etl_rbase_output', 'etl_rb_output_field', 'etl_rbase_quality', 'etl_rb_reconcilia', 'export_type', 'etl_rbase_export', 'etl_rb_exp_dtail', 'etl_report_base_log', 'etl_rbase_notify']\n",
    "_updated_tables = ['cron', 'cron_log'] #['calendar', 'repeat_type', 'task_status', 'task', 'task_track']"
   ]
  },
  {
   "cell_type": "code",
   "execution_count": 176,
   "metadata": {},
   "outputs": [
    {
     "name": "stdout",
     "output_type": "stream",
     "text": [
      "cron ...\n",
      "cron 1 rows inserted\n"
     ]
    }
   ],
   "source": [
    "for table in _data:\n",
    "    if not _updated_tables:\n",
    "        pass\n",
    "    elif len(_updated_tables) == 0:\n",
    "        pass\n",
    "    elif table not in _updated_tables:\n",
    "        continue    \n",
    "    print(table, '...')\n",
    "    tbl = _Table(table, metadata, autoload_with = engine)\n",
    "    with engine.connect() as conn_admin:\n",
    "        try:\n",
    "            #print(_data.get(table))\n",
    "            sql = insert(tbl).values(_data.get(table))\n",
    "            result = conn_admin.execute(sql)\n",
    "            print(table, result.rowcount, 'rows inserted')\n",
    "            result.close()\n",
    "            conn_admin.commit()\n",
    "            conn_admin.close()\n",
    "        except Exception as e:\n",
    "            print(str(e)[0:100])"
   ]
  },
  {
   "cell_type": "code",
   "execution_count": 177,
   "metadata": {},
   "outputs": [
    {
     "name": "stdout",
     "output_type": "stream",
     "text": [
      "FacadeDict({'lang': Table('lang', MetaData(), Column('lang_id', Integer(), table=<lang>, primary_key=True, nullable=False, comment='Lang ID'), Column('lang', String(length=4), table=<lang>, nullable=False, comment='Language'), Column('lang_desc', String(length=200), table=<lang>, comment='Description'), Column('created_at', DateTime(), table=<lang>, comment='Created at'), Column('updated_at', DateTime(), table=<lang>, comment='Updated at'), Column('excluded', Boolean(), table=<lang>, default=ScalarElementColumnDefault(False), comment='Excluded'), schema=None), 'role': Table('role', MetaData(), Column('role_id', Integer(), table=<role>, primary_key=True, nullable=False, comment='Role ID'), Column('role', String(length=20), table=<role>, nullable=False, comment='Role'), Column('role_desc', Text(), table=<role>, comment='Description'), Column('config', Text(), table=<role>, comment='Config'), Column('created_at', DateTime(), table=<role>, comment='Created at'), Column('updated_at', DateTime(), table=<role>, comment='Updated at'), Column('excluded', Boolean(), table=<role>, default=ScalarElementColumnDefault(False), comment='Excluded'), schema=None), 'user': Table('user', MetaData(), Column('user_id', Integer(), table=<user>, primary_key=True, nullable=False, comment='User ID'), Column('username', String(length=50), table=<user>, nullable=False, comment='Username'), Column('first_name', String(length=50), table=<user>, nullable=False, comment='Fisrt Name'), Column('last_name', String(length=50), table=<user>, nullable=False, comment='Last Name'), Column('email', String(length=50), table=<user>, comment='Email'), Column('phone', String(length=50), table=<user>, comment='Phone'), Column('password', String(length=200), table=<user>, nullable=False, comment='Password'), Column('role_id', Integer(), ForeignKey('role.role_id'), table=<user>, comment='Default Role ID'), Column('lang_id', Integer(), ForeignKey('lang.lang_id'), table=<user>, comment='Lang ID'), Column('timezone', String(length=50), table=<user>, comment='Timezone'), Column('attach_profile_pic', String(length=200), table=<user>, comment='Profile Picture'), Column('active', Boolean(), table=<user>, default=ScalarElementColumnDefault(True), comment='Active'), Column('created_at', DateTime(), table=<user>, comment='Created at'), Column('updated_at', DateTime(), table=<user>, comment='Updated at'), Column('excluded', Boolean(), table=<user>, default=ScalarElementColumnDefault(False), comment='Excluded'), schema=None), 'user_role': Table('user_role', MetaData(), Column('user_role_id', Integer(), table=<user_role>, primary_key=True, nullable=False, comment='User Role ID'), Column('user_id', Integer(), ForeignKey('user.user_id'), table=<user_role>, comment='User ID'), Column('role_id', Integer(), ForeignKey('role.role_id'), table=<user_role>, comment='Role ID'), Column('active', Boolean(), table=<user_role>, default=ScalarElementColumnDefault(True), comment='Active'), Column('created_at', DateTime(), table=<user_role>, comment='Created at'), Column('updated_at', DateTime(), table=<user_role>, comment='Updated at'), Column('excluded', Boolean(), table=<user_role>, default=ScalarElementColumnDefault(False), comment='Excluded'), schema=None), 'app': Table('app', MetaData(), Column('app_id', Integer(), table=<app>, primary_key=True, nullable=False, comment='App ID'), Column('app', String(length=20), table=<app>, nullable=False, comment='App Name'), Column('app_desc', Text(), table=<app>, comment='Description'), Column('version', String(length=10), table=<app>, nullable=False, comment='Version'), Column('email', String(length=200), table=<app>, comment='Email'), Column('db', String(length=200), table=<app>, nullable=False, comment='Database'), Column('attach_logo', String(length=200), table=<app>, comment='Logo'), Column('config', Text(), table=<app>, comment='Config'), Column('user_id', Integer(), ForeignKey('user.user_id'), table=<app>, comment='User ID'), Column('created_at', DateTime(), table=<app>, comment='Created at'), Column('updated_at', DateTime(), table=<app>, comment='Updated at'), Column('excluded', Boolean(), table=<app>, default=ScalarElementColumnDefault(False), comment='Excluded'), schema=None), 'menu': Table('menu', MetaData(), Column('menu_id', Integer(), table=<menu>, primary_key=True, nullable=False, comment='Menu ID'), Column('menu', String(length=200), table=<menu>, nullable=False, comment='Menu'), Column('menu_desc', Text(), table=<menu>, comment='Description'), Column('menu_icon', String(length=20), table=<menu>, comment='Icon'), Column('menu_order', Integer(), table=<menu>, comment='Order'), Column('menu_config', Text(), table=<menu>, comment='Config'), Column('app_id', Integer(), ForeignKey('app.app_id'), table=<menu>, nullable=False, comment='App ID'), Column('user_id', Integer(), ForeignKey('user.user_id'), table=<menu>, nullable=False, comment='User ID'), Column('active', Boolean(), table=<menu>, default=ScalarElementColumnDefault(True), comment='Active'), Column('created_at', DateTime(), table=<menu>, comment='Created at'), Column('updated_at', DateTime(), table=<menu>, comment='Updated at'), Column('excluded', Boolean(), table=<menu>, default=ScalarElementColumnDefault(False), comment='Excluded'), schema=None), 'table': Table('table', MetaData(), Column('table_id', Integer(), table=<table>, primary_key=True, nullable=False, comment='Table ID'), Column('table', String(length=50), table=<table>, nullable=False, comment='Table'), Column('table_desc', String(length=200), table=<table>, comment='Description'), Column('db', String(length=50), table=<table>, comment='Database'), Column('requires_rla', Boolean(), table=<table>, default=ScalarElementColumnDefault(False), comment='Requires Row Level Access'), Column('user_id', Integer(), ForeignKey('user.user_id'), table=<table>, comment='User ID'), Column('created_at', DateTime(), table=<table>, comment='Created at'), Column('updated_at', DateTime(), table=<table>, comment='Updated at'), Column('excluded', Boolean(), table=<table>, default=ScalarElementColumnDefault(False), comment='Excluded'), schema=None), 'menu_table': Table('menu_table', MetaData(), Column('menu_table_id', Integer(), table=<menu_table>, primary_key=True, nullable=False, comment='Menu Table ID'), Column('menu_id', Integer(), ForeignKey('menu.menu_id'), table=<menu_table>, comment='Menu ID'), Column('table_id', Integer(), ForeignKey('table.table_id'), table=<menu_table>, comment='Table ID'), Column('app_id', Integer(), ForeignKey('app.app_id'), table=<menu_table>, comment='App ID'), Column('user_id', Integer(), ForeignKey('user.user_id'), table=<menu_table>, comment='User ID'), Column('active', Boolean(), table=<menu_table>, default=ScalarElementColumnDefault(True), comment='Active'), Column('requires_rla', Boolean(), table=<menu_table>, default=ScalarElementColumnDefault(False), comment='Requires Row Level Access'), Column('menu_table_cnf', Text(), table=<menu_table>, comment='Config'), Column('created_at', DateTime(), table=<menu_table>, comment='Created at'), Column('updated_at', DateTime(), table=<menu_table>, comment='Updated at'), Column('excluded', Boolean(), table=<menu_table>, default=ScalarElementColumnDefault(False), comment='Excluded'), schema=None), 'role_app': Table('role_app', MetaData(), Column('role_app_id', Integer(), table=<role_app>, primary_key=True, nullable=False, comment='Role App ID'), Column('role_id', Integer(), ForeignKey('role.role_id'), table=<role_app>, comment='Role ID'), Column('app_id', Integer(), ForeignKey('app.app_id'), table=<role_app>, comment='App ID'), Column('access', Boolean(), table=<role_app>, default=ScalarElementColumnDefault(True), comment='Access'), Column('user_id', Integer(), ForeignKey('user.user_id'), table=<role_app>, comment='User ID'), Column('created_at', DateTime(), table=<role_app>, comment='Created at'), Column('updated_at', DateTime(), table=<role_app>, comment='Updated at'), Column('excluded', Boolean(), table=<role_app>, default=ScalarElementColumnDefault(False), comment='Excluded'), schema=None), 'role_app_menu': Table('role_app_menu', MetaData(), Column('role_app_menu_id', Integer(), table=<role_app_menu>, primary_key=True, nullable=False, comment='Role App Menu ID'), Column('role_id', Integer(), ForeignKey('role.role_id'), table=<role_app_menu>, comment='Role ID'), Column('app_id', Integer(), ForeignKey('app.app_id'), table=<role_app_menu>, comment='App ID'), Column('menu_id', Integer(), ForeignKey('menu.menu_id'), table=<role_app_menu>, comment='Menu ID'), Column('access', Boolean(), table=<role_app_menu>, default=ScalarElementColumnDefault(True), comment='Access'), Column('user_id', Integer(), ForeignKey('user.user_id'), table=<role_app_menu>, comment='User ID'), Column('created_at', DateTime(), table=<role_app_menu>, comment='Created at'), Column('updated_at', DateTime(), table=<role_app_menu>, comment='Updated at'), Column('excluded', Boolean(), table=<role_app_menu>, default=ScalarElementColumnDefault(False), comment='Excluded'), schema=None), 'role_app_menu_table': Table('role_app_menu_table', MetaData(), Column('role_app_menu_table_id', Integer(), table=<role_app_menu_table>, primary_key=True, nullable=False, comment='Role App Menu Table ID'), Column('role_id', Integer(), ForeignKey('role.role_id'), table=<role_app_menu_table>, comment='Role ID'), Column('app_id', Integer(), ForeignKey('app.app_id'), table=<role_app_menu_table>, comment='App ID'), Column('menu_id', Integer(), ForeignKey('menu.menu_id'), table=<role_app_menu_table>, comment='Menu ID'), Column('table_id', Integer(), ForeignKey('table.table_id'), table=<role_app_menu_table>, comment='Table ID'), Column('create', Boolean(), table=<role_app_menu_table>, default=ScalarElementColumnDefault(False), comment='Create'), Column('read', Boolean(), table=<role_app_menu_table>, default=ScalarElementColumnDefault(False), comment='Read'), Column('update', Boolean(), table=<role_app_menu_table>, default=ScalarElementColumnDefault(False), comment='Update'), Column('delete', Boolean(), table=<role_app_menu_table>, default=ScalarElementColumnDefault(False), comment='Delete'), Column('user_id', Integer(), ForeignKey('user.user_id'), table=<role_app_menu_table>, comment='User ID'), Column('created_at', DateTime(), table=<role_app_menu_table>, comment='Created at'), Column('updated_at', DateTime(), table=<role_app_menu_table>, comment='Updated at'), Column('excluded', Boolean(), table=<role_app_menu_table>, default=ScalarElementColumnDefault(False), comment='Excluded'), schema=None), 'user_log': Table('user_log', MetaData(), Column('user_log_id', Integer(), table=<user_log>, primary_key=True, nullable=False, comment='User Log ID'), Column('user_id', Integer(), ForeignKey('user.user_id'), table=<user_log>, comment='User ID'), Column('action', String(length=200), table=<user_log>, nullable=False, comment='Action'), Column('req_ip', String(length=200), table=<user_log>, comment='Request IP'), Column('req_at', DateTime(), table=<user_log>, comment='Request at'), Column('req_data', Text(), table=<user_log>, comment='Request Data'), Column('res_at', DateTime(), table=<user_log>, comment='Response at'), Column('res_type', String(length=200), table=<user_log>, comment='Response Type'), Column('res_msg', String(length=500), table=<user_log>, comment='Response Message'), Column('res_data', Text(), table=<user_log>, comment='Request Data'), Column('table', String(length=200), table=<user_log>, comment='Table'), Column('db', String(length=200), table=<user_log>, comment='Database'), Column('row_id', Integer(), table=<user_log>, comment='Database'), Column('app_id', Integer(), ForeignKey('app.app_id'), table=<user_log>, comment='App ID'), Column('new_data', Text(), table=<user_log>, comment='New Data'), Column('created_at', DateTime(), table=<user_log>, comment='Created at'), Column('updated_at', DateTime(), table=<user_log>, comment='Updated at'), Column('excluded', Boolean(), table=<user_log>, default=ScalarElementColumnDefault(False), comment='Excluded'), schema=None), 'custom_table': Table('custom_table', MetaData(), Column('custom_table_id', Integer(), table=<custom_table>, primary_key=True, nullable=False, comment='User Log ID'), Column('table', String(length=200), table=<custom_table>, comment='Table'), Column('db', String(length=200), table=<custom_table>, comment='Database'), Column('config', Text(), table=<custom_table>, comment='Config'), Column('app_id', Integer(), ForeignKey('app.app_id'), table=<custom_table>, comment='App ID'), Column('user_id', Integer(), ForeignKey('user.user_id'), table=<custom_table>, comment='User ID'), Column('created_at', DateTime(), table=<custom_table>, comment='Created at'), Column('updated_at', DateTime(), table=<custom_table>, comment='Updated at'), Column('excluded', Boolean(), table=<custom_table>, default=ScalarElementColumnDefault(False), comment='Excluded'), schema=None), 'custom_form': Table('custom_form', MetaData(), Column('custom_form_id', Integer(), table=<custom_form>, primary_key=True, nullable=False, comment='Custom Form ID'), Column('table', String(length=200), table=<custom_form>, comment='Table'), Column('db', String(length=200), table=<custom_form>, comment='Database'), Column('config', Text(), table=<custom_form>, comment='Config'), Column('app_id', Integer(), ForeignKey('app.app_id'), table=<custom_form>, comment='App ID'), Column('user_id', Integer(), ForeignKey('user.user_id'), table=<custom_form>, comment='User ID'), Column('created_at', DateTime(), table=<custom_form>, comment='Created at'), Column('updated_at', DateTime(), table=<custom_form>, comment='Updated at'), Column('excluded', Boolean(), table=<custom_form>, default=ScalarElementColumnDefault(False), comment='Excluded'), schema=None), 'role_row_level_access': Table('role_row_level_access', MetaData(), Column('role_row_level_access_id', Integer(), table=<role_row_level_access>, primary_key=True, nullable=False, comment='Role Row Level Access ID'), Column('role_id', Integer(), ForeignKey('role.role_id'), table=<role_row_level_access>, comment='Role ID'), Column('row_id', Integer(), table=<role_row_level_access>, nullable=False, comment='Row ID'), Column('table_id', Integer(), ForeignKey('table.table_id'), table=<role_row_level_access>, comment='Table ID'), Column('table', String(length=200), table=<role_row_level_access>, nullable=False, comment='Table'), Column('db', String(length=200), table=<role_row_level_access>, nullable=False, comment='Database'), Column('user_id', Integer(), ForeignKey('user.user_id'), table=<role_row_level_access>, comment='User ID'), Column('app_id', Integer(), ForeignKey('app.app_id'), table=<role_row_level_access>, comment='App ID'), Column('read', Boolean(), table=<role_row_level_access>, default=ScalarElementColumnDefault(False), comment='Read'), Column('update', Boolean(), table=<role_row_level_access>, default=ScalarElementColumnDefault(False), comment='Update'), Column('delete', Boolean(), table=<role_row_level_access>, default=ScalarElementColumnDefault(False), comment='Delete'), Column('share', Boolean(), table=<role_row_level_access>, default=ScalarElementColumnDefault(False), comment='Share'), Column('created_at', DateTime(), table=<role_row_level_access>, comment='Created at'), Column('updated_at', DateTime(), table=<role_row_level_access>, comment='Updated at'), Column('excluded', Boolean(), table=<role_row_level_access>, default=ScalarElementColumnDefault(False), comment='Excluded'), schema=None), 'column_level_access': Table('column_level_access', MetaData(), Column('column_level_access_id', Integer(), table=<column_level_access>, primary_key=True, nullable=False, comment='Column Level Access ID'), Column('column', Integer(), table=<column_level_access>, nullable=False, comment='Column'), Column('table_id', Integer(), ForeignKey('table.table_id'), table=<column_level_access>, comment='Table ID'), Column('table', String(length=200), table=<column_level_access>, nullable=False, comment='Table'), Column('db', String(length=200), table=<column_level_access>, nullable=False, comment='Database'), Column('user_id', Integer(), ForeignKey('user.user_id'), table=<column_level_access>, comment='User ID'), Column('app_id', Integer(), ForeignKey('app.app_id'), table=<column_level_access>, comment='App ID'), Column('create', Boolean(), table=<column_level_access>, default=ScalarElementColumnDefault(False), comment='Create'), Column('read', Boolean(), table=<column_level_access>, default=ScalarElementColumnDefault(False), comment='Read'), Column('update', Boolean(), table=<column_level_access>, default=ScalarElementColumnDefault(False), comment='Update'), Column('created_at', DateTime(), table=<column_level_access>, comment='Created at'), Column('updated_at', DateTime(), table=<column_level_access>, comment='Updated at'), Column('excluded', Boolean(), table=<column_level_access>, default=ScalarElementColumnDefault(False), comment='Excluded'), schema=None), 'row_level_access': Table('row_level_access', MetaData(), Column('row_level_access_id', Integer(), table=<row_level_access>, primary_key=True, nullable=False, comment='Row Level Access ID'), Column('row_id', Integer(), table=<row_level_access>, nullable=False, comment='Row ID'), Column('table_id', Integer(), ForeignKey('table.table_id'), table=<row_level_access>, comment='Table ID'), Column('table', String(length=200), table=<row_level_access>, nullable=False, comment='Table'), Column('db', String(length=200), table=<row_level_access>, nullable=False, comment='Database'), Column('user_id', Integer(), ForeignKey('user.user_id'), table=<row_level_access>, comment='User ID'), Column('app_id', Integer(), ForeignKey('app.app_id'), table=<row_level_access>, comment='App ID'), Column('read', Boolean(), table=<row_level_access>, default=ScalarElementColumnDefault(False), comment='Read'), Column('update', Boolean(), table=<row_level_access>, default=ScalarElementColumnDefault(False), comment='Update'), Column('delete', Boolean(), table=<row_level_access>, default=ScalarElementColumnDefault(False), comment='Delete'), Column('share', Boolean(), table=<row_level_access>, default=ScalarElementColumnDefault(False), comment='Share'), Column('created_at', DateTime(), table=<row_level_access>, comment='Created at'), Column('updated_at', DateTime(), table=<row_level_access>, comment='Updated at'), Column('excluded', Boolean(), table=<row_level_access>, default=ScalarElementColumnDefault(False), comment='Excluded'), schema=None), 'translate_table': Table('translate_table', MetaData(), Column('transl_tbl_id', Integer(), table=<translate_table>, primary_key=True, nullable=False, comment='Translate Table ID'), Column('table_org_desc', String(length=200), table=<translate_table>, nullable=False, comment='Table Org. Desc'), Column('table_transl_desc', String(length=200), table=<translate_table>, nullable=False, comment='Table Transl. Desc'), Column('table', String(length=200), table=<translate_table>, nullable=False, comment='Table'), Column('db', String(length=200), table=<translate_table>, nullable=False, comment='Database'), Column('lang', String(length=5), table=<translate_table>, nullable=False, comment='Lang'), Column('user_id', Integer(), ForeignKey('user.user_id'), table=<translate_table>, comment='User ID'), Column('app_id', Integer(), ForeignKey('app.app_id'), table=<translate_table>, comment='App ID'), Column('created_at', DateTime(), table=<translate_table>, comment='Created at'), Column('updated_at', DateTime(), table=<translate_table>, comment='Updated at'), Column('excluded', Boolean(), table=<translate_table>, default=ScalarElementColumnDefault(False), comment='Excluded'), schema=None), 'translate_table_field': Table('translate_table_field', MetaData(), Column('transl_tbl_field_id', Integer(), table=<translate_table_field>, primary_key=True, nullable=False, comment='Translate Table Field ID'), Column('field_org_desc', String(length=200), table=<translate_table_field>, nullable=False, comment='Field Org. Desc'), Column('field_transl_desc', String(length=200), table=<translate_table_field>, nullable=False, comment='Field Transl. Desc'), Column('field', String(length=200), table=<translate_table_field>, nullable=False, comment='Field'), Column('table', String(length=200), table=<translate_table_field>, nullable=False, comment='Table'), Column('db', String(length=200), table=<translate_table_field>, nullable=False, comment='Database'), Column('lang', String(length=5), table=<translate_table_field>, nullable=False, comment='Lang'), Column('user_id', Integer(), ForeignKey('user.user_id'), table=<translate_table_field>, comment='User ID'), Column('app_id', Integer(), ForeignKey('app.app_id'), table=<translate_table_field>, comment='App ID'), Column('created_at', DateTime(), table=<translate_table_field>, comment='Created at'), Column('updated_at', DateTime(), table=<translate_table_field>, comment='Updated at'), Column('excluded', Boolean(), table=<translate_table_field>, default=ScalarElementColumnDefault(False), comment='Excluded'), schema=None), 'table_schema': Table('table_schema', MetaData(), Column('table_schema_id', Integer(), table=<table_schema>, primary_key=True, nullable=False, comment='Table field ID'), Column('db', String(length=200), table=<table_schema>, nullable=False, comment='Database'), Column('table', String(length=200), table=<table_schema>, nullable=False, comment='Table'), Column('field', String(length=200), table=<table_schema>, nullable=False, comment='Field'), Column('type', String(length=200), table=<table_schema>, nullable=False, comment='Type'), Column('comment', String(length=200), table=<table_schema>, comment='Comment'), Column('pk', Boolean(), table=<table_schema>, default=ScalarElementColumnDefault(False), comment='Primary Key'), Column('autoincrement', Boolean(), table=<table_schema>, default=ScalarElementColumnDefault(False), comment='Auto Increment'), Column('nullable', Boolean(), table=<table_schema>, default=ScalarElementColumnDefault(False), comment='Nullable'), Column('computed', Boolean(), table=<table_schema>, default=ScalarElementColumnDefault(False), comment='Nullable'), Column('default', Boolean(), table=<table_schema>, comment='Default'), Column('fk', Boolean(), table=<table_schema>, default=ScalarElementColumnDefault(False), comment='Foreign  Key'), Column('referred_table', String(length=200), table=<table_schema>, comment='Ref. Table.'), Column('referred_column', String(length=200), table=<table_schema>, comment='Ref. Column'), Column('user_id', Integer(), ForeignKey('user.user_id'), table=<table_schema>, comment='User ID'), Column('created_at', DateTime(), table=<table_schema>, comment='Created at'), Column('updated_at', DateTime(), table=<table_schema>, comment='Updated at'), Column('excluded', Boolean(), table=<table_schema>, default=ScalarElementColumnDefault(False), comment='Excluded'), schema=None), 'cron': Table('cron', MetaData(), Column('cron_id', Integer(), table=<cron>, primary_key=True, nullable=False, comment='Cron ID'), Column('cron', String(length=50), table=<cron>, nullable=False, comment='Cron'), Column('cron_desc', String(length=200), table=<cron>, nullable=False, comment='Decription'), Column('api', String(length=200), table=<cron>, nullable=False, comment='API'), Column('app_id', Integer(), ForeignKey('app.app_id'), table=<cron>, comment='App ID'), Column('db', String(length=200), table=<cron>, comment='Database'), Column('table', String(length=50), table=<cron>, comment='Table'), Column('active', Boolean(), table=<cron>, default=ScalarElementColumnDefault(True), comment='Active'), Column('created_at', DateTime(), table=<cron>, comment='Created at'), Column('updated_at', DateTime(), table=<cron>, comment='Updated at'), Column('excluded', Boolean(), table=<cron>, default=ScalarElementColumnDefault(False), comment='Excluded'), schema=None), 'cron_log': Table('cron_log', MetaData(), Column('cron_log_id', Integer(), table=<cron_log>, primary_key=True, nullable=False, comment='Cron Log ID'), Column('cron_id', Integer(), ForeignKey('cron.cron_id'), table=<cron_log>, comment='Cron ID'), Column('cron', String(length=50), table=<cron_log>, nullable=False, comment='Cron'), Column('cron_desc', String(length=200), table=<cron_log>, nullable=False, comment='Decription'), Column('api', String(length=200), table=<cron_log>, nullable=False, comment='API'), Column('start_at', DateTime(), table=<cron_log>, comment='Job Start'), Column('end_at', DateTime(), table=<cron_log>, comment='Job End'), Column('success', Boolean(), table=<cron_log>, default=ScalarElementColumnDefault(True), comment='Success'), Column('cron_msg', Text(), table=<cron_log>, nullable=False, comment='Message'), Column('app_id', Integer(), ForeignKey('app.app_id'), table=<cron_log>, comment='App ID'), Column('db', String(length=200), table=<cron_log>, comment='Database'), Column('table', String(length=50), table=<cron_log>, comment='Table'), Column('created_at', DateTime(), table=<cron_log>, comment='Created at'), Column('updated_at', DateTime(), table=<cron_log>, comment='Updated at'), Column('excluded', Boolean(), table=<cron_log>, default=ScalarElementColumnDefault(False), comment='Excluded'), schema=None), 'periodicity': Table('periodicity', MetaData(), Column('periodicity_id', Integer(), table=<periodicity>, primary_key=True, nullable=False, comment='Periodicity ID'), Column('periodicity', String(length=100), table=<periodicity>, nullable=False, comment='Periodicity'), Column('created_at', DateTime(), table=<periodicity>, comment='Created at'), Column('updated_at', DateTime(), table=<periodicity>, comment='Updated at'), Column('excluded', Boolean(), table=<periodicity>, default=ScalarElementColumnDefault(False), comment='Excluded'), schema=None), 'etl_report_base': Table('etl_report_base', MetaData(), Column('etl_report_base_id', Integer(), table=<etl_report_base>, primary_key=True, nullable=False, comment='ID'), Column('etl_report_base', String(length=200), table=<etl_report_base>, nullable=False, comment='DB | ETL | Report | Quality'), Column('etl_report_base_desc', Text(), table=<etl_report_base>, comment='Description'), Column('attach_etl_rbase_doc', String(length=200), table=<etl_report_base>, comment='Documentation'), Column('periodicity_id', Integer(), ForeignKey('periodicity.periodicity_id'), table=<etl_report_base>, comment='Periodicity'), Column('database', String(length=200), table=<etl_report_base>, nullable=False, comment='Database'), Column('includes_output', Boolean(), table=<etl_report_base>, default=ScalarElementColumnDefault(True), comment='Includes Output'), Column('includes_data_quality', Boolean(), table=<etl_report_base>, default=ScalarElementColumnDefault(False), comment='Includes Data Quality'), Column('includes_data_reconci', Boolean(), table=<etl_report_base>, default=ScalarElementColumnDefault(False), comment='Includes Data Reconc.'), Column('includes_exports', Boolean(), table=<etl_report_base>, default=ScalarElementColumnDefault(True), comment='Includes Exports'), Column('includes_backup', Boolean(), table=<etl_report_base>, default=ScalarElementColumnDefault(True), comment='Includes Backup'), Column('includes_script', Boolean(), table=<etl_report_base>, default=ScalarElementColumnDefault(True), comment='Includes Scripts'), Column('includes_notify', Boolean(), table=<etl_report_base>, default=ScalarElementColumnDefault(True), comment='Includes Notefy'), Column('etl_report_base_conf', Text(), table=<etl_report_base>, comment='Config'), Column('active', Boolean(), table=<etl_report_base>, default=ScalarElementColumnDefault(True), comment='Active'), Column('user_id', Integer(), ForeignKey('user.user_id'), table=<etl_report_base>, comment='User ID'), Column('app_id', Integer(), ForeignKey('app.app_id'), table=<etl_report_base>, comment='App ID'), Column('created_at', DateTime(), table=<etl_report_base>, comment='Created at'), Column('updated_at', DateTime(), table=<etl_report_base>, comment='Updated at'), Column('excluded', Boolean(), table=<etl_report_base>, default=ScalarElementColumnDefault(False), comment='Excluded'), schema=None), 'input_type': Table('input_type', MetaData(), Column('input_type_id', Integer(), table=<input_type>, primary_key=True, nullable=False, comment='Input Type ID'), Column('input_type', String(length=100), table=<input_type>, nullable=False, comment='Input Type'), Column('created_at', DateTime(), table=<input_type>, comment='Created at'), Column('updated_at', DateTime(), table=<input_type>, comment='Updated at'), Column('excluded', Boolean(), table=<input_type>, default=ScalarElementColumnDefault(False), comment='Excluded'), schema=None), 'source_type': Table('source_type', MetaData(), Column('source_type_id', Integer(), table=<source_type>, primary_key=True, nullable=False, comment='Source Type ID'), Column('source_type', String(length=100), table=<source_type>, nullable=False, comment='Souce Type'), Column('created_at', DateTime(), table=<source_type>, comment='Created at'), Column('updated_at', DateTime(), table=<source_type>, comment='Updated at'), Column('excluded', Boolean(), table=<source_type>, default=ScalarElementColumnDefault(False), comment='Excluded'), schema=None), 'etl_rbase_input': Table('etl_rbase_input', MetaData(), Column('etl_rbase_input_id', Integer(), table=<etl_rbase_input>, primary_key=True, nullable=False, comment='ID'), Column('etl_rbase_input', String(length=200), table=<etl_rbase_input>, nullable=False, comment='Input'), Column('etl_rbase_input_desc', Text(), table=<etl_rbase_input>, comment='Input Description'), Column('etl_report_base_id', Integer(), ForeignKey('etl_report_base.etl_report_base_id'), table=<etl_rbase_input>, nullable=False, comment='DB | ETL | Report | Quality ID'), Column('input_type_id', Integer(), ForeignKey('input_type.input_type_id'), table=<etl_rbase_input>, comment='Input Type ID'), Column('save_only_temp', Boolean(), table=<etl_rbase_input>, default=ScalarElementColumnDefault(True), comment='Save only temp'), Column('replace_existing_data', Boolean(), table=<etl_rbase_input>, default=ScalarElementColumnDefault(False), comment='Replace existing data'), Column('check_ref_date', Boolean(), table=<etl_rbase_input>, default=ScalarElementColumnDefault(False), comment='Check ref. date'), Column('ref_date_field', String(length=200), table=<etl_rbase_input>, comment='Ref. date field'), Column('date_format_org', String(length=200), table=<etl_rbase_input>, comment='Date Format in origin'), Column('other_date_fields', String(length=200), table=<etl_rbase_input>, comment='Other Date Fields'), Column('ref_id_keys', String(length=200), table=<etl_rbase_input>, comment='Reference / Id Keys'), Column('last_update_date_field', String(length=200), table=<etl_rbase_input>, comment='Last update date field'), Column('incremental_extract', Boolean(), table=<etl_rbase_input>, default=ScalarElementColumnDefault(False), comment='Incremental Extraction'), Column('destination_table', String(length=200), table=<etl_rbase_input>, nullable=False, comment='Destination Table'), Column('database', String(length=200), table=<etl_rbase_input>, nullable=False, comment='Database'), Column('allow_import', Boolean(), table=<etl_rbase_input>, default=ScalarElementColumnDefault(True), comment='Allow Import'), Column('multiple_sheets', Boolean(), table=<etl_rbase_input>, default=ScalarElementColumnDefault(False), comment='Multiple Sheets'), Column('specific_sheets', String(length=200), table=<etl_rbase_input>, comment='Specific Sheets'), Column('specific_range', String(length=200), table=<etl_rbase_input>, comment='Specific Range'), Column('columns_to_import', String(length=200), table=<etl_rbase_input>, comment='Columns to Import'), Column('txt_fix_format_layout', String(length=200), table=<etl_rbase_input>, comment='Text with fixed format Layout'), Column('headers', String(length=200), table=<etl_rbase_input>, comment='Headers'), Column('spreadsheet_forms', Boolean(), table=<etl_rbase_input>, default=ScalarElementColumnDefault(False), comment='Spreadsheet Forms'), Column('spreadsheet_forms_map', String(length=200), table=<etl_rbase_input>, comment='Spreadsheet Forms Map'), Column('etl_rbase_input_conf', Text(), table=<etl_rbase_input>, comment='Config'), Column('active', Boolean(), table=<etl_rbase_input>, default=ScalarElementColumnDefault(True), comment='Active'), Column('user_id', Integer(), ForeignKey('user.user_id'), table=<etl_rbase_input>, comment='User ID'), Column('app_id', Integer(), ForeignKey('app.app_id'), table=<etl_rbase_input>, comment='App ID'), Column('created_at', DateTime(), table=<etl_rbase_input>, comment='Created at'), Column('updated_at', DateTime(), table=<etl_rbase_input>, comment='Updated at'), Column('excluded', Boolean(), table=<etl_rbase_input>, default=ScalarElementColumnDefault(False), comment='Excluded'), schema=None), 'output_type': Table('output_type', MetaData(), Column('output_type_id', Integer(), table=<output_type>, primary_key=True, nullable=False, comment='Output Type ID'), Column('output_type', String(length=100), table=<output_type>, nullable=False, comment='Souce Type'), Column('created_at', DateTime(), table=<output_type>, comment='Created at'), Column('updated_at', DateTime(), table=<output_type>, comment='Updated at'), Column('excluded', Boolean(), table=<output_type>, default=ScalarElementColumnDefault(False), comment='Excluded'), schema=None), 'etl_rbase_output': Table('etl_rbase_output', MetaData(), Column('etl_rbase_output_id', Integer(), table=<etl_rbase_output>, primary_key=True, nullable=False, comment='ID'), Column('etl_rbase_output', String(length=200), table=<etl_rbase_output>, nullable=False, comment='Output'), Column('etl_rbase_output_desc', Text(), table=<etl_rbase_output>, comment='Output Description'), Column('etl_report_base_id', Integer(), ForeignKey('etl_report_base.etl_report_base_id'), table=<etl_rbase_output>, nullable=False, comment='DB | ETL | Report | Quality ID'), Column('output_type_id', Integer(), ForeignKey('output_type.output_type_id'), table=<etl_rbase_output>, comment='Input Type ID'), Column('date_field', String(length=200), table=<etl_rbase_output>, comment='Date field'), Column('date_field_format', String(length=200), table=<etl_rbase_output>, comment='Date Format'), Column('destination_table', String(length=200), table=<etl_rbase_output>, nullable=False, comment='Destination Table'), Column('database', String(length=200), table=<etl_rbase_output>, nullable=False, comment='Database'), Column('append_it', Boolean(), table=<etl_rbase_output>, default=ScalarElementColumnDefault(False), comment='Append'), Column('output_order', Integer(), table=<etl_rbase_output>, comment='Field Order'), Column('etl_rbase_output_conf', Text(), table=<etl_rbase_output>, comment='Config'), Column('active', Boolean(), table=<etl_rbase_output>, default=ScalarElementColumnDefault(True), comment='Active'), Column('user_id', Integer(), ForeignKey('user.user_id'), table=<etl_rbase_output>, comment='User ID'), Column('app_id', Integer(), ForeignKey('app.app_id'), table=<etl_rbase_output>, comment='App ID'), Column('created_at', DateTime(), table=<etl_rbase_output>, comment='Created at'), Column('updated_at', DateTime(), table=<etl_rbase_output>, comment='Updated at'), Column('excluded', Boolean(), table=<etl_rbase_output>, default=ScalarElementColumnDefault(False), comment='Excluded'), schema=None), 'etl_rb_output_field': Table('etl_rb_output_field', MetaData(), Column('etl_rb_output_field_id', Integer(), table=<etl_rb_output_field>, primary_key=True, nullable=False, comment='ID'), Column('etl_rb_output_field', String(length=200), table=<etl_rb_output_field>, nullable=False, comment='Field'), Column('etl_rb_output_field_desc', Text(), table=<etl_rb_output_field>, comment='Field Description'), Column('etl_rbase_output_id', Integer(), ForeignKey('etl_rbase_output.etl_rbase_output_id'), table=<etl_rb_output_field>, nullable=False, comment='Output ID'), Column('sql_select', Text(), table=<etl_rb_output_field>, nullable=False, comment='SELECT'), Column('sql_from', Text(), table=<etl_rb_output_field>, comment='FROM'), Column('sql_join', Text(), table=<etl_rb_output_field>, comment='JOIN'), Column('sql_where', Text(), table=<etl_rb_output_field>, comment='WHERE'), Column('sql_group_by', Text(), table=<etl_rb_output_field>, comment='GROUP BY'), Column('sql_order_by', Text(), table=<etl_rb_output_field>, comment='ORDER BY'), Column('sql_window', Text(), table=<etl_rb_output_field>, comment='WINDOW'), Column('sql_having', Text(), table=<etl_rb_output_field>, comment='HAVING'), Column('field_order', Integer(), table=<etl_rb_output_field>, comment='Field Order'), Column('fields_used', Text(), table=<etl_rb_output_field>, comment='Fields Used'), Column('etl_report_base_id', Integer(), ForeignKey('etl_report_base.etl_report_base_id'), table=<etl_rb_output_field>, comment='DB | ETL | Report | Quality ID'), Column('active', Boolean(), table=<etl_rb_output_field>, default=ScalarElementColumnDefault(True), comment='Active'), Column('user_id', Integer(), ForeignKey('user.user_id'), table=<etl_rb_output_field>, comment='User ID'), Column('app_id', Integer(), ForeignKey('app.app_id'), table=<etl_rb_output_field>, comment='App ID'), Column('created_at', DateTime(), table=<etl_rb_output_field>, comment='Created at'), Column('updated_at', DateTime(), table=<etl_rb_output_field>, comment='Updated at'), Column('excluded', Boolean(), table=<etl_rb_output_field>, default=ScalarElementColumnDefault(False), comment='Excluded'), schema=None), 'etl_rbase_quality': Table('etl_rbase_quality', MetaData(), Column('etl_rbase_quality_id', Integer(), table=<etl_rbase_quality>, primary_key=True, nullable=False, comment='ID'), Column('etl_rbase_quality', String(length=200), table=<etl_rbase_quality>, nullable=False, comment='Data Quality Rule'), Column('etl_rbase_quality_desc', Text(), table=<etl_rbase_quality>, comment='Rule Description'), Column('etl_report_base_id', Integer(), ForeignKey('etl_report_base.etl_report_base_id'), table=<etl_rbase_quality>, nullable=False, comment='DB | ETL | Report | Quality ID'), Column('sql_quality_check', Text(), table=<etl_rbase_quality>, nullable=False, comment='SQL Quality Check'), Column('sql_quality_fix', Text(), table=<etl_rbase_quality>, comment='SQL Quality Fix'), Column('comments', Text(), table=<etl_rbase_quality>, comment='Comments / Justifications'), Column('fields', Text(), table=<etl_rbase_quality>, comment='Fields'), Column('tables', Text(), table=<etl_rbase_quality>, comment='Tables'), Column('database', String(length=200), table=<etl_rbase_quality>, nullable=False, comment='Database'), Column('etl_rbase_quality_conf', Text(), table=<etl_rbase_quality>, comment='Rule Description'), Column('active', Boolean(), table=<etl_rbase_quality>, default=ScalarElementColumnDefault(True), comment='Active'), Column('user_id', Integer(), ForeignKey('user.user_id'), table=<etl_rbase_quality>, comment='User ID'), Column('app_id', Integer(), ForeignKey('app.app_id'), table=<etl_rbase_quality>, comment='App ID'), Column('created_at', DateTime(), table=<etl_rbase_quality>, comment='Created at'), Column('updated_at', DateTime(), table=<etl_rbase_quality>, comment='Updated at'), Column('excluded', Boolean(), table=<etl_rbase_quality>, default=ScalarElementColumnDefault(False), comment='Excluded'), schema=None), 'etl_rb_reconcilia': Table('etl_rb_reconcilia', MetaData(), Column('etl_rb_reconcilia_id', Integer(), table=<etl_rb_reconcilia>, primary_key=True, nullable=False, comment='ID'), Column('etl_rb_reconcilia', String(length=200), table=<etl_rb_reconcilia>, nullable=False, comment='Data Reconciliation Rule'), Column('etl_rb_reconcilia_desc', Text(), table=<etl_rb_reconcilia>, comment='Rule Description'), Column('etl_rb_reconc_template', Text(), table=<etl_rb_reconcilia>, comment='Template'), Column('database', String(length=200), table=<etl_rb_reconcilia>, nullable=False, comment='Database'), Column('active', Boolean(), table=<etl_rb_reconcilia>, default=ScalarElementColumnDefault(True), comment='Active'), Column('etl_report_base_id', Integer(), ForeignKey('etl_report_base.etl_report_base_id'), table=<etl_rb_reconcilia>, nullable=False, comment='DB | ETL | Report | Quality ID'), Column('user_id', Integer(), ForeignKey('user.user_id'), table=<etl_rb_reconcilia>, comment='User ID'), Column('app_id', Integer(), ForeignKey('app.app_id'), table=<etl_rb_reconcilia>, comment='App ID'), Column('created_at', DateTime(), table=<etl_rb_reconcilia>, comment='Created at'), Column('updated_at', DateTime(), table=<etl_rb_reconcilia>, comment='Updated at'), Column('excluded', Boolean(), table=<etl_rb_reconcilia>, default=ScalarElementColumnDefault(False), comment='Excluded'), schema=None), 'etl_rb_reconc_dtail': Table('etl_rb_reconc_dtail', MetaData(), Column('etl_rb_reconc_dtail_id', Integer(), table=<etl_rb_reconc_dtail>, primary_key=True, nullable=False, comment='ID'), Column('etl_rb_reconc_dtail', String(length=50), table=<etl_rb_reconc_dtail>, nullable=False, comment='Variable Name'), Column('etl_rb_reconc_dtail_desc', String(length=200), table=<etl_rb_reconc_dtail>, nullable=False, comment='Var. Description'), Column('sql_query_val_1', Text(), table=<etl_rb_reconc_dtail>, comment='SQL Query Valor 1'), Column('sql_query_val_2', Text(), table=<etl_rb_reconc_dtail>, comment='SQL Query Valor 2'), Column('is_eval_formula', Boolean(), table=<etl_rb_reconc_dtail>, default=ScalarElementColumnDefault(True), comment='Is Eval Formula'), Column('sql_reconcilia_query', Text(), table=<etl_rb_reconc_dtail>, comment='SQL / Formula Reconc'), Column('comments', Text(), table=<etl_rb_reconc_dtail>, comment='Comments / Justifications'), Column('etl_rb_reconcilia_id', Integer(), ForeignKey('etl_rb_reconcilia.etl_rb_reconcilia_id'), table=<etl_rb_reconc_dtail>, nullable=False, comment='Data Reconciliation ID'), Column('etl_report_base_id', Integer(), ForeignKey('etl_report_base.etl_report_base_id'), table=<etl_rb_reconc_dtail>, comment='DB | ETL | Report | Quality ID'), Column('active', Boolean(), table=<etl_rb_reconc_dtail>, default=ScalarElementColumnDefault(True), comment='Active'), Column('user_id', Integer(), ForeignKey('user.user_id'), table=<etl_rb_reconc_dtail>, comment='User ID'), Column('app_id', Integer(), ForeignKey('app.app_id'), table=<etl_rb_reconc_dtail>, comment='App ID'), Column('created_at', DateTime(), table=<etl_rb_reconc_dtail>, comment='Created at'), Column('updated_at', DateTime(), table=<etl_rb_reconc_dtail>, comment='Updated at'), Column('excluded', Boolean(), table=<etl_rb_reconc_dtail>, default=ScalarElementColumnDefault(False), comment='Excluded'), schema=None), 'export_type': Table('export_type', MetaData(), Column('export_type_id', Integer(), table=<export_type>, primary_key=True, nullable=False, comment='Export Type ID'), Column('export_type', String(length=100), table=<export_type>, nullable=False, comment='Export Type'), Column('created_at', DateTime(), table=<export_type>, comment='Created at'), Column('updated_at', DateTime(), table=<export_type>, comment='Updated at'), Column('excluded', Boolean(), table=<export_type>, default=ScalarElementColumnDefault(False), comment='Excluded'), schema=None), 'etl_rbase_export': Table('etl_rbase_export', MetaData(), Column('etl_rbase_export_id', Integer(), table=<etl_rbase_export>, primary_key=True, nullable=False, comment='ID'), Column('etl_rbase_export', String(length=200), table=<etl_rbase_export>, nullable=False, comment='Export'), Column('etl_rbase_export_desc', Text(), table=<etl_rbase_export>, comment='Export Description'), Column('etl_report_base_id', Integer(), ForeignKey('etl_report_base.etl_report_base_id'), table=<etl_rbase_export>, nullable=False, comment='DB | ETL | Report | Quality ID'), Column('export_type_id', Integer(), ForeignKey('export_type.export_type_id'), table=<etl_rbase_export>, nullable=False, comment='Export ID'), Column('attach_file_template', String(length=200), table=<etl_rbase_export>, nullable=False, comment='File name / Template'), Column('txt_fix_format_layout', Text(), table=<etl_rbase_export>, comment='Text with fixed format Layout'), Column('txt_fix_format_header', Text(), table=<etl_rbase_export>, comment='Text with fixed format Headers'), Column('etl_rbase_export_conf', Text(), table=<etl_rbase_export>, comment='Config'), Column('etl_rbase_output_id', Integer(), ForeignKey('etl_rbase_output.etl_rbase_output_id'), table=<etl_rbase_export>, comment='Output ID'), Column('database', String(length=200), table=<etl_rbase_export>, nullable=False, comment='Database'), Column('active', Boolean(), table=<etl_rbase_export>, default=ScalarElementColumnDefault(True), comment='Active'), Column('ignore', Boolean(), table=<etl_rbase_export>, default=ScalarElementColumnDefault(False), comment='Ignore'), Column('user_id', Integer(), ForeignKey('user.user_id'), table=<etl_rbase_export>, comment='User ID'), Column('app_id', Integer(), ForeignKey('app.app_id'), table=<etl_rbase_export>, comment='App ID'), Column('created_at', DateTime(), table=<etl_rbase_export>, comment='Created at'), Column('updated_at', DateTime(), table=<etl_rbase_export>, comment='Updated at'), Column('excluded', Boolean(), table=<etl_rbase_export>, default=ScalarElementColumnDefault(False), comment='Excluded'), schema=None), 'etl_rb_exp_dtail': Table('etl_rb_exp_dtail', MetaData(), Column('etl_rb_exp_dtail_id', Integer(), table=<etl_rb_exp_dtail>, primary_key=True, nullable=False, comment='ID'), Column('etl_rb_exp_dtail', String(length=200), table=<etl_rb_exp_dtail>, nullable=False, comment='Export Detail'), Column('etl_rb_exp_dtail_desc', Text(), table=<etl_rb_exp_dtail>, comment='Export Detail Description'), Column('etl_rbase_export_id', Integer(), ForeignKey('etl_rbase_export.etl_rbase_export_id'), table=<etl_rb_exp_dtail>, nullable=False, comment='Export ID'), Column('etl_report_base_id', Integer(), ForeignKey('etl_report_base.etl_report_base_id'), table=<etl_rb_exp_dtail>, nullable=False, comment='DB | ETL | Report | Quality ID'), Column('sql_export_query', Text(), table=<etl_rb_exp_dtail>, comment='Export SQL Query'), Column('database', String(length=200), table=<etl_rb_exp_dtail>, nullable=False, comment='Database'), Column('dest_sheet_name', String(length=200), table=<etl_rb_exp_dtail>, comment='Dest. Sheet Name'), Column('dest_table_name', String(length=200), table=<etl_rb_exp_dtail>, comment='Dest. Table Name'), Column('etl_rb_exp_dtail_conf', Text(), table=<etl_rb_exp_dtail>, comment='Config'), Column('active', Boolean(), table=<etl_rb_exp_dtail>, default=ScalarElementColumnDefault(True), comment='Active'), Column('user_id', Integer(), ForeignKey('user.user_id'), table=<etl_rb_exp_dtail>, comment='User ID'), Column('app_id', Integer(), ForeignKey('app.app_id'), table=<etl_rb_exp_dtail>, comment='App ID'), Column('created_at', DateTime(), table=<etl_rb_exp_dtail>, comment='Created at'), Column('updated_at', DateTime(), table=<etl_rb_exp_dtail>, comment='Updated at'), Column('excluded', Boolean(), table=<etl_rb_exp_dtail>, default=ScalarElementColumnDefault(False), comment='Excluded'), schema=None), 'etl_report_base_log': Table('etl_report_base_log', MetaData(), Column('log_id', Integer(), table=<etl_report_base_log>, primary_key=True, nullable=False, comment='ID Log'), Column('type', String(length=50), table=<etl_report_base_log>, nullable=False, comment='Type'), Column('name', String(length=100), table=<etl_report_base_log>, nullable=False, comment='Name'), Column('ref', Date(), table=<etl_report_base_log>, comment='Ref. Date'), Column('start', DateTime(), table=<etl_report_base_log>, comment='Started At'), Column('end', DateTime(), table=<etl_report_base_log>, comment='End At'), Column('timer', String(length=10), table=<etl_report_base_log>, comment='Duration'), Column('success', Boolean(), table=<etl_report_base_log>, comment='Success'), Column('msg', Text(), table=<etl_report_base_log>, comment='Response'), Column('num_rows', Integer(), table=<etl_report_base_log>, comment='Affected Rows'), Column('errors', Integer(), table=<etl_report_base_log>, comment='Errors'), Column('fixes', Integer(), table=<etl_report_base_log>, comment='Automated Fixes'), Column('fname', String(length=200), table=<etl_report_base_log>, comment='Generated Files'), Column('html', Text(), table=<etl_report_base_log>, comment='Html'), Column('etl_report_base_id', Integer(), ForeignKey('etl_report_base.etl_report_base_id'), table=<etl_report_base_log>, comment='DB | ETL | Report | Quality ID'), Column('app_id', Integer(), ForeignKey('app.app_id'), table=<etl_report_base_log>, comment='App ID'), Column('user_id', Integer(), ForeignKey('user.user_id'), table=<etl_report_base_log>, comment='User ID'), Column('created_at', DateTime(), table=<etl_report_base_log>, comment='Created at'), Column('updated_at', DateTime(), table=<etl_report_base_log>, comment='Updated at'), Column('excluded', Boolean(), table=<etl_report_base_log>, default=ScalarElementColumnDefault(False), comment='Excluded'), schema=None), 'etl_rbase_notify': Table('etl_rbase_notify', MetaData(), Column('notify_id', Integer(), table=<etl_rbase_notify>, primary_key=True, nullable=False, comment='ID'), Column('notify_subject', String(length=200), table=<etl_rbase_notify>, nullable=False, comment='Subject'), Column('notify_body', Text(), table=<etl_rbase_notify>, nullable=False, comment='Body'), Column('notify_to', String(length=200), table=<etl_rbase_notify>, nullable=False, comment='Mail TO'), Column('notify_cc', String(length=200), table=<etl_rbase_notify>, comment='Mail CC'), Column('notify_attach_exports', Boolean(), table=<etl_rbase_notify>, default=ScalarElementColumnDefault(False), comment='Attach Exports'), Column('notify_copy_exports_to', Boolean(), table=<etl_rbase_notify>, comment='Copy Exports'), Column('notify_copy_exports_path', String(length=200), table=<etl_rbase_notify>, comment='Copy Exports Path'), Column('notify_conf', Text(), table=<etl_rbase_notify>, comment='Conf'), Column('send_email', Boolean(), table=<etl_rbase_notify>, default=ScalarElementColumnDefault(True), comment='Send Email'), Column('active', Boolean(), table=<etl_rbase_notify>, default=ScalarElementColumnDefault(True), comment='Active'), Column('etl_report_base_id', Integer(), ForeignKey('etl_report_base.etl_report_base_id'), table=<etl_rbase_notify>, comment='DB | ETL | Report | Quality ID'), Column('user_id', Integer(), ForeignKey('user.user_id'), table=<etl_rbase_notify>, comment='User ID'), Column('app_id', Integer(), ForeignKey('app.app_id'), table=<etl_rbase_notify>, comment='App ID'), Column('created_at', DateTime(), table=<etl_rbase_notify>, comment='Created at'), Column('updated_at', DateTime(), table=<etl_rbase_notify>, comment='Updated at'), Column('excluded', Boolean(), table=<etl_rbase_notify>, default=ScalarElementColumnDefault(False), comment='Excluded'), schema=None), 'etl_rbase_backup': Table('etl_rbase_backup', MetaData(), Column('backup_id', Integer(), table=<etl_rbase_backup>, primary_key=True, nullable=False, comment='ID'), Column('backup', String(length=200), table=<etl_rbase_backup>, nullable=False, comment='Backup'), Column('backup_sql', Text(), table=<etl_rbase_backup>, comment='SQL'), Column('backup_copy_to', Boolean(), table=<etl_rbase_backup>, comment='Copy'), Column('backup_copy_path', String(length=200), table=<etl_rbase_backup>, comment='Path'), Column('backup_conf', Text(), table=<etl_rbase_backup>, comment='Conf'), Column('active', Boolean(), table=<etl_rbase_backup>, default=ScalarElementColumnDefault(True), comment='Active'), Column('etl_report_base_id', Integer(), ForeignKey('etl_report_base.etl_report_base_id'), table=<etl_rbase_backup>, comment='DB | ETL | Report | Quality ID'), Column('user_id', Integer(), ForeignKey('user.user_id'), table=<etl_rbase_backup>, comment='User ID'), Column('app_id', Integer(), ForeignKey('app.app_id'), table=<etl_rbase_backup>, comment='App ID'), Column('created_at', DateTime(), table=<etl_rbase_backup>, comment='Created at'), Column('updated_at', DateTime(), table=<etl_rbase_backup>, comment='Updated at'), Column('excluded', Boolean(), table=<etl_rbase_backup>, default=ScalarElementColumnDefault(False), comment='Excluded'), schema=None), 'etl_rbase_script': Table('etl_rbase_script', MetaData(), Column('script_id', Integer(), table=<etl_rbase_script>, primary_key=True, nullable=False, comment='ID'), Column('script', String(length=200), table=<etl_rbase_script>, nullable=False, comment='Script'), Column('script_sql', Text(), table=<etl_rbase_script>, comment='SQL'), Column('script_conf', Text(), table=<etl_rbase_script>, comment='Conf'), Column('active', Boolean(), table=<etl_rbase_script>, default=ScalarElementColumnDefault(True), comment='Active'), Column('etl_report_base_id', Integer(), ForeignKey('etl_report_base.etl_report_base_id'), table=<etl_rbase_script>, comment='DB | ETL | Report | Quality ID'), Column('user_id', Integer(), ForeignKey('user.user_id'), table=<etl_rbase_script>, comment='User ID'), Column('app_id', Integer(), ForeignKey('app.app_id'), table=<etl_rbase_script>, comment='App ID'), Column('created_at', DateTime(), table=<etl_rbase_script>, comment='Created at'), Column('updated_at', DateTime(), table=<etl_rbase_script>, comment='Updated at'), Column('excluded', Boolean(), table=<etl_rbase_script>, default=ScalarElementColumnDefault(False), comment='Excluded'), schema=None), 'manage_query': Table('manage_query', MetaData(), Column('manage_query_id', Integer(), table=<manage_query>, primary_key=True, nullable=False, comment='ID'), Column('manage_query', String(length=200), table=<manage_query>, nullable=False, comment='Query Desc'), Column('database', String(length=200), table=<manage_query>, nullable=False, comment='Database'), Column('manage_query_conf', Text(), table=<manage_query>, comment='Query Config'), Column('active', Boolean(), table=<manage_query>, default=ScalarElementColumnDefault(True), comment='Active'), Column('user_id', Integer(), ForeignKey('user.user_id'), table=<manage_query>, comment='User ID'), Column('app_id', Integer(), ForeignKey('app.app_id'), table=<manage_query>, comment='App ID'), Column('created_at', DateTime(), table=<manage_query>, comment='Created at'), Column('updated_at', DateTime(), table=<manage_query>, comment='Updated at'), Column('excluded', Boolean(), table=<manage_query>, default=ScalarElementColumnDefault(False), comment='Excluded'), schema=None), 'dashboard': Table('dashboard', MetaData(), Column('dashboard_id', Integer(), table=<dashboard>, primary_key=True, nullable=False, comment='Dashboard ID'), Column('dashboard', String(length=200), table=<dashboard>, comment='Dashboard'), Column('dashboard_desc', Text(), table=<dashboard>, comment='Description'), Column('dashboard_conf', Text(), table=<dashboard>, nullable=False, comment='Conf / Params'), Column('order', Integer(), table=<dashboard>, comment='Order'), Column('active', Boolean(), table=<dashboard>, default=ScalarElementColumnDefault(True), comment='Active'), Column('user_id', Integer(), ForeignKey('user.user_id'), table=<dashboard>, comment='User ID'), Column('app_id', Integer(), ForeignKey('app.app_id'), table=<dashboard>, comment='App ID'), Column('created_at', DateTime(), table=<dashboard>, comment='Created at'), Column('updated_at', DateTime(), table=<dashboard>, comment='Updated at'), Column('excluded', Boolean(), table=<dashboard>, default=ScalarElementColumnDefault(False), comment='Excluded'), schema=None), 'dashboard_comment': Table('dashboard_comment', MetaData(), Column('dashboard_comment_id', Integer(), table=<dashboard_comment>, primary_key=True, nullable=False, comment='Comment ID'), Column('dashboard_comment', Text(), table=<dashboard_comment>, comment='Comments'), Column('dashboard', String(length=200), table=<dashboard_comment>, comment='Dashboard'), Column('active', Boolean(), table=<dashboard_comment>, default=ScalarElementColumnDefault(True), comment='Active'), Column('user_id', Integer(), ForeignKey('user.user_id'), table=<dashboard_comment>, comment='User ID'), Column('app_id', Integer(), ForeignKey('app.app_id'), table=<dashboard_comment>, comment='App ID'), Column('created_at', DateTime(), table=<dashboard_comment>, comment='Created at'), Column('updated_at', DateTime(), table=<dashboard_comment>, comment='Updated at'), Column('excluded', Boolean(), table=<dashboard_comment>, default=ScalarElementColumnDefault(False), comment='Excluded'), schema=None), 'calendar': Table('calendar', MetaData(), Column('calendar_id', Integer(), table=<calendar>, primary_key=True, nullable=False, comment='Calendar ID'), Column('calendar', String(length=100), table=<calendar>, nullable=False, comment='Calendar'), Column('calendar_desc', Text(), table=<calendar>, comment='Description'), Column('calendar_email', String(length=200), table=<calendar>, comment='Email'), Column('calendar_color', String(length=50), table=<calendar>, comment='Calendar Color'), Column('user_id', Integer(), ForeignKey('user.user_id'), table=<calendar>, comment='User ID'), Column('app_id', Integer(), ForeignKey('app.app_id'), table=<calendar>, comment='App ID'), Column('created_at', DateTime(), table=<calendar>, comment='Created at'), Column('updated_at', DateTime(), table=<calendar>, comment='Updated at'), Column('excluded', Boolean(), table=<calendar>, default=ScalarElementColumnDefault(False), comment='Excluded'), schema=None), 'task_status': Table('task_status', MetaData(), Column('task_status_id', Integer(), table=<task_status>, primary_key=True, nullable=False, comment='Status ID'), Column('task_status', String(length=10), table=<task_status>, nullable=False, comment='Status'), Column('excluded', Boolean(), table=<task_status>, default=ScalarElementColumnDefault(False), comment='Excluded'), schema=None), 'repeat_type': Table('repeat_type', MetaData(), Column('repeat_type_id', Integer(), table=<repeat_type>, primary_key=True, nullable=False, comment='Type of repetition ID'), Column('repeat_type', String(length=10), table=<repeat_type>, nullable=False, comment='Type of Repetition'), Column('excluded', Boolean(), table=<repeat_type>, default=ScalarElementColumnDefault(False), comment='Excluded'), schema=None), 'task': Table('task', MetaData(), Column('task_id', Integer(), table=<task>, primary_key=True, nullable=False, comment='Task Id'), Column('task', String(length=100), table=<task>, nullable=False, comment='task'), Column('task_desc', Text(), table=<task>, comment='Description'), Column('starts_at', DateTime(), table=<task>, nullable=False, comment='Starts at'), Column('ends_at', DateTime(), table=<task>, comment='Ends at'), Column('calendar_id', Integer(), ForeignKey('calendar.calendar_id'), table=<task>, comment='Calendar ID'), Column('calendar_color', String(length=50), table=<task>, comment='Calendar Color'), Column('calendar_email', String(length=200), table=<task>, comment='Email'), Column('task_status_id', Integer(), ForeignKey('task_status.task_status_id'), table=<task>, comment='Status ID'), Column('task_status', String(length=50), table=<task>, comment='Status'), Column('attach_task', String(length=200), table=<task>, comment='Attachment'), Column('repeat', Boolean(), table=<task>, default=ScalarElementColumnDefault(True), comment='Repeat'), Column('repeat_type_id', Integer(), ForeignKey('repeat_type.repeat_type_id'), table=<task>, comment='Repeat Type ID'), Column('days_of_week', String(length=200), table=<task>, comment='Days of week'), Column('repeat_start_date', Date(), table=<task>, comment='Repeat start date'), Column('repeat_start_time', Time(), table=<task>, comment='Repeat start time'), Column('repeat_end_date', Date(), table=<task>, comment='Repeat end date'), Column('repeat_end_time', Time(), table=<task>, comment='Repeat end time'), Column('attendees', Text(), table=<task>, comment='Attendees'), Column('active', Boolean(), table=<task>, default=ScalarElementColumnDefault(True), comment='Active'), Column('user_id', Integer(), ForeignKey('user.user_id'), table=<task>, comment='User ID'), Column('app_id', Integer(), ForeignKey('app.app_id'), table=<task>, comment='App ID'), Column('created_at', DateTime(), table=<task>, comment='Created at'), Column('updated_at', DateTime(), table=<task>, comment='Updated at'), Column('excluded', Boolean(), table=<task>, default=ScalarElementColumnDefault(False), comment='Excluded'), schema=None), 'task_track': Table('task_track', MetaData(), Column('task_track_id', Integer(), table=<task_track>, primary_key=True, nullable=False, comment='Status Update ID'), Column('task_track', String(length=100), table=<task_track>, nullable=False, comment='Status Update'), Column('task_track_desc', Text(), table=<task_track>, comment='Description'), Column('task_track_date', DateTime(), table=<task_track>, nullable=False, comment='Date'), Column('task_status_id', Integer(), ForeignKey('task_status.task_status_id'), table=<task_track>, comment='Status ID'), Column('attach_task_track', String(length=200), table=<task_track>, comment='Attachment'), Column('task_id', Integer(), ForeignKey('task.task_id'), table=<task_track>, comment='Task ID'), Column('user_id', Integer(), ForeignKey('user.user_id'), table=<task_track>, comment='User ID'), Column('app_id', Integer(), ForeignKey('app.app_id'), table=<task_track>, comment='App ID'), Column('created_at', DateTime(), table=<task_track>, comment='Created at'), Column('updated_at', DateTime(), table=<task_track>, comment='Updated at'), Column('excluded', Boolean(), table=<task_track>, default=ScalarElementColumnDefault(False), comment='Excluded'), schema=None)})\n"
     ]
    }
   ],
   "source": [
    "tables = Base.metadata.tables\n",
    "print(tables)"
   ]
  },
  {
   "attachments": {},
   "cell_type": "markdown",
   "metadata": {},
   "source": [
    "# REGISTER ALL THE TABLE AND THE COMMENTS / LABELS"
   ]
  },
  {
   "cell_type": "code",
   "execution_count": 178,
   "metadata": {
    "ExecuteTime": {
     "end_time": "2020-09-10T15:37:40.341633Z",
     "start_time": "2020-09-10T15:37:40.312595Z"
    },
    "code_folding": [
     8,
     21,
     33
    ],
    "execution": {
     "iopub.execute_input": "2021-04-10T14:22:00.706720Z",
     "iopub.status.busy": "2021-04-10T14:22:00.706720Z",
     "iopub.status.idle": "2021-04-10T14:22:00.978660Z",
     "shell.execute_reply": "2021-04-10T14:22:00.978660Z",
     "shell.execute_reply.started": "2021-04-10T14:22:00.706720Z"
    }
   },
   "outputs": [],
   "source": [
    "i = 1\n",
    "j = 1\n",
    "now = datetime.datetime.now()\n",
    "_data = {}\n",
    "for cls in Base.__subclasses__():\n",
    "    if not _updated_tables:\n",
    "        pass\n",
    "    elif len(_updated_tables) == 0:\n",
    "        pass\n",
    "    elif cls.__tablename__ not in _updated_tables:\n",
    "        continue\n",
    "    args = cls.__table_args__\n",
    "    if not _data.get('table'):\n",
    "        _data['table'] = []\n",
    "    _data['table'].append({\n",
    "        'table': cls.__tablename__,\n",
    "        'table_desc': args['comment'],\n",
    "        'db': database,\n",
    "        'user_id': 1,\n",
    "        'created_at': now,\n",
    "        'updated_at': now,\n",
    "        'excluded': False\n",
    "    })\n",
    "    if not _data.get('translate_table'):\n",
    "        _data['translate_table'] = []\n",
    "    _data['translate_table'].append({\n",
    "        'table_org_desc': args['comment'],\n",
    "        'table_transl_desc': args['comment'],\n",
    "        'table': cls.__tablename__,\n",
    "        'db': database,\n",
    "        'lang': 'en',\n",
    "        'user_id': 1,\n",
    "        'created_at': now,\n",
    "        'updated_at': now,\n",
    "        'excluded': False\n",
    "    })\n",
    "    for c in cls.__table__.columns:\n",
    "        if not _data.get('translate_table_field'):\n",
    "            _data['translate_table_field'] = []\n",
    "        _data['translate_table_field'].append({\n",
    "                'field_org_desc': c.comment,\n",
    "                'field_transl_desc': c.comment,\n",
    "                'field': str(c.name),\n",
    "                'table': cls.__tablename__,\n",
    "                'db': database,\n",
    "                'lang': 'en',\n",
    "                'user_id': 1,\n",
    "                'created_at': now,\n",
    "                'updated_at': now,\n",
    "                'excluded': False\n",
    "            })\n",
    "        if not _data.get('table_schema'):\n",
    "            _data['table_schema'] = []\n",
    "        fk = False\n",
    "        referred_table = None\n",
    "        referred_column = None\n",
    "        if c.foreign_keys:\n",
    "            fk = True\n",
    "            for _fk in c.foreign_keys:\n",
    "                #print(f\"  Foreign Key to: {_fk.column.table.name}.{_fk.column.name}\")\n",
    "                #print(f\"  On Table: {_fk.column.table}\")\n",
    "                referred_table = str(_fk.column.table)\n",
    "                #print(f\"  Referenced Column: {_fk.column}\")\n",
    "                referred_column = str(_fk.column.name).replace(f'{referred_table}.', '')\n",
    "            #print(fk, referred_table, referred_column)\n",
    "        default_value = None\n",
    "        if c.default is not None:\n",
    "            default_value = c.default.arg\n",
    "            #print(c.name, default_value)\n",
    "        _data['table_schema'].append({\n",
    "                'table': cls.__tablename__,\n",
    "                'db': database,\n",
    "                'field': str(c.name),\n",
    "                'pk': c.primary_key,\n",
    "                'type': str(c.type),\n",
    "                'nullable': c.nullable,\n",
    "                'default': default_value,\n",
    "                'autoincrement': None if c.autoincrement == 'auto' else c.autoincrement,\n",
    "                'comment': str(c.comment),\n",
    "                'computed': c.computed,\n",
    "                'fk': fk,\n",
    "                'referred_table': referred_table,\n",
    "                'referred_column': referred_column,\n",
    "                'user_id': 1,\n",
    "                'created_at': now,\n",
    "                'updated_at': now,\n",
    "                'excluded': False\n",
    "            })\n",
    "        j += 1\n",
    "    i += 1"
   ]
  },
  {
   "cell_type": "code",
   "execution_count": 179,
   "metadata": {},
   "outputs": [
    {
     "name": "stdout",
     "output_type": "stream",
     "text": [
      "{'table': [{'table': 'cron', 'table_desc': 'Jobs scheduling', 'db': 'ADMIN', 'user_id': 1, 'created_at': datetime.datetime(2025, 7, 6, 11, 6, 0, 524350), 'updated_at': datetime.datetime(2025, 7, 6, 11, 6, 0, 524350), 'excluded': False}, {'table': 'cron_log', 'table_desc': 'Jobs scheduling logs', 'db': 'ADMIN', 'user_id': 1, 'created_at': datetime.datetime(2025, 7, 6, 11, 6, 0, 524350), 'updated_at': datetime.datetime(2025, 7, 6, 11, 6, 0, 524350), 'excluded': False}], 'translate_table': [{'table_org_desc': 'Jobs scheduling', 'table_transl_desc': 'Jobs scheduling', 'table': 'cron', 'db': 'ADMIN', 'lang': 'en', 'user_id': 1, 'created_at': datetime.datetime(2025, 7, 6, 11, 6, 0, 524350), 'updated_at': datetime.datetime(2025, 7, 6, 11, 6, 0, 524350), 'excluded': False}, {'table_org_desc': 'Jobs scheduling logs', 'table_transl_desc': 'Jobs scheduling logs', 'table': 'cron_log', 'db': 'ADMIN', 'lang': 'en', 'user_id': 1, 'created_at': datetime.datetime(2025, 7, 6, 11, 6, 0, 524350), 'updated_at': datetime.datetime(2025, 7, 6, 11, 6, 0, 524350), 'excluded': False}], 'translate_table_field': [{'field_org_desc': 'Cron ID', 'field_transl_desc': 'Cron ID', 'field': 'cron_id', 'table': 'cron', 'db': 'ADMIN', 'lang': 'en', 'user_id': 1, 'created_at': datetime.datetime(2025, 7, 6, 11, 6, 0, 524350), 'updated_at': datetime.datetime(2025, 7, 6, 11, 6, 0, 524350), 'excluded': False}, {'field_org_desc': 'Cron', 'field_transl_desc': 'Cron', 'field': 'cron', 'table': 'cron', 'db': 'ADMIN', 'lang': 'en', 'user_id': 1, 'created_at': datetime.datetime(2025, 7, 6, 11, 6, 0, 524350), 'updated_at': datetime.datetime(2025, 7, 6, 11, 6, 0, 524350), 'excluded': False}, {'field_org_desc': 'Decription', 'field_transl_desc': 'Decription', 'field': 'cron_desc', 'table': 'cron', 'db': 'ADMIN', 'lang': 'en', 'user_id': 1, 'created_at': datetime.datetime(2025, 7, 6, 11, 6, 0, 524350), 'updated_at': datetime.datetime(2025, 7, 6, 11, 6, 0, 524350), 'excluded': False}, {'field_org_desc': 'API', 'field_transl_desc': 'API', 'field': 'api', 'table': 'cron', 'db': 'ADMIN', 'lang': 'en', 'user_id': 1, 'created_at': datetime.datetime(2025, 7, 6, 11, 6, 0, 524350), 'updated_at': datetime.datetime(2025, 7, 6, 11, 6, 0, 524350), 'excluded': False}, {'field_org_desc': 'App ID', 'field_transl_desc': 'App ID', 'field': 'app_id', 'table': 'cron', 'db': 'ADMIN', 'lang': 'en', 'user_id': 1, 'created_at': datetime.datetime(2025, 7, 6, 11, 6, 0, 524350), 'updated_at': datetime.datetime(2025, 7, 6, 11, 6, 0, 524350), 'excluded': False}, {'field_org_desc': 'Database', 'field_transl_desc': 'Database', 'field': 'db', 'table': 'cron', 'db': 'ADMIN', 'lang': 'en', 'user_id': 1, 'created_at': datetime.datetime(2025, 7, 6, 11, 6, 0, 524350), 'updated_at': datetime.datetime(2025, 7, 6, 11, 6, 0, 524350), 'excluded': False}, {'field_org_desc': 'Table', 'field_transl_desc': 'Table', 'field': 'table', 'table': 'cron', 'db': 'ADMIN', 'lang': 'en', 'user_id': 1, 'created_at': datetime.datetime(2025, 7, 6, 11, 6, 0, 524350), 'updated_at': datetime.datetime(2025, 7, 6, 11, 6, 0, 524350), 'excluded': False}, {'field_org_desc': 'Active', 'field_transl_desc': 'Active', 'field': 'active', 'table': 'cron', 'db': 'ADMIN', 'lang': 'en', 'user_id': 1, 'created_at': datetime.datetime(2025, 7, 6, 11, 6, 0, 524350), 'updated_at': datetime.datetime(2025, 7, 6, 11, 6, 0, 524350), 'excluded': False}, {'field_org_desc': 'Created at', 'field_transl_desc': 'Created at', 'field': 'created_at', 'table': 'cron', 'db': 'ADMIN', 'lang': 'en', 'user_id': 1, 'created_at': datetime.datetime(2025, 7, 6, 11, 6, 0, 524350), 'updated_at': datetime.datetime(2025, 7, 6, 11, 6, 0, 524350), 'excluded': False}, {'field_org_desc': 'Updated at', 'field_transl_desc': 'Updated at', 'field': 'updated_at', 'table': 'cron', 'db': 'ADMIN', 'lang': 'en', 'user_id': 1, 'created_at': datetime.datetime(2025, 7, 6, 11, 6, 0, 524350), 'updated_at': datetime.datetime(2025, 7, 6, 11, 6, 0, 524350), 'excluded': False}, {'field_org_desc': 'Excluded', 'field_transl_desc': 'Excluded', 'field': 'excluded', 'table': 'cron', 'db': 'ADMIN', 'lang': 'en', 'user_id': 1, 'created_at': datetime.datetime(2025, 7, 6, 11, 6, 0, 524350), 'updated_at': datetime.datetime(2025, 7, 6, 11, 6, 0, 524350), 'excluded': False}, {'field_org_desc': 'Cron Log ID', 'field_transl_desc': 'Cron Log ID', 'field': 'cron_log_id', 'table': 'cron_log', 'db': 'ADMIN', 'lang': 'en', 'user_id': 1, 'created_at': datetime.datetime(2025, 7, 6, 11, 6, 0, 524350), 'updated_at': datetime.datetime(2025, 7, 6, 11, 6, 0, 524350), 'excluded': False}, {'field_org_desc': 'Cron ID', 'field_transl_desc': 'Cron ID', 'field': 'cron_id', 'table': 'cron_log', 'db': 'ADMIN', 'lang': 'en', 'user_id': 1, 'created_at': datetime.datetime(2025, 7, 6, 11, 6, 0, 524350), 'updated_at': datetime.datetime(2025, 7, 6, 11, 6, 0, 524350), 'excluded': False}, {'field_org_desc': 'Cron', 'field_transl_desc': 'Cron', 'field': 'cron', 'table': 'cron_log', 'db': 'ADMIN', 'lang': 'en', 'user_id': 1, 'created_at': datetime.datetime(2025, 7, 6, 11, 6, 0, 524350), 'updated_at': datetime.datetime(2025, 7, 6, 11, 6, 0, 524350), 'excluded': False}, {'field_org_desc': 'Decription', 'field_transl_desc': 'Decription', 'field': 'cron_desc', 'table': 'cron_log', 'db': 'ADMIN', 'lang': 'en', 'user_id': 1, 'created_at': datetime.datetime(2025, 7, 6, 11, 6, 0, 524350), 'updated_at': datetime.datetime(2025, 7, 6, 11, 6, 0, 524350), 'excluded': False}, {'field_org_desc': 'API', 'field_transl_desc': 'API', 'field': 'api', 'table': 'cron_log', 'db': 'ADMIN', 'lang': 'en', 'user_id': 1, 'created_at': datetime.datetime(2025, 7, 6, 11, 6, 0, 524350), 'updated_at': datetime.datetime(2025, 7, 6, 11, 6, 0, 524350), 'excluded': False}, {'field_org_desc': 'Job Start', 'field_transl_desc': 'Job Start', 'field': 'start_at', 'table': 'cron_log', 'db': 'ADMIN', 'lang': 'en', 'user_id': 1, 'created_at': datetime.datetime(2025, 7, 6, 11, 6, 0, 524350), 'updated_at': datetime.datetime(2025, 7, 6, 11, 6, 0, 524350), 'excluded': False}, {'field_org_desc': 'Job End', 'field_transl_desc': 'Job End', 'field': 'end_at', 'table': 'cron_log', 'db': 'ADMIN', 'lang': 'en', 'user_id': 1, 'created_at': datetime.datetime(2025, 7, 6, 11, 6, 0, 524350), 'updated_at': datetime.datetime(2025, 7, 6, 11, 6, 0, 524350), 'excluded': False}, {'field_org_desc': 'Success', 'field_transl_desc': 'Success', 'field': 'success', 'table': 'cron_log', 'db': 'ADMIN', 'lang': 'en', 'user_id': 1, 'created_at': datetime.datetime(2025, 7, 6, 11, 6, 0, 524350), 'updated_at': datetime.datetime(2025, 7, 6, 11, 6, 0, 524350), 'excluded': False}, {'field_org_desc': 'Message', 'field_transl_desc': 'Message', 'field': 'cron_msg', 'table': 'cron_log', 'db': 'ADMIN', 'lang': 'en', 'user_id': 1, 'created_at': datetime.datetime(2025, 7, 6, 11, 6, 0, 524350), 'updated_at': datetime.datetime(2025, 7, 6, 11, 6, 0, 524350), 'excluded': False}, {'field_org_desc': 'App ID', 'field_transl_desc': 'App ID', 'field': 'app_id', 'table': 'cron_log', 'db': 'ADMIN', 'lang': 'en', 'user_id': 1, 'created_at': datetime.datetime(2025, 7, 6, 11, 6, 0, 524350), 'updated_at': datetime.datetime(2025, 7, 6, 11, 6, 0, 524350), 'excluded': False}, {'field_org_desc': 'Database', 'field_transl_desc': 'Database', 'field': 'db', 'table': 'cron_log', 'db': 'ADMIN', 'lang': 'en', 'user_id': 1, 'created_at': datetime.datetime(2025, 7, 6, 11, 6, 0, 524350), 'updated_at': datetime.datetime(2025, 7, 6, 11, 6, 0, 524350), 'excluded': False}, {'field_org_desc': 'Table', 'field_transl_desc': 'Table', 'field': 'table', 'table': 'cron_log', 'db': 'ADMIN', 'lang': 'en', 'user_id': 1, 'created_at': datetime.datetime(2025, 7, 6, 11, 6, 0, 524350), 'updated_at': datetime.datetime(2025, 7, 6, 11, 6, 0, 524350), 'excluded': False}, {'field_org_desc': 'Created at', 'field_transl_desc': 'Created at', 'field': 'created_at', 'table': 'cron_log', 'db': 'ADMIN', 'lang': 'en', 'user_id': 1, 'created_at': datetime.datetime(2025, 7, 6, 11, 6, 0, 524350), 'updated_at': datetime.datetime(2025, 7, 6, 11, 6, 0, 524350), 'excluded': False}, {'field_org_desc': 'Updated at', 'field_transl_desc': 'Updated at', 'field': 'updated_at', 'table': 'cron_log', 'db': 'ADMIN', 'lang': 'en', 'user_id': 1, 'created_at': datetime.datetime(2025, 7, 6, 11, 6, 0, 524350), 'updated_at': datetime.datetime(2025, 7, 6, 11, 6, 0, 524350), 'excluded': False}, {'field_org_desc': 'Excluded', 'field_transl_desc': 'Excluded', 'field': 'excluded', 'table': 'cron_log', 'db': 'ADMIN', 'lang': 'en', 'user_id': 1, 'created_at': datetime.datetime(2025, 7, 6, 11, 6, 0, 524350), 'updated_at': datetime.datetime(2025, 7, 6, 11, 6, 0, 524350), 'excluded': False}], 'table_schema': [{'table': 'cron', 'db': 'ADMIN', 'field': 'cron_id', 'pk': True, 'type': 'INTEGER', 'nullable': False, 'default': None, 'autoincrement': True, 'comment': 'Cron ID', 'computed': None, 'fk': False, 'referred_table': None, 'referred_column': None, 'user_id': 1, 'created_at': datetime.datetime(2025, 7, 6, 11, 6, 0, 524350), 'updated_at': datetime.datetime(2025, 7, 6, 11, 6, 0, 524350), 'excluded': False}, {'table': 'cron', 'db': 'ADMIN', 'field': 'cron', 'pk': False, 'type': 'VARCHAR(50)', 'nullable': False, 'default': None, 'autoincrement': None, 'comment': 'Cron', 'computed': None, 'fk': False, 'referred_table': None, 'referred_column': None, 'user_id': 1, 'created_at': datetime.datetime(2025, 7, 6, 11, 6, 0, 524350), 'updated_at': datetime.datetime(2025, 7, 6, 11, 6, 0, 524350), 'excluded': False}, {'table': 'cron', 'db': 'ADMIN', 'field': 'cron_desc', 'pk': False, 'type': 'VARCHAR(200)', 'nullable': False, 'default': None, 'autoincrement': None, 'comment': 'Decription', 'computed': None, 'fk': False, 'referred_table': None, 'referred_column': None, 'user_id': 1, 'created_at': datetime.datetime(2025, 7, 6, 11, 6, 0, 524350), 'updated_at': datetime.datetime(2025, 7, 6, 11, 6, 0, 524350), 'excluded': False}, {'table': 'cron', 'db': 'ADMIN', 'field': 'api', 'pk': False, 'type': 'VARCHAR(200)', 'nullable': False, 'default': None, 'autoincrement': None, 'comment': 'API', 'computed': None, 'fk': False, 'referred_table': None, 'referred_column': None, 'user_id': 1, 'created_at': datetime.datetime(2025, 7, 6, 11, 6, 0, 524350), 'updated_at': datetime.datetime(2025, 7, 6, 11, 6, 0, 524350), 'excluded': False}, {'table': 'cron', 'db': 'ADMIN', 'field': 'app_id', 'pk': False, 'type': 'INTEGER', 'nullable': True, 'default': None, 'autoincrement': None, 'comment': 'App ID', 'computed': None, 'fk': True, 'referred_table': 'app', 'referred_column': 'app_id', 'user_id': 1, 'created_at': datetime.datetime(2025, 7, 6, 11, 6, 0, 524350), 'updated_at': datetime.datetime(2025, 7, 6, 11, 6, 0, 524350), 'excluded': False}, {'table': 'cron', 'db': 'ADMIN', 'field': 'db', 'pk': False, 'type': 'VARCHAR(200)', 'nullable': True, 'default': None, 'autoincrement': None, 'comment': 'Database', 'computed': None, 'fk': False, 'referred_table': None, 'referred_column': None, 'user_id': 1, 'created_at': datetime.datetime(2025, 7, 6, 11, 6, 0, 524350), 'updated_at': datetime.datetime(2025, 7, 6, 11, 6, 0, 524350), 'excluded': False}, {'table': 'cron', 'db': 'ADMIN', 'field': 'table', 'pk': False, 'type': 'VARCHAR(50)', 'nullable': True, 'default': None, 'autoincrement': None, 'comment': 'Table', 'computed': None, 'fk': False, 'referred_table': None, 'referred_column': None, 'user_id': 1, 'created_at': datetime.datetime(2025, 7, 6, 11, 6, 0, 524350), 'updated_at': datetime.datetime(2025, 7, 6, 11, 6, 0, 524350), 'excluded': False}, {'table': 'cron', 'db': 'ADMIN', 'field': 'active', 'pk': False, 'type': 'BOOLEAN', 'nullable': True, 'default': True, 'autoincrement': None, 'comment': 'Active', 'computed': None, 'fk': False, 'referred_table': None, 'referred_column': None, 'user_id': 1, 'created_at': datetime.datetime(2025, 7, 6, 11, 6, 0, 524350), 'updated_at': datetime.datetime(2025, 7, 6, 11, 6, 0, 524350), 'excluded': False}, {'table': 'cron', 'db': 'ADMIN', 'field': 'created_at', 'pk': False, 'type': 'DATETIME', 'nullable': True, 'default': None, 'autoincrement': None, 'comment': 'Created at', 'computed': None, 'fk': False, 'referred_table': None, 'referred_column': None, 'user_id': 1, 'created_at': datetime.datetime(2025, 7, 6, 11, 6, 0, 524350), 'updated_at': datetime.datetime(2025, 7, 6, 11, 6, 0, 524350), 'excluded': False}, {'table': 'cron', 'db': 'ADMIN', 'field': 'updated_at', 'pk': False, 'type': 'DATETIME', 'nullable': True, 'default': None, 'autoincrement': None, 'comment': 'Updated at', 'computed': None, 'fk': False, 'referred_table': None, 'referred_column': None, 'user_id': 1, 'created_at': datetime.datetime(2025, 7, 6, 11, 6, 0, 524350), 'updated_at': datetime.datetime(2025, 7, 6, 11, 6, 0, 524350), 'excluded': False}, {'table': 'cron', 'db': 'ADMIN', 'field': 'excluded', 'pk': False, 'type': 'BOOLEAN', 'nullable': True, 'default': False, 'autoincrement': None, 'comment': 'Excluded', 'computed': None, 'fk': False, 'referred_table': None, 'referred_column': None, 'user_id': 1, 'created_at': datetime.datetime(2025, 7, 6, 11, 6, 0, 524350), 'updated_at': datetime.datetime(2025, 7, 6, 11, 6, 0, 524350), 'excluded': False}, {'table': 'cron_log', 'db': 'ADMIN', 'field': 'cron_log_id', 'pk': True, 'type': 'INTEGER', 'nullable': False, 'default': None, 'autoincrement': True, 'comment': 'Cron Log ID', 'computed': None, 'fk': False, 'referred_table': None, 'referred_column': None, 'user_id': 1, 'created_at': datetime.datetime(2025, 7, 6, 11, 6, 0, 524350), 'updated_at': datetime.datetime(2025, 7, 6, 11, 6, 0, 524350), 'excluded': False}, {'table': 'cron_log', 'db': 'ADMIN', 'field': 'cron_id', 'pk': False, 'type': 'INTEGER', 'nullable': True, 'default': None, 'autoincrement': None, 'comment': 'Cron ID', 'computed': None, 'fk': True, 'referred_table': 'cron', 'referred_column': 'cron_id', 'user_id': 1, 'created_at': datetime.datetime(2025, 7, 6, 11, 6, 0, 524350), 'updated_at': datetime.datetime(2025, 7, 6, 11, 6, 0, 524350), 'excluded': False}, {'table': 'cron_log', 'db': 'ADMIN', 'field': 'cron', 'pk': False, 'type': 'VARCHAR(50)', 'nullable': False, 'default': None, 'autoincrement': None, 'comment': 'Cron', 'computed': None, 'fk': False, 'referred_table': None, 'referred_column': None, 'user_id': 1, 'created_at': datetime.datetime(2025, 7, 6, 11, 6, 0, 524350), 'updated_at': datetime.datetime(2025, 7, 6, 11, 6, 0, 524350), 'excluded': False}, {'table': 'cron_log', 'db': 'ADMIN', 'field': 'cron_desc', 'pk': False, 'type': 'VARCHAR(200)', 'nullable': False, 'default': None, 'autoincrement': None, 'comment': 'Decription', 'computed': None, 'fk': False, 'referred_table': None, 'referred_column': None, 'user_id': 1, 'created_at': datetime.datetime(2025, 7, 6, 11, 6, 0, 524350), 'updated_at': datetime.datetime(2025, 7, 6, 11, 6, 0, 524350), 'excluded': False}, {'table': 'cron_log', 'db': 'ADMIN', 'field': 'api', 'pk': False, 'type': 'VARCHAR(200)', 'nullable': False, 'default': None, 'autoincrement': None, 'comment': 'API', 'computed': None, 'fk': False, 'referred_table': None, 'referred_column': None, 'user_id': 1, 'created_at': datetime.datetime(2025, 7, 6, 11, 6, 0, 524350), 'updated_at': datetime.datetime(2025, 7, 6, 11, 6, 0, 524350), 'excluded': False}, {'table': 'cron_log', 'db': 'ADMIN', 'field': 'start_at', 'pk': False, 'type': 'DATETIME', 'nullable': True, 'default': None, 'autoincrement': None, 'comment': 'Job Start', 'computed': None, 'fk': False, 'referred_table': None, 'referred_column': None, 'user_id': 1, 'created_at': datetime.datetime(2025, 7, 6, 11, 6, 0, 524350), 'updated_at': datetime.datetime(2025, 7, 6, 11, 6, 0, 524350), 'excluded': False}, {'table': 'cron_log', 'db': 'ADMIN', 'field': 'end_at', 'pk': False, 'type': 'DATETIME', 'nullable': True, 'default': None, 'autoincrement': None, 'comment': 'Job End', 'computed': None, 'fk': False, 'referred_table': None, 'referred_column': None, 'user_id': 1, 'created_at': datetime.datetime(2025, 7, 6, 11, 6, 0, 524350), 'updated_at': datetime.datetime(2025, 7, 6, 11, 6, 0, 524350), 'excluded': False}, {'table': 'cron_log', 'db': 'ADMIN', 'field': 'success', 'pk': False, 'type': 'BOOLEAN', 'nullable': True, 'default': True, 'autoincrement': None, 'comment': 'Success', 'computed': None, 'fk': False, 'referred_table': None, 'referred_column': None, 'user_id': 1, 'created_at': datetime.datetime(2025, 7, 6, 11, 6, 0, 524350), 'updated_at': datetime.datetime(2025, 7, 6, 11, 6, 0, 524350), 'excluded': False}, {'table': 'cron_log', 'db': 'ADMIN', 'field': 'cron_msg', 'pk': False, 'type': 'TEXT', 'nullable': False, 'default': None, 'autoincrement': None, 'comment': 'Message', 'computed': None, 'fk': False, 'referred_table': None, 'referred_column': None, 'user_id': 1, 'created_at': datetime.datetime(2025, 7, 6, 11, 6, 0, 524350), 'updated_at': datetime.datetime(2025, 7, 6, 11, 6, 0, 524350), 'excluded': False}, {'table': 'cron_log', 'db': 'ADMIN', 'field': 'app_id', 'pk': False, 'type': 'INTEGER', 'nullable': True, 'default': None, 'autoincrement': None, 'comment': 'App ID', 'computed': None, 'fk': True, 'referred_table': 'app', 'referred_column': 'app_id', 'user_id': 1, 'created_at': datetime.datetime(2025, 7, 6, 11, 6, 0, 524350), 'updated_at': datetime.datetime(2025, 7, 6, 11, 6, 0, 524350), 'excluded': False}, {'table': 'cron_log', 'db': 'ADMIN', 'field': 'db', 'pk': False, 'type': 'VARCHAR(200)', 'nullable': True, 'default': None, 'autoincrement': None, 'comment': 'Database', 'computed': None, 'fk': False, 'referred_table': None, 'referred_column': None, 'user_id': 1, 'created_at': datetime.datetime(2025, 7, 6, 11, 6, 0, 524350), 'updated_at': datetime.datetime(2025, 7, 6, 11, 6, 0, 524350), 'excluded': False}, {'table': 'cron_log', 'db': 'ADMIN', 'field': 'table', 'pk': False, 'type': 'VARCHAR(50)', 'nullable': True, 'default': None, 'autoincrement': None, 'comment': 'Table', 'computed': None, 'fk': False, 'referred_table': None, 'referred_column': None, 'user_id': 1, 'created_at': datetime.datetime(2025, 7, 6, 11, 6, 0, 524350), 'updated_at': datetime.datetime(2025, 7, 6, 11, 6, 0, 524350), 'excluded': False}, {'table': 'cron_log', 'db': 'ADMIN', 'field': 'created_at', 'pk': False, 'type': 'DATETIME', 'nullable': True, 'default': None, 'autoincrement': None, 'comment': 'Created at', 'computed': None, 'fk': False, 'referred_table': None, 'referred_column': None, 'user_id': 1, 'created_at': datetime.datetime(2025, 7, 6, 11, 6, 0, 524350), 'updated_at': datetime.datetime(2025, 7, 6, 11, 6, 0, 524350), 'excluded': False}, {'table': 'cron_log', 'db': 'ADMIN', 'field': 'updated_at', 'pk': False, 'type': 'DATETIME', 'nullable': True, 'default': None, 'autoincrement': None, 'comment': 'Updated at', 'computed': None, 'fk': False, 'referred_table': None, 'referred_column': None, 'user_id': 1, 'created_at': datetime.datetime(2025, 7, 6, 11, 6, 0, 524350), 'updated_at': datetime.datetime(2025, 7, 6, 11, 6, 0, 524350), 'excluded': False}, {'table': 'cron_log', 'db': 'ADMIN', 'field': 'excluded', 'pk': False, 'type': 'BOOLEAN', 'nullable': True, 'default': False, 'autoincrement': None, 'comment': 'Excluded', 'computed': None, 'fk': False, 'referred_table': None, 'referred_column': None, 'user_id': 1, 'created_at': datetime.datetime(2025, 7, 6, 11, 6, 0, 524350), 'updated_at': datetime.datetime(2025, 7, 6, 11, 6, 0, 524350), 'excluded': False}]}\n"
     ]
    }
   ],
   "source": [
    "print(_data)"
   ]
  },
  {
   "cell_type": "code",
   "execution_count": 180,
   "metadata": {},
   "outputs": [
    {
     "name": "stdout",
     "output_type": "stream",
     "text": [
      "table ...\n",
      "cron None 1 rows updated\n",
      "cron_log None 1 rows updated\n",
      "translate_table ...\n",
      "cron None 1 rows updated\n",
      "cron_log None 1 rows updated\n",
      "translate_table_field ...\n",
      "cron cron_id 1 rows updated\n",
      "cron cron 1 rows updated\n",
      "cron cron_desc 1 rows updated\n",
      "cron api 1 rows updated\n",
      "translate_table_field 1 rows inserted\n",
      "translate_table_field 1 rows inserted\n",
      "translate_table_field 1 rows inserted\n",
      "cron active 1 rows updated\n",
      "cron created_at 1 rows updated\n",
      "cron updated_at 1 rows updated\n",
      "cron excluded 1 rows updated\n",
      "cron_log cron_log_id 1 rows updated\n",
      "cron_log cron_id 1 rows updated\n",
      "cron_log cron 1 rows updated\n",
      "cron_log cron_desc 1 rows updated\n",
      "cron_log api 1 rows updated\n",
      "cron_log start_at 1 rows updated\n",
      "cron_log end_at 1 rows updated\n",
      "cron_log success 1 rows updated\n",
      "cron_log cron_msg 1 rows updated\n",
      "translate_table_field 1 rows inserted\n",
      "translate_table_field 1 rows inserted\n",
      "translate_table_field 1 rows inserted\n",
      "cron_log created_at 1 rows updated\n",
      "cron_log updated_at 1 rows updated\n",
      "cron_log excluded 1 rows updated\n",
      "table_schema ...\n",
      "cron cron_id 1 rows updated\n",
      "cron cron 1 rows updated\n",
      "cron cron_desc 1 rows updated\n",
      "cron api 1 rows updated\n",
      "table_schema 1 rows inserted\n",
      "table_schema 1 rows inserted\n",
      "table_schema 1 rows inserted\n",
      "cron active 1 rows updated\n",
      "cron created_at 1 rows updated\n",
      "cron updated_at 1 rows updated\n",
      "cron excluded 1 rows updated\n",
      "cron_log cron_log_id 1 rows updated\n",
      "cron_log cron_id 1 rows updated\n",
      "cron_log cron 1 rows updated\n",
      "cron_log cron_desc 1 rows updated\n",
      "cron_log api 1 rows updated\n",
      "cron_log start_at 1 rows updated\n",
      "cron_log end_at 1 rows updated\n",
      "cron_log success 1 rows updated\n",
      "cron_log cron_msg 1 rows updated\n",
      "table_schema 1 rows inserted\n",
      "table_schema 1 rows inserted\n",
      "table_schema 1 rows inserted\n",
      "cron_log created_at 1 rows updated\n",
      "cron_log updated_at 1 rows updated\n",
      "cron_log excluded 1 rows updated\n"
     ]
    }
   ],
   "source": [
    "chk_first = True\n",
    "for table in _data:\n",
    "    print(table, '...')\n",
    "    tbl = _Table(table, metadata, autoload_with = engine)\n",
    "    sql = delete(tbl).where(tbl.c.db == database)\n",
    "    with engine.connect() as conn_admin:\n",
    "        if chk_first == True:\n",
    "            for d in _data.get(table):\n",
    "                sql = select(tbl.c)\\\n",
    "                    .select_from(tbl)\\\n",
    "                    .where(and_(\n",
    "                        tbl.c.db == database,\n",
    "                        tbl.c.table == d.get('table')\n",
    "                    ))\n",
    "                if table in ['translate_table_field', 'table_schema']:\n",
    "                    sql = select(tbl.c)\\\n",
    "                        .select_from(tbl)\\\n",
    "                        .where(and_(\n",
    "                            tbl.c.db == database,\n",
    "                            tbl.c.table == d.get('table'),\n",
    "                            tbl.c.field == d.get('field')\n",
    "                        ))\n",
    "                _curr = conn_admin.execute(sql).fetchone()\n",
    "                if _curr:\n",
    "                    # print('_curr:', _curr)\n",
    "                    sql = update(tbl)\\\n",
    "                        .where(and_(\n",
    "                            tbl.c.db == database,\n",
    "                            tbl.c.table == d.get('table')\n",
    "                        ))\\\n",
    "                        .values(d)\n",
    "                    if table in ['translate_table_field', 'table_schema']:\n",
    "                        sql = update(tbl)\\\n",
    "                            .where(and_(\n",
    "                                tbl.c.db == database,\n",
    "                                tbl.c.table == d.get('table'),\n",
    "                                tbl.c.field == d.get('field')\n",
    "                            )).values(d)\n",
    "                    result = conn_admin.execute(sql)\n",
    "                    print(d.get('table'), d.get('field'), result.rowcount, 'rows updated')\n",
    "                    result.close()\n",
    "                else:\n",
    "                    sql = insert(tbl).values(d)\n",
    "                    result = conn_admin.execute(sql)\n",
    "                    print(table, result.rowcount, 'rows inserted')\n",
    "                    result.close()\n",
    "        else:\n",
    "            result = conn_admin.execute(sql)\n",
    "            print(table, result.rowcount, 'rows deleted')\n",
    "            result.close()\n",
    "            sql = insert(tbl).values(_data.get(table))\n",
    "            result = conn_admin.execute(sql)\n",
    "            print(table, result.rowcount, 'rows inserted')\n",
    "            result.close()\n",
    "        conn_admin.commit()\n",
    "        conn_admin.close()"
   ]
  },
  {
   "attachments": {},
   "cell_type": "markdown",
   "metadata": {},
   "source": [
    "# COMMIT"
   ]
  },
  {
   "cell_type": "code",
   "execution_count": 181,
   "metadata": {
    "execution": {
     "iopub.execute_input": "2021-04-10T14:22:04.514958Z",
     "iopub.status.busy": "2021-04-10T14:22:04.514958Z",
     "iopub.status.idle": "2021-04-10T14:22:04.522695Z",
     "shell.execute_reply": "2021-04-10T14:22:04.521416Z",
     "shell.execute_reply.started": "2021-04-10T14:22:04.514958Z"
    }
   },
   "outputs": [],
   "source": [
    "commit = True\n",
    "#session.rollback()"
   ]
  },
  {
   "cell_type": "code",
   "execution_count": 182,
   "metadata": {
    "ExecuteTime": {
     "end_time": "2020-09-10T15:37:44.939064Z",
     "start_time": "2020-09-10T15:37:42.766969Z"
    },
    "execution": {
     "iopub.execute_input": "2021-04-10T14:22:06.524948Z",
     "iopub.status.busy": "2021-04-10T14:22:06.524948Z",
     "iopub.status.idle": "2021-04-10T14:22:06.552418Z",
     "shell.execute_reply": "2021-04-10T14:22:06.550950Z",
     "shell.execute_reply.started": "2021-04-10T14:22:06.524948Z"
    }
   },
   "outputs": [],
   "source": [
    "try:\n",
    "    if commit == True:\n",
    "        session.commit()\n",
    "except Exception as e:\n",
    "    print(str(e))"
   ]
  },
  {
   "attachments": {},
   "cell_type": "markdown",
   "metadata": {},
   "source": [
    "# CONFIG INTERFACE"
   ]
  },
  {
   "cell_type": "code",
   "execution_count": 183,
   "metadata": {},
   "outputs": [],
   "source": [
    "dash_conf = {\n",
    "    \"label\": \"dashboard\",\n",
    "    \"tooltip\": \"dashboard_desc\",\n",
    "    \"load_items\": {\n",
    "        \"table\": \"dashboard\",\n",
    "        \"tables\": [\"dashboard\"]\n",
    "    }\n",
    "}\n",
    "etl_conf = {\n",
    "    \"label\": \"etl_report_base\",\n",
    "    \"tooltip\": \"etl_report_base_desc\",\n",
    "    \"load_items\": {\n",
    "        \"table\": \"etl_report_base\",\n",
    "        \"tables\": [\"etl_report_base\"]\n",
    "    }\n",
    "}\n",
    "task_conf = {\n",
    "    \"label\": \"etl_report_base\",\n",
    "    \"tooltip\": \"etl_report_base_desc\",\n",
    "    \"load_items\": {\n",
    "        \"table\": \"etl_report_base\",\n",
    "        \"tables\": [\"etl_report_base\"]\n",
    "    }\n",
    "}\n",
    "\n",
    "cron_conf = {\n",
    "    \"callApi\": True,\n",
    "    \"api\": \"cron\",\n",
    "    \"tooltip\": \"Execute Job\",\n",
    "    \"icon\": \"play\",\n",
    "}"
   ]
  },
  {
   "cell_type": "code",
   "execution_count": 184,
   "metadata": {
    "ExecuteTime": {
     "end_time": "2020-09-10T15:37:58.148853Z",
     "start_time": "2020-09-10T15:37:58.141858Z"
    },
    "code_folding": [],
    "execution": {
     "iopub.execute_input": "2021-04-09T13:03:38.571597Z",
     "iopub.status.busy": "2021-04-09T13:03:38.571597Z",
     "iopub.status.idle": "2021-04-09T13:03:38.593119Z",
     "shell.execute_reply": "2021-04-09T13:03:38.592119Z",
     "shell.execute_reply.started": "2021-04-09T13:03:38.571597Z"
    }
   },
   "outputs": [],
   "source": [
    "interface_conf = {\n",
    "    'Dashboards': {\n",
    "        'menu_icon': 'document-report',\n",
    "        'menu_order': 0,\n",
    "        'active': True,\n",
    "        'menu_config': json.dumps(dash_conf),\n",
    "        'tables': [\n",
    "            'dashboard'\n",
    "        ]\n",
    "    },\n",
    "    'Admin': {\n",
    "        'menu_icon': 'web',\n",
    "        'menu_order': 1,\n",
    "        'active': True,\n",
    "        'tables': [\n",
    "            'app',\n",
    "            'menu',\n",
    "            'role',\n",
    "            'user',\n",
    "            'user_log',\n",
    "            'custom_table',\n",
    "            'custom_form',\n",
    "            'table',\n",
    "        ]\n",
    "    },\n",
    "    'Params':{\n",
    "        'menu_icon': 'adjustments',\n",
    "        'menu_order': 2,\n",
    "        'active': True,\n",
    "        'tables': [\n",
    "            'lang'\n",
    "        ]\n",
    "    },\n",
    "    'DB | ETL | Report | Quality':{\n",
    "        'menu_icon': 'circle-stack',\n",
    "        'menu_order': 3,\n",
    "        'active': False,\n",
    "        #'menu_config': json.dumps(etl_conf),\n",
    "        'tables': [\n",
    "            {'table': 'periodicity', 'active': False}, \n",
    "            'etl_report_base',\n",
    "            'manage_query',\n",
    "            {'table': 'input_type', 'active': False},\n",
    "            {'table': 'source_type', 'active': False},\n",
    "            {'table': 'etl_rbase_input', 'active': False},\n",
    "            {'table': 'output_type', 'active': False},\n",
    "            {'table': 'etl_rbase_output', 'active': False},\n",
    "            {'table': 'etl_rb_output_field', 'active': False}, \n",
    "            {'table': 'etl_rbase_quality', 'active': False},\n",
    "            {'table': 'etl_rb_reconcilia', 'active': False},\n",
    "            {'table': 'etl_rb_reconc_dtail', 'active': False}, \n",
    "            {'table': 'export_type', 'active': False},\n",
    "            {'table': 'etl_rbase_export', 'active': False},\n",
    "            {'table': 'etl_rb_exp_dtail', 'active': False}, \n",
    "            {'table': 'etl_report_base_log', 'active': False},\n",
    "            {'table': 'etl_rbase_notify', 'active': False},\n",
    "            {'table': 'etl_rbase_backup', 'active': False},\n",
    "            {'table': 'etl_rbase_script', 'active': False}\n",
    "        ]\n",
    "    },\n",
    "    'Tasks':{\n",
    "        'menu_icon': 'calendar-days',\n",
    "        '_menu_icon': 'rectangle-stack',\n",
    "        'menu_order': 4,\n",
    "        'active': False,\n",
    "        # 'menu_config': json.dumps(task_conf),\n",
    "        'tables': [\n",
    "            {'table': 'calendar', 'active': False},\n",
    "            {'table': 'task_status', 'active': False},\n",
    "            {'table': 'repeat_type', 'active': False},\n",
    "            {'table': 'task', 'active': True}, \n",
    "            {'table': 'task_track', 'active': False}\n",
    "        ]\n",
    "    },\n",
    "    'Jobs Scheduling':{\n",
    "        'menu_icon': 'clock',\n",
    "        'menu_order': 5,\n",
    "        'active': True,\n",
    "        #'menu_config': json.dumps(cron_conf),\n",
    "        'tables': [\n",
    "            'cron', \n",
    "            {'table': 'cron_log', 'active': False}\n",
    "        ]\n",
    "    },\n",
    "}"
   ]
  },
  {
   "cell_type": "code",
   "execution_count": 185,
   "id": "54482cb2",
   "metadata": {},
   "outputs": [],
   "source": [
    "def _run(interface_conf):\n",
    "    #print(interface_conf)\n",
    "    tbl_app = _Table('app', metadata, autoload_with = engine)\n",
    "    tbl_menu = _Table('menu', metadata, autoload_with = engine)\n",
    "    tbl_table = _Table('table', metadata, autoload_with = engine)\n",
    "    tbl_menu_table = _Table('menu_table', metadata, autoload_with = engine)\n",
    "    sql = select(tbl_app.c).select_from(tbl_app).where(tbl_app.c.db == database)\n",
    "    now = datetime.datetime.now()\n",
    "    with engine.connect() as conn_admin:\n",
    "        app = conn_admin.execute(sql).fetchone()\n",
    "        for m in interface_conf:\n",
    "            #print(1, m)\n",
    "            if interface_conf[m].get('active') == True:\n",
    "                sql = select(tbl_menu.c)\\\n",
    "                        .select_from(tbl_menu)\\\n",
    "                        .where(and_(\n",
    "                            tbl_menu.c.menu == m,\n",
    "                            tbl_menu.c.app_id == app.app_id\n",
    "                        ))\n",
    "                menu = conn_admin.execute(sql).fetchone()\n",
    "                #print(2, menu)\n",
    "                if menu:\n",
    "                    print(m, menu.menu_id)\n",
    "                else:\n",
    "                    data = {\n",
    "                        'menu':  m,\n",
    "                        'menu_desc': m,\n",
    "                        'menu_icon': interface_conf[m].get('menu_icon'),\n",
    "                        'active': interface_conf[m].get('active'),\n",
    "                        'menu_order': interface_conf[m].get('menu_order'),\n",
    "                        'menu_config': interface_conf[m].get('menu_config'),\n",
    "                        'app_id': app.app_id,\n",
    "                        'user_id': 1,\n",
    "                        'created_at': now,\n",
    "                        'updated_at': now,\n",
    "                        'excluded': False\n",
    "                    }\n",
    "                    try:\n",
    "                        sql2 = insert(tbl_menu).values(data)\n",
    "                        result = conn_admin.execute(sql2)\n",
    "                        result.close()\n",
    "                    except Exception as _err:\n",
    "                        #print(str(_err))\n",
    "                        if re.match(r'UniqueViolation', str(_err)) and re.match(r'postgres', str(engine.url)):\n",
    "                            print(1.5, str(engine.url), str(_err))\n",
    "                            #conn.rollback()\n",
    "                            _sql = \"\"\"SELECT setval(pg_get_serial_sequence('\"{table}\"', '{field}'), coalesce(max(\"{field}\") + 1, 1), false) \n",
    "                                 FROM \"{table}\";\"\"\".format(table = 'menu', field = 'menu_id')\n",
    "                            _sql = \"\"\"SELECT SETVAL(PG_GET_SERIAL_SEQUENCE('{table}', '{field}'), NEXTVAL(PG_GET_SERIAL_SEQUENCE('{table}', '{field}')), FALSE)\"\"\".format(table = 'menu', field = 'menu_id')\n",
    "                            print(_sql)\n",
    "                            conn_admin.execute(_sql)\n",
    "                            result = conn_admin.execute(sql2)\n",
    "                            result.close()                        \n",
    "                    menu = conn_admin.execute(sql).fetchone()  \n",
    "                    print(m, 'Adicionado: ', menu.menu_id)\n",
    "                # MENU TABELA\n",
    "                if interface_conf[m].get('tables'):\n",
    "                    for t in interface_conf[m].get('tables'):\n",
    "                        _active = True\n",
    "                        if type(t) == dict:\n",
    "                            _tbl = t.get('table')\n",
    "                            _active = t.get('active')\n",
    "                        else:\n",
    "                            _tbl = t\n",
    "                        sql = select(tbl_table.c)\\\n",
    "                                .select_from(tbl_table)\\\n",
    "                                .where(and_(\n",
    "                                    tbl_table.c.table == _tbl,\n",
    "                                    tbl_table.c.db == database\n",
    "                                ))\n",
    "                        table = conn_admin.execute(sql).fetchone()\n",
    "                        # print(_tbl, database, table)\n",
    "                        try:\n",
    "                            # print(_tbl, database, table, table)\n",
    "                            sql = select(tbl_menu_table.c)\\\n",
    "                                    .select_from(tbl_menu_table)\\\n",
    "                                    .where(and_(\n",
    "                                        tbl_menu_table.c.table_id == table.table_id,\n",
    "                                        tbl_menu_table.c.menu_id == menu.menu_id,\n",
    "                                        tbl_menu_table.c.app_id == app.app_id\n",
    "                                    ))\n",
    "                            menu_table = conn_admin.execute(sql).fetchone()\n",
    "                            if not menu_table:\n",
    "                                data = {\n",
    "                                    'menu_id': menu.menu_id,\n",
    "                                    'table_id': table.table_id,\n",
    "                                    'app_id': app.app_id,\n",
    "                                    'active': _active,\n",
    "                                    'user_id': 1,\n",
    "                                    'created_at': now,\n",
    "                                    'updated_at': now,\n",
    "                                    'excluded': False\n",
    "                                }\n",
    "                                sql2 = insert(tbl_menu_table).values(data)\n",
    "                                try:\n",
    "                                    result = conn_admin.execute(sql2)\n",
    "                                except Exception as _err:\n",
    "                                    if type(_err).__name__ in ['IntegrityError', 'UniqueViolation'] and re.match(r'postgres', str(engine.url)):\n",
    "                                        #print(str(engine.url), str(_err))\n",
    "                                        _sql = \"\"\"SELECT setval(pg_get_serial_sequence('{table}', '{field}'), coalesce(max(\"{field}\") + 1, 1), false)\\nFROM \"{table}\";\"\"\".format(table = 'menu_table', field = 'menu_table_id')\n",
    "                                        _sql = \"\"\"SELECT SETVAL(PG_GET_SERIAL_SEQUENCE('{table}', '{field}'), NEXTVAL(PG_GET_SERIAL_SEQUENCE('{table}', '{field}')), FALSE)\"\"\".format(table = 'menu_table', field = 'menu_table_id')\n",
    "                                        print(_sql)\n",
    "                                        conn_admin.rollback()\n",
    "                                        conn_admin.execute(_sql)\n",
    "                                        result = conn_admin.execute(sql2)\n",
    "                                result.close()\n",
    "                        except Exception as e:\n",
    "                            print(_tbl, table, str(e))\n",
    "        conn_admin.commit()"
   ]
  },
  {
   "cell_type": "code",
   "execution_count": 186,
   "id": "59f83afb",
   "metadata": {},
   "outputs": [
    {
     "name": "stdout",
     "output_type": "stream",
     "text": [
      "Dashboards 4\n",
      "Admin 1\n",
      "Params 2\n",
      "Jobs Scheduling 11\n"
     ]
    }
   ],
   "source": [
    "_run(interface_conf)"
   ]
  },
  {
   "cell_type": "markdown",
   "metadata": {},
   "source": [
    "# SYNC CURRENT DB TABLES / FROMS CONF"
   ]
  },
  {
   "cell_type": "markdown",
   "metadata": {},
   "source": [
    "uses the developer configuratio / contumization of the tables and views to putit avaliable for future instalations in diferent machines"
   ]
  },
  {
   "cell_type": "code",
   "execution_count": 187,
   "metadata": {},
   "outputs": [],
   "source": [
    "tables = Base.metadata.tables"
   ]
  },
  {
   "cell_type": "code",
   "execution_count": 188,
   "metadata": {},
   "outputs": [
    {
     "name": "stdout",
     "output_type": "stream",
     "text": [
      "(28, 9)\n",
      "(24, 9)\n"
     ]
    }
   ],
   "source": [
    "_tables_conf = ['custom_table', 'custom_form']\n",
    "with engine.connect() as conn:\n",
    "    for _table in _tables_conf:\n",
    "        _sql = f\"\"\"SELECT * FROM {_table} WHERE db = '{database}' AND excluded IS FALSE\"\"\"\n",
    "        _df = pd.read_sql(_sql, con = conn)\n",
    "        if _df.shape[0] > 0:\n",
    "            _df.to_json(f'{_table}.json', orient = 'records', force_ascii = False)\n",
    "            print(_df.shape)"
   ]
  },
  {
   "cell_type": "markdown",
   "metadata": {},
   "source": [
    "# USE SYNCED TABLE / FROMS CONF"
   ]
  },
  {
   "cell_type": "code",
   "execution_count": null,
   "metadata": {},
   "outputs": [],
   "source": [
    "_tables_conf = ['custom_table', 'custom_form']\n",
    "_tbls = {}\n",
    "with engine.connect() as conn:\n",
    "    for _table in _tables_conf:\n",
    "        try:\n",
    "            _df = pd.read_json(f'{_table}.json')\n",
    "            #print(_df.shape[0])\n",
    "            if _df.shape[0] > 0:\n",
    "                if not _table in _tbls:\n",
    "                    _tbls[_table] = _Table(_table, metadata, autoload_with = engine)\n",
    "                for _,r in _df.iterrows():\n",
    "                    #print(r['table'], list(tables))\n",
    "                    if r['table'] in list(tables):\n",
    "                        print(r['table'])\n",
    "                        _data = dict(r)\n",
    "                        _data['user_id'] = 1\n",
    "                        _data['app_id'] = 1\n",
    "                        _data['created_at'] = now \n",
    "                        _data['updated_at'] = now \n",
    "                        _data['db'] = database\n",
    "                        del _data[f'{_table}_id']\n",
    "                        # UPSERT INTO THE NEW DB\n",
    "                        sql = select(_tbls[_table].c)\\\n",
    "                                .select_from(_tbls[_table])\\\n",
    "                                .where(and_(\n",
    "                                    _tbls[_table].c['table'] == r['table'],\n",
    "                                    _tbls[_table].c.db == database,\n",
    "                                    _tbls[_table].c.app_id == 1\n",
    "                                ))\n",
    "                        _tdata = conn.execute(sql).fetchone()\n",
    "                        if _tdata:\n",
    "                            #_data[f'{_table}_id'] = _tdata[f'{_table}_id']\n",
    "                            sql = update(_tbls[_table])\\\n",
    "                                .where(and_(\n",
    "                                    _tbls[_table].c.db == database,\n",
    "                                    _tbls[_table].c.table == _data.get('table'),\n",
    "                                    #_tbls[_table].c[f'{_table}_id'] == _tdata[f'{_table}_id'],\n",
    "                                )).values(_data)\n",
    "                            result = conn.execute(sql)\n",
    "                            result.close()\n",
    "                        else:\n",
    "                            sql = insert(_tbls[_table]).values(_data)\n",
    "                            result = conn.execute(sql)\n",
    "                            result.close()\n",
    "        except Exception as _err:\n",
    "            print(str(_err))\n",
    "    conn.commit()\n",
    "    conn.close()"
   ]
  },
  {
   "cell_type": "markdown",
   "metadata": {},
   "source": [
    "# SYNC TABLES FROM ANOTHER DB"
   ]
  },
  {
   "cell_type": "code",
   "execution_count": null,
   "metadata": {},
   "outputs": [],
   "source": [
    "#session.close()\n",
    "tables = []\n",
    "tables_props = {}\n",
    "for cls in Base.__subclasses__():\n",
    "    tables.append(cls.__tablename__)\n",
    "    tables_props[cls.__tablename__] = list(map(lambda c: c.name, cls.__table__.columns))\n",
    "    #print(cls.__tablename__, tables_props[cls.__tablename__])\n",
    "print(tables)"
   ]
  },
  {
   "cell_type": "code",
   "execution_count": null,
   "metadata": {},
   "outputs": [],
   "source": [
    "database_org = 'ADMIN_PROD'\n",
    "db_conf = {\n",
    "    \"drivername\": \"sqlite\",\n",
    "    \"database\": \"database/{db}.db\".format(db = database_org)\n",
    "}\n",
    "url = URL.create(**db_conf)\n",
    "engine_org = create_engine(url, echo = False)\n",
    "metadata_org = MetaData()\n",
    "engine_org.url, engine.url"
   ]
  },
  {
   "cell_type": "code",
   "execution_count": null,
   "metadata": {},
   "outputs": [],
   "source": [
    "_skip_table = ['user_log', 'etl_report_base_log']\n",
    "_only_table = ['role', 'user', 'user_role', 'role_app', 'role_app_menu', 'role_app_menu_table', 'role_row_level_access', 'row_level_access']"
   ]
  },
  {
   "cell_type": "code",
   "execution_count": null,
   "metadata": {},
   "outputs": [],
   "source": [
    "for table in tables:\n",
    "    if not _skip_table:\n",
    "        pass\n",
    "    elif not isinstance(_skip_table, list):\n",
    "        pass\n",
    "    elif len(_skip_table) == 0:\n",
    "        pass\n",
    "    elif table in _skip_table:\n",
    "        continue\n",
    "    if not _only_table:\n",
    "        pass\n",
    "    elif not isinstance(_only_table, list):\n",
    "        pass\n",
    "    elif len(_only_table) == 0:\n",
    "        pass\n",
    "    elif table not in _only_table:\n",
    "        continue\n",
    "    try:\n",
    "        tbl_dest = _Table(table, metadata, autoload_with = engine)\n",
    "        tbl_org = _Table(table, metadata_org, autoload_with = engine_org)\n",
    "        _data = []\n",
    "        with engine_org.connect() as conn_org:\n",
    "            _sql = select(tbl_org.c).select_from(tbl_org)\n",
    "            if 'excluded' in tables_props[table]:\n",
    "                _sql = _sql.where(and_(tbl_org.c.excluded == False))\n",
    "            result = conn_org.execute(_sql)\n",
    "            _data = result.mappings().all()\n",
    "            _data = list(map(lambda d: dict(d), _data))\n",
    "            result.close()\n",
    "            conn_org.close()\n",
    "        _id = str(tbl_dest.primary_key.columns[0]).replace(f'{table}.', '')\n",
    "        print(table, len(_data))\n",
    "        with engine.connect() as conn:\n",
    "            for d in _data:\n",
    "                try:\n",
    "                    _d =  copy.deepcopy(d)\n",
    "                    if not 'db' in d:\n",
    "                        pass\n",
    "                    elif _d['db'] == database_org:\n",
    "                        _d['db'] = database\n",
    "                    if not 'database' in d:\n",
    "                        pass\n",
    "                    elif _d['database'] == database_org:\n",
    "                        _d['database'] = database\n",
    "                    for col in d:\n",
    "                        if col not in tables_props[table]:\n",
    "                            #print(table, col)\n",
    "                            del _d[col]\n",
    "                    sql = select(tbl_dest.c)\\\n",
    "                        .select_from(tbl_dest)\\\n",
    "                        .where(and_(tbl_dest.c[_id] == _d[_id]))\n",
    "                    _curr = conn.execute(sql).fetchone()\n",
    "                    sql = insert(tbl_dest).values(_d)\n",
    "                    if _curr:\n",
    "                        #print('_curr:', _curr)\n",
    "                        sql = update(tbl_dest)\\\n",
    "                            .where(and_(tbl_dest.c[_id] == _d[_id]))\\\n",
    "                            .values(_d)\n",
    "                    result = conn.execute(sql)\n",
    "                    #print(table, result.rowcount, 'rows inserted')\n",
    "                except Exception as e:\n",
    "                    print(table, str(e))\n",
    "            result.close()\n",
    "            conn.commit()\n",
    "            conn.close()\n",
    "    except Exception as e:\n",
    "        print('Err:', table, str(e))\n",
    "        #break"
   ]
  },
  {
   "cell_type": "markdown",
   "metadata": {},
   "source": [
    "Aa123456!"
   ]
  },
  {
   "cell_type": "code",
   "execution_count": null,
   "metadata": {},
   "outputs": [],
   "source": [
    "engine_org.dispose()"
   ]
  },
  {
   "cell_type": "code",
   "execution_count": null,
   "metadata": {},
   "outputs": [],
   "source": [
    "with engine.connect() as conn:\n",
    "    _df = pd.read_sql('SELECT *FROM \"table\"', con = engine)\n",
    "    print(_df.shape)"
   ]
  },
  {
   "cell_type": "code",
   "execution_count": null,
   "metadata": {},
   "outputs": [],
   "source": [
    "_df.head()"
   ]
  },
  {
   "cell_type": "code",
   "execution_count": null,
   "metadata": {},
   "outputs": [],
   "source": [
    "import os"
   ]
  },
  {
   "cell_type": "code",
   "execution_count": null,
   "metadata": {},
   "outputs": [],
   "source": [
    "os.environ['HTTP_PROXY'] = ''\n",
    "os.environ['HTTPS_PROXY'] = ''"
   ]
  },
  {
   "cell_type": "code",
   "execution_count": null,
   "metadata": {},
   "outputs": [],
   "source": [
    "%pip install duckdb===1.0.0"
   ]
  },
  {
   "cell_type": "code",
   "execution_count": null,
   "metadata": {},
   "outputs": [],
   "source": [
    "from dotenv import load_dotenv\n",
    "load_dotenv()\n",
    "import duckdb"
   ]
  },
  {
   "cell_type": "code",
   "execution_count": null,
   "metadata": {},
   "outputs": [],
   "source": [
    "\n",
    "#conn = duckdb.connect('md:')\n",
    "conn = duckdb.connect()\n",
    "conn.execute('INSTALL motherduck')"
   ]
  },
  {
   "cell_type": "code",
   "execution_count": null,
   "metadata": {},
   "outputs": [],
   "source": [
    "conn.sql(\"SHOW DATABASES\").show()"
   ]
  },
  {
   "cell_type": "code",
   "execution_count": null,
   "metadata": {},
   "outputs": [],
   "source": []
  }
 ],
 "metadata": {
  "kernelspec": {
   "display_name": "Python 3 (ipykernel)",
   "language": "python",
   "name": "python3"
  },
  "language_info": {
   "codemirror_mode": {
    "name": "ipython",
    "version": 3
   },
   "file_extension": ".py",
   "mimetype": "text/x-python",
   "name": "python",
   "nbconvert_exporter": "python",
   "pygments_lexer": "ipython3",
   "version": "3.11.12"
  },
  "orig_nbformat": 4
 },
 "nbformat": 4,
 "nbformat_minor": 2
}
